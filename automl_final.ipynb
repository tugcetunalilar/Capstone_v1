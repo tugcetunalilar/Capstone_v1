{
 "cells": [
  {
   "cell_type": "markdown",
   "metadata": {},
   "source": [
    "# Automated ML\n",
    "\n",
    "TODO: Import Dependencies. In the cell below, import all the dependencies that you will need to complete the project."
   ]
  },
  {
   "cell_type": "code",
   "execution_count": 6,
   "metadata": {},
   "outputs": [
    {
     "name": "stdout",
     "output_type": "stream",
     "text": [
      "Requirement already up-to-date: azureml-sdk[automl,notebooks,widgets] in /anaconda/envs/azureml_py36/lib/python3.6/site-packages (1.20.0)\n",
      "\u001b[33m  WARNING: azureml-sdk 1.20.0 does not provide the extra 'widgets'\u001b[0m\n",
      "Requirement already up-to-date: azureml-train~=1.20.0 in /anaconda/envs/azureml_py36/lib/python3.6/site-packages (from azureml-sdk[automl,notebooks,widgets]) (1.20.0)\n",
      "Requirement already up-to-date: azureml-pipeline~=1.20.0 in /anaconda/envs/azureml_py36/lib/python3.6/site-packages (from azureml-sdk[automl,notebooks,widgets]) (1.20.0)\n",
      "Requirement already up-to-date: azureml-train-automl-client~=1.20.0 in /anaconda/envs/azureml_py36/lib/python3.6/site-packages (from azureml-sdk[automl,notebooks,widgets]) (1.20.0)\n",
      "Requirement already up-to-date: azureml-dataset-runtime[fuse]~=1.20.0 in /anaconda/envs/azureml_py36/lib/python3.6/site-packages (from azureml-sdk[automl,notebooks,widgets]) (1.20.0)\n",
      "Requirement already up-to-date: azureml-core~=1.20.0 in /anaconda/envs/azureml_py36/lib/python3.6/site-packages (from azureml-sdk[automl,notebooks,widgets]) (1.20.0)\n",
      "Requirement already up-to-date: azureml-train-automl~=1.20.0; extra == \"automl\" in /anaconda/envs/azureml_py36/lib/python3.6/site-packages (from azureml-sdk[automl,notebooks,widgets]) (1.20.0)\n",
      "Requirement already up-to-date: azureml-contrib-notebook~=1.20.0; extra == \"notebooks\" in /anaconda/envs/azureml_py36/lib/python3.6/site-packages (from azureml-sdk[automl,notebooks,widgets]) (1.20.0)\n",
      "Requirement already up-to-date: azureml-widgets~=1.20.0; extra == \"notebooks\" in /anaconda/envs/azureml_py36/lib/python3.6/site-packages (from azureml-sdk[automl,notebooks,widgets]) (1.20.0)\n",
      "Requirement already up-to-date: azureml-train-core~=1.20.0 in /anaconda/envs/azureml_py36/lib/python3.6/site-packages (from azureml-train~=1.20.0->azureml-sdk[automl,notebooks,widgets]) (1.20.0)\n",
      "Requirement already up-to-date: azureml-pipeline-steps~=1.20.0 in /anaconda/envs/azureml_py36/lib/python3.6/site-packages (from azureml-pipeline~=1.20.0->azureml-sdk[automl,notebooks,widgets]) (1.20.0)\n",
      "Requirement already up-to-date: azureml-pipeline-core~=1.20.0 in /anaconda/envs/azureml_py36/lib/python3.6/site-packages (from azureml-pipeline~=1.20.0->azureml-sdk[automl,notebooks,widgets]) (1.20.0)\n",
      "Requirement already up-to-date: azureml-telemetry~=1.20.0 in /anaconda/envs/azureml_py36/lib/python3.6/site-packages (from azureml-train-automl-client~=1.20.0->azureml-sdk[automl,notebooks,widgets]) (1.20.0)\n",
      "Requirement already up-to-date: azureml-automl-core~=1.20.0 in /anaconda/envs/azureml_py36/lib/python3.6/site-packages (from azureml-train-automl-client~=1.20.0->azureml-sdk[automl,notebooks,widgets]) (1.20.0)\n",
      "Requirement already up-to-date: azureml-dataprep<2.8.0a,>=2.7.0a in /anaconda/envs/azureml_py36/lib/python3.6/site-packages (from azureml-dataset-runtime[fuse]~=1.20.0->azureml-sdk[automl,notebooks,widgets]) (2.7.3)\n",
      "Requirement already up-to-date: numpy!=1.19.3; sys_platform == \"linux\" in /anaconda/envs/azureml_py36/lib/python3.6/site-packages (from azureml-dataset-runtime[fuse]~=1.20.0->azureml-sdk[automl,notebooks,widgets]) (1.19.5)\n",
      "Requirement already up-to-date: pyarrow<2.0.0,>=0.17.0 in /anaconda/envs/azureml_py36/lib/python3.6/site-packages (from azureml-dataset-runtime[fuse]~=1.20.0->azureml-sdk[automl,notebooks,widgets]) (1.0.1)\n",
      "Requirement already up-to-date: fusepy<4.0.0,>=3.0.1; extra == \"fuse\" in /anaconda/envs/azureml_py36/lib/python3.6/site-packages (from azureml-dataset-runtime[fuse]~=1.20.0->azureml-sdk[automl,notebooks,widgets]) (3.0.1)\n",
      "Requirement already up-to-date: jmespath in /anaconda/envs/azureml_py36/lib/python3.6/site-packages (from azureml-core~=1.20.0->azureml-sdk[automl,notebooks,widgets]) (0.10.0)\n",
      "Requirement already up-to-date: azure-mgmt-storage<16.0.0,>=1.5.0 in /anaconda/envs/azureml_py36/lib/python3.6/site-packages (from azureml-core~=1.20.0->azureml-sdk[automl,notebooks,widgets]) (11.2.0)\n",
      "Requirement already up-to-date: ndg-httpsclient in /anaconda/envs/azureml_py36/lib/python3.6/site-packages (from azureml-core~=1.20.0->azureml-sdk[automl,notebooks,widgets]) (0.5.1)\n",
      "Requirement already up-to-date: ruamel.yaml>=0.15.35 in /anaconda/envs/azureml_py36/lib/python3.6/site-packages (from azureml-core~=1.20.0->azureml-sdk[automl,notebooks,widgets]) (0.16.12)\n",
      "Requirement already up-to-date: jsonpickle in /anaconda/envs/azureml_py36/lib/python3.6/site-packages (from azureml-core~=1.20.0->azureml-sdk[automl,notebooks,widgets]) (1.5.0)\n",
      "Requirement already up-to-date: pathspec in /anaconda/envs/azureml_py36/lib/python3.6/site-packages (from azureml-core~=1.20.0->azureml-sdk[automl,notebooks,widgets]) (0.8.1)\n",
      "Requirement already up-to-date: azure-common>=1.1.12 in /anaconda/envs/azureml_py36/lib/python3.6/site-packages (from azureml-core~=1.20.0->azureml-sdk[automl,notebooks,widgets]) (1.1.26)\n",
      "Requirement already up-to-date: backports.tempfile in /anaconda/envs/azureml_py36/lib/python3.6/site-packages (from azureml-core~=1.20.0->azureml-sdk[automl,notebooks,widgets]) (1.0)\n",
      "Requirement already up-to-date: SecretStorage in /anaconda/envs/azureml_py36/lib/python3.6/site-packages (from azureml-core~=1.20.0->azureml-sdk[automl,notebooks,widgets]) (3.3.0)\n",
      "Requirement already up-to-date: contextlib2 in /anaconda/envs/azureml_py36/lib/python3.6/site-packages (from azureml-core~=1.20.0->azureml-sdk[automl,notebooks,widgets]) (0.6.0.post1)\n",
      "Requirement already up-to-date: PyJWT<2.0.0 in /anaconda/envs/azureml_py36/lib/python3.6/site-packages (from azureml-core~=1.20.0->azureml-sdk[automl,notebooks,widgets]) (1.7.1)\n",
      "Requirement already up-to-date: msrestazure>=0.4.33 in /anaconda/envs/azureml_py36/lib/python3.6/site-packages (from azureml-core~=1.20.0->azureml-sdk[automl,notebooks,widgets]) (0.6.4)\n",
      "Requirement already up-to-date: requests>=2.19.1 in /anaconda/envs/azureml_py36/lib/python3.6/site-packages (from azureml-core~=1.20.0->azureml-sdk[automl,notebooks,widgets]) (2.25.1)\n",
      "Requirement already up-to-date: azure-mgmt-containerregistry>=2.0.0 in /anaconda/envs/azureml_py36/lib/python3.6/site-packages (from azureml-core~=1.20.0->azureml-sdk[automl,notebooks,widgets]) (2.8.0)\n",
      "Requirement already up-to-date: urllib3>=1.23 in /anaconda/envs/azureml_py36/lib/python3.6/site-packages (from azureml-core~=1.20.0->azureml-sdk[automl,notebooks,widgets]) (1.26.2)\n",
      "Requirement already up-to-date: azure-mgmt-authorization<1.0.0,>=0.40.0 in /anaconda/envs/azureml_py36/lib/python3.6/site-packages (from azureml-core~=1.20.0->azureml-sdk[automl,notebooks,widgets]) (0.61.0)\n",
      "Requirement already up-to-date: cryptography!=1.9,!=2.0.*,!=2.1.*,!=2.2.* in /anaconda/envs/azureml_py36/lib/python3.6/site-packages (from azureml-core~=1.20.0->azureml-sdk[automl,notebooks,widgets]) (3.3.1)\n",
      "Requirement already up-to-date: msrest>=0.5.1 in /anaconda/envs/azureml_py36/lib/python3.6/site-packages (from azureml-core~=1.20.0->azureml-sdk[automl,notebooks,widgets]) (0.6.19)\n",
      "Requirement already up-to-date: azure-mgmt-keyvault<7.0.0,>=0.40.0 in /anaconda/envs/azureml_py36/lib/python3.6/site-packages (from azureml-core~=1.20.0->azureml-sdk[automl,notebooks,widgets]) (2.2.0)\n",
      "Requirement already up-to-date: adal>=1.2.0 in /anaconda/envs/azureml_py36/lib/python3.6/site-packages (from azureml-core~=1.20.0->azureml-sdk[automl,notebooks,widgets]) (1.2.6)\n",
      "Requirement already up-to-date: azure-graphrbac<1.0.0,>=0.40.0 in /anaconda/envs/azureml_py36/lib/python3.6/site-packages (from azureml-core~=1.20.0->azureml-sdk[automl,notebooks,widgets]) (0.61.1)\n",
      "Requirement already up-to-date: docker in /anaconda/envs/azureml_py36/lib/python3.6/site-packages (from azureml-core~=1.20.0->azureml-sdk[automl,notebooks,widgets]) (4.4.1)\n",
      "Requirement already up-to-date: azure-mgmt-resource<15.0.0,>=1.2.1 in /anaconda/envs/azureml_py36/lib/python3.6/site-packages (from azureml-core~=1.20.0->azureml-sdk[automl,notebooks,widgets]) (12.0.0)\n",
      "Requirement already up-to-date: pytz in /anaconda/envs/azureml_py36/lib/python3.6/site-packages (from azureml-core~=1.20.0->azureml-sdk[automl,notebooks,widgets]) (2020.5)\n",
      "Requirement already up-to-date: pyopenssl<20.0.0 in /anaconda/envs/azureml_py36/lib/python3.6/site-packages (from azureml-core~=1.20.0->azureml-sdk[automl,notebooks,widgets]) (19.1.0)\n"
     ]
    },
    {
     "name": "stdout",
     "output_type": "stream",
     "text": [
      "Requirement already up-to-date: python-dateutil>=2.7.3 in /anaconda/envs/azureml_py36/lib/python3.6/site-packages (from azureml-core~=1.20.0->azureml-sdk[automl,notebooks,widgets]) (2.8.1)\n",
      "Requirement already up-to-date: azureml-automl-runtime~=1.20.0 in /anaconda/envs/azureml_py36/lib/python3.6/site-packages (from azureml-train-automl~=1.20.0; extra == \"automl\"->azureml-sdk[automl,notebooks,widgets]) (1.20.0)\n",
      "Requirement already up-to-date: azureml-train-automl-runtime~=1.20.0 in /anaconda/envs/azureml_py36/lib/python3.6/site-packages (from azureml-train-automl~=1.20.0; extra == \"automl\"->azureml-sdk[automl,notebooks,widgets]) (1.20.0.post1)\n",
      "Requirement already up-to-date: nbconvert<6 in /anaconda/envs/azureml_py36/lib/python3.6/site-packages (from azureml-contrib-notebook~=1.20.0; extra == \"notebooks\"->azureml-sdk[automl,notebooks,widgets]) (5.6.1)\n",
      "Requirement already up-to-date: ipython in /anaconda/envs/azureml_py36/lib/python3.6/site-packages (from azureml-contrib-notebook~=1.20.0; extra == \"notebooks\"->azureml-sdk[automl,notebooks,widgets]) (7.16.1)\n",
      "Requirement already up-to-date: papermill<2 in /anaconda/envs/azureml_py36/lib/python3.6/site-packages (from azureml-contrib-notebook~=1.20.0; extra == \"notebooks\"->azureml-sdk[automl,notebooks,widgets]) (1.2.1)\n",
      "Requirement already up-to-date: ipykernel in /anaconda/envs/azureml_py36/lib/python3.6/site-packages (from azureml-contrib-notebook~=1.20.0; extra == \"notebooks\"->azureml-sdk[automl,notebooks,widgets]) (5.4.3)\n",
      "Requirement already up-to-date: ipywidgets>=7.0.0 in /anaconda/envs/azureml_py36/lib/python3.6/site-packages (from azureml-widgets~=1.20.0; extra == \"notebooks\"->azureml-sdk[automl,notebooks,widgets]) (7.6.3)\n",
      "Requirement already up-to-date: azureml-train-restclients-hyperdrive~=1.20.0 in /anaconda/envs/azureml_py36/lib/python3.6/site-packages (from azureml-train-core~=1.20.0->azureml-train~=1.20.0->azureml-sdk[automl,notebooks,widgets]) (1.20.0)\n",
      "Requirement already up-to-date: applicationinsights in /anaconda/envs/azureml_py36/lib/python3.6/site-packages (from azureml-telemetry~=1.20.0->azureml-train-automl-client~=1.20.0->azureml-sdk[automl,notebooks,widgets]) (0.11.9)\n",
      "Requirement already up-to-date: dotnetcore2<3.0.0,>=2.1.14 in /anaconda/envs/azureml_py36/lib/python3.6/site-packages (from azureml-dataprep<2.8.0a,>=2.7.0a->azureml-dataset-runtime[fuse]~=1.20.0->azureml-sdk[automl,notebooks,widgets]) (2.1.20)\n",
      "Requirement already up-to-date: azureml-dataprep-native<28.0.0,>=27.0.0 in /anaconda/envs/azureml_py36/lib/python3.6/site-packages (from azureml-dataprep<2.8.0a,>=2.7.0a->azureml-dataset-runtime[fuse]~=1.20.0->azureml-sdk[automl,notebooks,widgets]) (27.0.0)\n",
      "Requirement already up-to-date: azure-identity<1.5.0,>=1.2.0 in /anaconda/envs/azureml_py36/lib/python3.6/site-packages (from azureml-dataprep<2.8.0a,>=2.7.0a->azureml-dataset-runtime[fuse]~=1.20.0->azureml-sdk[automl,notebooks,widgets]) (1.4.1)\n",
      "Requirement already up-to-date: cloudpickle<2.0.0,>=1.1.0 in /anaconda/envs/azureml_py36/lib/python3.6/site-packages (from azureml-dataprep<2.8.0a,>=2.7.0a->azureml-dataset-runtime[fuse]~=1.20.0->azureml-sdk[automl,notebooks,widgets]) (1.6.0)\n",
      "Requirement already up-to-date: azureml-dataprep-rslex<1.6.0a,>=1.5.0dev0 in /anaconda/envs/azureml_py36/lib/python3.6/site-packages (from azureml-dataprep<2.8.0a,>=2.7.0a->azureml-dataset-runtime[fuse]~=1.20.0->azureml-sdk[automl,notebooks,widgets]) (1.5.0)\n",
      "Requirement already up-to-date: pyasn1>=0.1.1 in /anaconda/envs/azureml_py36/lib/python3.6/site-packages (from ndg-httpsclient->azureml-core~=1.20.0->azureml-sdk[automl,notebooks,widgets]) (0.4.8)\n",
      "Requirement already up-to-date: ruamel.yaml.clib>=0.1.2; platform_python_implementation == \"CPython\" and python_version < \"3.9\" in /anaconda/envs/azureml_py36/lib/python3.6/site-packages (from ruamel.yaml>=0.15.35->azureml-core~=1.20.0->azureml-sdk[automl,notebooks,widgets]) (0.2.2)\n",
      "Requirement already up-to-date: importlib-metadata; python_version < \"3.8\" in /anaconda/envs/azureml_py36/lib/python3.6/site-packages (from jsonpickle->azureml-core~=1.20.0->azureml-sdk[automl,notebooks,widgets]) (3.4.0)\n",
      "Requirement already up-to-date: backports.weakref in /anaconda/envs/azureml_py36/lib/python3.6/site-packages (from backports.tempfile->azureml-core~=1.20.0->azureml-sdk[automl,notebooks,widgets]) (1.0.post1)\n",
      "Requirement already up-to-date: jeepney>=0.6 in /anaconda/envs/azureml_py36/lib/python3.6/site-packages (from SecretStorage->azureml-core~=1.20.0->azureml-sdk[automl,notebooks,widgets]) (0.6.0)\n",
      "Requirement already up-to-date: six in /anaconda/envs/azureml_py36/lib/python3.6/site-packages (from msrestazure>=0.4.33->azureml-core~=1.20.0->azureml-sdk[automl,notebooks,widgets]) (1.15.0)\n",
      "Requirement already up-to-date: certifi>=2017.4.17 in /anaconda/envs/azureml_py36/lib/python3.6/site-packages (from requests>=2.19.1->azureml-core~=1.20.0->azureml-sdk[automl,notebooks,widgets]) (2020.12.5)\n",
      "Requirement already up-to-date: idna<3,>=2.5 in /anaconda/envs/azureml_py36/lib/python3.6/site-packages (from requests>=2.19.1->azureml-core~=1.20.0->azureml-sdk[automl,notebooks,widgets]) (2.10)\n",
      "Requirement already up-to-date: chardet<5,>=3.0.2 in /anaconda/envs/azureml_py36/lib/python3.6/site-packages (from requests>=2.19.1->azureml-core~=1.20.0->azureml-sdk[automl,notebooks,widgets]) (4.0.0)\n",
      "Requirement already up-to-date: cffi>=1.12 in /anaconda/envs/azureml_py36/lib/python3.6/site-packages (from cryptography!=1.9,!=2.0.*,!=2.1.*,!=2.2.*->azureml-core~=1.20.0->azureml-sdk[automl,notebooks,widgets]) (1.14.4)\n",
      "Requirement already up-to-date: requests-oauthlib>=0.5.0 in /anaconda/envs/azureml_py36/lib/python3.6/site-packages (from msrest>=0.5.1->azureml-core~=1.20.0->azureml-sdk[automl,notebooks,widgets]) (1.3.0)\n",
      "Requirement already up-to-date: isodate>=0.6.0 in /anaconda/envs/azureml_py36/lib/python3.6/site-packages (from msrest>=0.5.1->azureml-core~=1.20.0->azureml-sdk[automl,notebooks,widgets]) (0.6.0)\n",
      "Requirement already up-to-date: websocket-client>=0.32.0 in /anaconda/envs/azureml_py36/lib/python3.6/site-packages (from docker->azureml-core~=1.20.0->azureml-sdk[automl,notebooks,widgets]) (0.57.0)\n",
      "Requirement already up-to-date: gensim<3.9.0 in /anaconda/envs/azureml_py36/lib/python3.6/site-packages (from azureml-automl-runtime~=1.20.0->azureml-train-automl~=1.20.0; extra == \"automl\"->azureml-sdk[automl,notebooks,widgets]) (3.8.3)\n",
      "Requirement already up-to-date: onnx<=1.7.0,>=1.5.0 in /anaconda/envs/azureml_py36/lib/python3.6/site-packages (from azureml-automl-runtime~=1.20.0->azureml-train-automl~=1.20.0; extra == \"automl\"->azureml-sdk[automl,notebooks,widgets]) (1.7.0)\n",
      "Requirement already up-to-date: scipy<=1.5.2,>=1.0.0 in /anaconda/envs/azureml_py36/lib/python3.6/site-packages (from azureml-automl-runtime~=1.20.0->azureml-train-automl~=1.20.0; extra == \"automl\"->azureml-sdk[automl,notebooks,widgets]) (1.5.2)\n",
      "Requirement already up-to-date: onnxruntime==1.3.0 in /anaconda/envs/azureml_py36/lib/python3.6/site-packages (from azureml-automl-runtime~=1.20.0->azureml-train-automl~=1.20.0; extra == \"automl\"->azureml-sdk[automl,notebooks,widgets]) (1.3.0)\n",
      "Requirement already up-to-date: statsmodels<=0.10.2,>=0.9.0 in /anaconda/envs/azureml_py36/lib/python3.6/site-packages (from azureml-automl-runtime~=1.20.0->azureml-train-automl~=1.20.0; extra == \"automl\"->azureml-sdk[automl,notebooks,widgets]) (0.10.2)\n",
      "Requirement already up-to-date: pmdarima==1.1.1 in /anaconda/envs/azureml_py36/lib/python3.6/site-packages (from azureml-automl-runtime~=1.20.0->azureml-train-automl~=1.20.0; extra == \"automl\"->azureml-sdk[automl,notebooks,widgets]) (1.1.1)\n",
      "Requirement already up-to-date: scikit-learn<0.23.0,>=0.19.0 in /anaconda/envs/azureml_py36/lib/python3.6/site-packages (from azureml-automl-runtime~=1.20.0->azureml-train-automl~=1.20.0; extra == \"automl\"->azureml-sdk[automl,notebooks,widgets]) (0.22.2.post1)\n",
      "Requirement already up-to-date: pandas<1.0.0,>=0.21.0 in /anaconda/envs/azureml_py36/lib/python3.6/site-packages (from azureml-automl-runtime~=1.20.0->azureml-train-automl~=1.20.0; extra == \"automl\"->azureml-sdk[automl,notebooks,widgets]) (0.25.3)\n",
      "Requirement already up-to-date: psutil<6.0.0,>=5.2.2 in /anaconda/envs/azureml_py36/lib/python3.6/site-packages (from azureml-automl-runtime~=1.20.0->azureml-train-automl~=1.20.0; extra == \"automl\"->azureml-sdk[automl,notebooks,widgets]) (5.8.0)\n"
     ]
    },
    {
     "name": "stdout",
     "output_type": "stream",
     "text": [
      "Requirement already up-to-date: keras2onnx<=1.6.0,>=1.4.0 in /anaconda/envs/azureml_py36/lib/python3.6/site-packages (from azureml-automl-runtime~=1.20.0->azureml-train-automl~=1.20.0; extra == \"automl\"->azureml-sdk[automl,notebooks,widgets]) (1.6.0)\n",
      "Requirement already up-to-date: botocore<=1.18.18 in /anaconda/envs/azureml_py36/lib/python3.6/site-packages (from azureml-automl-runtime~=1.20.0->azureml-train-automl~=1.20.0; extra == \"automl\"->azureml-sdk[automl,notebooks,widgets]) (1.18.18)\n",
      "Requirement already up-to-date: py-cpuinfo==5.0.0 in /anaconda/envs/azureml_py36/lib/python3.6/site-packages (from azureml-automl-runtime~=1.20.0->azureml-train-automl~=1.20.0; extra == \"automl\"->azureml-sdk[automl,notebooks,widgets]) (5.0.0)\n",
      "Requirement already up-to-date: joblib==0.14.1 in /anaconda/envs/azureml_py36/lib/python3.6/site-packages (from azureml-automl-runtime~=1.20.0->azureml-train-automl~=1.20.0; extra == \"automl\"->azureml-sdk[automl,notebooks,widgets]) (0.14.1)\n",
      "Requirement already up-to-date: onnxmltools==1.4.1 in /anaconda/envs/azureml_py36/lib/python3.6/site-packages (from azureml-automl-runtime~=1.20.0->azureml-train-automl~=1.20.0; extra == \"automl\"->azureml-sdk[automl,notebooks,widgets]) (1.4.1)\n",
      "Requirement already up-to-date: onnxconverter-common<=1.6.0,>=1.4.2 in /anaconda/envs/azureml_py36/lib/python3.6/site-packages (from azureml-automl-runtime~=1.20.0->azureml-train-automl~=1.20.0; extra == \"automl\"->azureml-sdk[automl,notebooks,widgets]) (1.6.0)\n",
      "Requirement already up-to-date: smart-open<=1.9.0 in /anaconda/envs/azureml_py36/lib/python3.6/site-packages (from azureml-automl-runtime~=1.20.0->azureml-train-automl~=1.20.0; extra == \"automl\"->azureml-sdk[automl,notebooks,widgets]) (1.9.0)\n",
      "Requirement already up-to-date: dill<0.4.0,>=0.2.8 in /anaconda/envs/azureml_py36/lib/python3.6/site-packages (from azureml-automl-runtime~=1.20.0->azureml-train-automl~=1.20.0; extra == \"automl\"->azureml-sdk[automl,notebooks,widgets]) (0.3.3)\n",
      "Requirement already up-to-date: lightgbm<=2.3.0,>=2.0.11 in /anaconda/envs/azureml_py36/lib/python3.6/site-packages (from azureml-automl-runtime~=1.20.0->azureml-train-automl~=1.20.0; extra == \"automl\"->azureml-sdk[automl,notebooks,widgets]) (2.3.0)\n",
      "Requirement already up-to-date: skl2onnx==1.4.9 in /anaconda/envs/azureml_py36/lib/python3.6/site-packages (from azureml-automl-runtime~=1.20.0->azureml-train-automl~=1.20.0; extra == \"automl\"->azureml-sdk[automl,notebooks,widgets]) (1.4.9)\n",
      "Requirement already up-to-date: boto3<=1.15.18 in /anaconda/envs/azureml_py36/lib/python3.6/site-packages (from azureml-automl-runtime~=1.20.0->azureml-train-automl~=1.20.0; extra == \"automl\"->azureml-sdk[automl,notebooks,widgets]) (1.15.18)\n",
      "Requirement already up-to-date: sklearn-pandas<=1.7.0,>=1.4.0 in /anaconda/envs/azureml_py36/lib/python3.6/site-packages (from azureml-automl-runtime~=1.20.0->azureml-train-automl~=1.20.0; extra == \"automl\"->azureml-sdk[automl,notebooks,widgets]) (1.7.0)\n",
      "Requirement already up-to-date: nimbusml<=1.8.0,>=1.7.1 in /anaconda/envs/azureml_py36/lib/python3.6/site-packages (from azureml-automl-runtime~=1.20.0->azureml-train-automl~=1.20.0; extra == \"automl\"->azureml-sdk[automl,notebooks,widgets]) (1.8.0)\n",
      "Requirement already up-to-date: jinja2<=2.11.2 in /anaconda/envs/azureml_py36/lib/python3.6/site-packages (from azureml-train-automl-runtime~=1.20.0->azureml-train-automl~=1.20.0; extra == \"automl\"->azureml-sdk[automl,notebooks,widgets]) (2.11.2)\n",
      "Requirement already up-to-date: azure-storage-queue~=12.1 in /anaconda/envs/azureml_py36/lib/python3.6/site-packages (from azureml-train-automl-runtime~=1.20.0->azureml-train-automl~=1.20.0; extra == \"automl\"->azureml-sdk[automl,notebooks,widgets]) (12.1.5)\n",
      "Requirement already up-to-date: azureml-interpret~=1.20.0 in /anaconda/envs/azureml_py36/lib/python3.6/site-packages (from azureml-train-automl-runtime~=1.20.0->azureml-train-automl~=1.20.0; extra == \"automl\"->azureml-sdk[automl,notebooks,widgets]) (1.20.0)\n",
      "Requirement already up-to-date: azureml-defaults~=1.20.0 in /anaconda/envs/azureml_py36/lib/python3.6/site-packages (from azureml-train-automl-runtime~=1.20.0->azureml-train-automl~=1.20.0; extra == \"automl\"->azureml-sdk[automl,notebooks,widgets]) (1.20.0)\n",
      "Requirement already up-to-date: jupyter-core in /anaconda/envs/azureml_py36/lib/python3.6/site-packages (from nbconvert<6->azureml-contrib-notebook~=1.20.0; extra == \"notebooks\"->azureml-sdk[automl,notebooks,widgets]) (4.7.0)\n",
      "Requirement already up-to-date: bleach in /anaconda/envs/azureml_py36/lib/python3.6/site-packages (from nbconvert<6->azureml-contrib-notebook~=1.20.0; extra == \"notebooks\"->azureml-sdk[automl,notebooks,widgets]) (3.2.2)\n",
      "Requirement already up-to-date: mistune<2,>=0.8.1 in /anaconda/envs/azureml_py36/lib/python3.6/site-packages (from nbconvert<6->azureml-contrib-notebook~=1.20.0; extra == \"notebooks\"->azureml-sdk[automl,notebooks,widgets]) (0.8.4)\n",
      "Requirement already up-to-date: entrypoints>=0.2.2 in /anaconda/envs/azureml_py36/lib/python3.6/site-packages (from nbconvert<6->azureml-contrib-notebook~=1.20.0; extra == \"notebooks\"->azureml-sdk[automl,notebooks,widgets]) (0.3)\n",
      "Requirement already up-to-date: traitlets>=4.2 in /anaconda/envs/azureml_py36/lib/python3.6/site-packages (from nbconvert<6->azureml-contrib-notebook~=1.20.0; extra == \"notebooks\"->azureml-sdk[automl,notebooks,widgets]) (4.3.3)\n",
      "Requirement already up-to-date: pygments in /anaconda/envs/azureml_py36/lib/python3.6/site-packages (from nbconvert<6->azureml-contrib-notebook~=1.20.0; extra == \"notebooks\"->azureml-sdk[automl,notebooks,widgets]) (2.7.4)\n",
      "Requirement already up-to-date: defusedxml in /anaconda/envs/azureml_py36/lib/python3.6/site-packages (from nbconvert<6->azureml-contrib-notebook~=1.20.0; extra == \"notebooks\"->azureml-sdk[automl,notebooks,widgets]) (0.6.0)\n",
      "Requirement already up-to-date: nbformat>=4.4 in /anaconda/envs/azureml_py36/lib/python3.6/site-packages (from nbconvert<6->azureml-contrib-notebook~=1.20.0; extra == \"notebooks\"->azureml-sdk[automl,notebooks,widgets]) (5.1.2)\n",
      "Requirement already up-to-date: testpath in /anaconda/envs/azureml_py36/lib/python3.6/site-packages (from nbconvert<6->azureml-contrib-notebook~=1.20.0; extra == \"notebooks\"->azureml-sdk[automl,notebooks,widgets]) (0.4.4)\n",
      "Requirement already up-to-date: pandocfilters>=1.4.1 in /anaconda/envs/azureml_py36/lib/python3.6/site-packages (from nbconvert<6->azureml-contrib-notebook~=1.20.0; extra == \"notebooks\"->azureml-sdk[automl,notebooks,widgets]) (1.4.3)\n",
      "Requirement already up-to-date: prompt-toolkit!=3.0.0,!=3.0.1,<3.1.0,>=2.0.0 in /anaconda/envs/azureml_py36/lib/python3.6/site-packages (from ipython->azureml-contrib-notebook~=1.20.0; extra == \"notebooks\"->azureml-sdk[automl,notebooks,widgets]) (3.0.14)\n",
      "Requirement already up-to-date: setuptools>=18.5 in /anaconda/envs/azureml_py36/lib/python3.6/site-packages (from ipython->azureml-contrib-notebook~=1.20.0; extra == \"notebooks\"->azureml-sdk[automl,notebooks,widgets]) (52.0.0)\n",
      "Requirement already up-to-date: backcall in /anaconda/envs/azureml_py36/lib/python3.6/site-packages (from ipython->azureml-contrib-notebook~=1.20.0; extra == \"notebooks\"->azureml-sdk[automl,notebooks,widgets]) (0.2.0)\n",
      "Requirement already up-to-date: jedi>=0.10 in /anaconda/envs/azureml_py36/lib/python3.6/site-packages (from ipython->azureml-contrib-notebook~=1.20.0; extra == \"notebooks\"->azureml-sdk[automl,notebooks,widgets]) (0.18.0)\n",
      "Requirement already up-to-date: pickleshare in /anaconda/envs/azureml_py36/lib/python3.6/site-packages (from ipython->azureml-contrib-notebook~=1.20.0; extra == \"notebooks\"->azureml-sdk[automl,notebooks,widgets]) (0.7.5)\n",
      "Requirement already up-to-date: pexpect; sys_platform != \"win32\" in /anaconda/envs/azureml_py36/lib/python3.6/site-packages (from ipython->azureml-contrib-notebook~=1.20.0; extra == \"notebooks\"->azureml-sdk[automl,notebooks,widgets]) (4.8.0)\n",
      "Requirement already up-to-date: decorator in /anaconda/envs/azureml_py36/lib/python3.6/site-packages (from ipython->azureml-contrib-notebook~=1.20.0; extra == \"notebooks\"->azureml-sdk[automl,notebooks,widgets]) (4.4.2)\n",
      "Requirement already up-to-date: future in /anaconda/envs/azureml_py36/lib/python3.6/site-packages (from papermill<2->azureml-contrib-notebook~=1.20.0; extra == \"notebooks\"->azureml-sdk[automl,notebooks,widgets]) (0.18.2)\n"
     ]
    },
    {
     "name": "stdout",
     "output_type": "stream",
     "text": [
      "Requirement already up-to-date: tqdm>=4.32.2 in /anaconda/envs/azureml_py36/lib/python3.6/site-packages (from papermill<2->azureml-contrib-notebook~=1.20.0; extra == \"notebooks\"->azureml-sdk[automl,notebooks,widgets]) (4.56.0)\n",
      "Requirement already up-to-date: tenacity in /anaconda/envs/azureml_py36/lib/python3.6/site-packages (from papermill<2->azureml-contrib-notebook~=1.20.0; extra == \"notebooks\"->azureml-sdk[automl,notebooks,widgets]) (6.3.1)\n",
      "Requirement already up-to-date: jupyter-client in /anaconda/envs/azureml_py36/lib/python3.6/site-packages (from papermill<2->azureml-contrib-notebook~=1.20.0; extra == \"notebooks\"->azureml-sdk[automl,notebooks,widgets]) (6.1.11)\n",
      "Requirement already up-to-date: pyyaml in /anaconda/envs/azureml_py36/lib/python3.6/site-packages (from papermill<2->azureml-contrib-notebook~=1.20.0; extra == \"notebooks\"->azureml-sdk[automl,notebooks,widgets]) (5.4.1)\n",
      "Requirement already up-to-date: ansiwrap in /anaconda/envs/azureml_py36/lib/python3.6/site-packages (from papermill<2->azureml-contrib-notebook~=1.20.0; extra == \"notebooks\"->azureml-sdk[automl,notebooks,widgets]) (0.8.4)\n",
      "Requirement already up-to-date: click in /anaconda/envs/azureml_py36/lib/python3.6/site-packages (from papermill<2->azureml-contrib-notebook~=1.20.0; extra == \"notebooks\"->azureml-sdk[automl,notebooks,widgets]) (7.1.2)\n",
      "Requirement already up-to-date: tornado>=4.2 in /anaconda/envs/azureml_py36/lib/python3.6/site-packages (from ipykernel->azureml-contrib-notebook~=1.20.0; extra == \"notebooks\"->azureml-sdk[automl,notebooks,widgets]) (6.1)\n",
      "Requirement already up-to-date: widgetsnbextension~=3.5.0 in /anaconda/envs/azureml_py36/lib/python3.6/site-packages (from ipywidgets>=7.0.0->azureml-widgets~=1.20.0; extra == \"notebooks\"->azureml-sdk[automl,notebooks,widgets]) (3.5.1)\n",
      "Requirement already up-to-date: jupyterlab-widgets>=1.0.0; python_version >= \"3.6\" in /anaconda/envs/azureml_py36/lib/python3.6/site-packages (from ipywidgets>=7.0.0->azureml-widgets~=1.20.0; extra == \"notebooks\"->azureml-sdk[automl,notebooks,widgets]) (1.0.0)\n",
      "Requirement already up-to-date: distro>=1.2.0 in /anaconda/envs/azureml_py36/lib/python3.6/site-packages (from dotnetcore2<3.0.0,>=2.1.14->azureml-dataprep<2.8.0a,>=2.7.0a->azureml-dataset-runtime[fuse]~=1.20.0->azureml-sdk[automl,notebooks,widgets]) (1.5.0)\n",
      "Requirement already up-to-date: msal-extensions~=0.2.2 in /anaconda/envs/azureml_py36/lib/python3.6/site-packages (from azure-identity<1.5.0,>=1.2.0->azureml-dataprep<2.8.0a,>=2.7.0a->azureml-dataset-runtime[fuse]~=1.20.0->azureml-sdk[automl,notebooks,widgets]) (0.2.2)\n",
      "Requirement already up-to-date: azure-core<2.0.0,>=1.0.0 in /anaconda/envs/azureml_py36/lib/python3.6/site-packages (from azure-identity<1.5.0,>=1.2.0->azureml-dataprep<2.8.0a,>=2.7.0a->azureml-dataset-runtime[fuse]~=1.20.0->azureml-sdk[automl,notebooks,widgets]) (1.10.0)\n",
      "Requirement already up-to-date: msal<2.0.0,>=1.3.0 in /anaconda/envs/azureml_py36/lib/python3.6/site-packages (from azure-identity<1.5.0,>=1.2.0->azureml-dataprep<2.8.0a,>=2.7.0a->azureml-dataset-runtime[fuse]~=1.20.0->azureml-sdk[automl,notebooks,widgets]) (1.8.0)\n",
      "Requirement already up-to-date: zipp>=0.5 in /anaconda/envs/azureml_py36/lib/python3.6/site-packages (from importlib-metadata; python_version < \"3.8\"->jsonpickle->azureml-core~=1.20.0->azureml-sdk[automl,notebooks,widgets]) (3.4.0)\n",
      "Requirement already up-to-date: typing-extensions>=3.6.4; python_version < \"3.8\" in /anaconda/envs/azureml_py36/lib/python3.6/site-packages (from importlib-metadata; python_version < \"3.8\"->jsonpickle->azureml-core~=1.20.0->azureml-sdk[automl,notebooks,widgets]) (3.7.4.3)\n",
      "Requirement already up-to-date: pycparser in /anaconda/envs/azureml_py36/lib/python3.6/site-packages (from cffi>=1.12->cryptography!=1.9,!=2.0.*,!=2.1.*,!=2.2.*->azureml-core~=1.20.0->azureml-sdk[automl,notebooks,widgets]) (2.20)\n",
      "Requirement already up-to-date: oauthlib>=3.0.0 in /anaconda/envs/azureml_py36/lib/python3.6/site-packages (from requests-oauthlib>=0.5.0->msrest>=0.5.1->azureml-core~=1.20.0->azureml-sdk[automl,notebooks,widgets]) (3.1.0)\n",
      "Requirement already up-to-date: protobuf in /anaconda/envs/azureml_py36/lib/python3.6/site-packages (from onnx<=1.7.0,>=1.5.0->azureml-automl-runtime~=1.20.0->azureml-train-automl~=1.20.0; extra == \"automl\"->azureml-sdk[automl,notebooks,widgets]) (3.14.0)\n",
      "Requirement already up-to-date: patsy>=0.4.0 in /anaconda/envs/azureml_py36/lib/python3.6/site-packages (from statsmodels<=0.10.2,>=0.9.0->azureml-automl-runtime~=1.20.0->azureml-train-automl~=1.20.0; extra == \"automl\"->azureml-sdk[automl,notebooks,widgets]) (0.5.1)\n",
      "Requirement already up-to-date: Cython>=0.29 in /anaconda/envs/azureml_py36/lib/python3.6/site-packages (from pmdarima==1.1.1->azureml-automl-runtime~=1.20.0->azureml-train-automl~=1.20.0; extra == \"automl\"->azureml-sdk[automl,notebooks,widgets]) (0.29.21)\n",
      "Requirement already up-to-date: fire in /anaconda/envs/azureml_py36/lib/python3.6/site-packages (from keras2onnx<=1.6.0,>=1.4.0->azureml-automl-runtime~=1.20.0->azureml-train-automl~=1.20.0; extra == \"automl\"->azureml-sdk[automl,notebooks,widgets]) (0.4.0)\n",
      "Requirement already up-to-date: boto>=2.32 in /anaconda/envs/azureml_py36/lib/python3.6/site-packages (from smart-open<=1.9.0->azureml-automl-runtime~=1.20.0->azureml-train-automl~=1.20.0; extra == \"automl\"->azureml-sdk[automl,notebooks,widgets]) (2.49.0)\n",
      "Requirement already up-to-date: s3transfer<0.4.0,>=0.3.0 in /anaconda/envs/azureml_py36/lib/python3.6/site-packages (from boto3<=1.15.18->azureml-automl-runtime~=1.20.0->azureml-train-automl~=1.20.0; extra == \"automl\"->azureml-sdk[automl,notebooks,widgets]) (0.3.4)\n",
      "Requirement already up-to-date: MarkupSafe>=0.23 in /anaconda/envs/azureml_py36/lib/python3.6/site-packages (from jinja2<=2.11.2->azureml-train-automl-runtime~=1.20.0->azureml-train-automl~=1.20.0; extra == \"automl\"->azureml-sdk[automl,notebooks,widgets]) (1.1.1)\n",
      "Requirement already up-to-date: interpret-community==0.15.* in /anaconda/envs/azureml_py36/lib/python3.6/site-packages (from azureml-interpret~=1.20.0->azureml-train-automl-runtime~=1.20.0->azureml-train-automl~=1.20.0; extra == \"automl\"->azureml-sdk[automl,notebooks,widgets]) (0.15.4)\n",
      "Requirement already up-to-date: json-logging-py==0.2 in /anaconda/envs/azureml_py36/lib/python3.6/site-packages (from azureml-defaults~=1.20.0->azureml-train-automl-runtime~=1.20.0->azureml-train-automl~=1.20.0; extra == \"automl\"->azureml-sdk[automl,notebooks,widgets]) (0.2)\n",
      "Requirement already up-to-date: configparser==3.7.4 in /anaconda/envs/azureml_py36/lib/python3.6/site-packages (from azureml-defaults~=1.20.0->azureml-train-automl-runtime~=1.20.0->azureml-train-automl~=1.20.0; extra == \"automl\"->azureml-sdk[automl,notebooks,widgets]) (3.7.4)\n",
      "Requirement already up-to-date: flask==1.0.3 in /anaconda/envs/azureml_py36/lib/python3.6/site-packages (from azureml-defaults~=1.20.0->azureml-train-automl-runtime~=1.20.0->azureml-train-automl~=1.20.0; extra == \"automl\"->azureml-sdk[automl,notebooks,widgets]) (1.0.3)\n",
      "Requirement already up-to-date: azureml-model-management-sdk==1.0.1b6.post1 in /anaconda/envs/azureml_py36/lib/python3.6/site-packages (from azureml-defaults~=1.20.0->azureml-train-automl-runtime~=1.20.0->azureml-train-automl~=1.20.0; extra == \"automl\"->azureml-sdk[automl,notebooks,widgets]) (1.0.1b6.post1)\n",
      "Requirement already up-to-date: gunicorn==19.9.0 in /anaconda/envs/azureml_py36/lib/python3.6/site-packages (from azureml-defaults~=1.20.0->azureml-train-automl-runtime~=1.20.0->azureml-train-automl~=1.20.0; extra == \"automl\"->azureml-sdk[automl,notebooks,widgets]) (19.9.0)\n",
      "Requirement already up-to-date: werkzeug<=1.0.1,>=0.16.1 in /anaconda/envs/azureml_py36/lib/python3.6/site-packages (from azureml-defaults~=1.20.0->azureml-train-automl-runtime~=1.20.0->azureml-train-automl~=1.20.0; extra == \"automl\"->azureml-sdk[automl,notebooks,widgets]) (1.0.1)\n",
      "Requirement already up-to-date: webencodings in /anaconda/envs/azureml_py36/lib/python3.6/site-packages (from bleach->nbconvert<6->azureml-contrib-notebook~=1.20.0; extra == \"notebooks\"->azureml-sdk[automl,notebooks,widgets]) (0.5.1)\n",
      "Requirement already up-to-date: packaging in /anaconda/envs/azureml_py36/lib/python3.6/site-packages (from bleach->nbconvert<6->azureml-contrib-notebook~=1.20.0; extra == \"notebooks\"->azureml-sdk[automl,notebooks,widgets]) (20.8)\n"
     ]
    },
    {
     "name": "stdout",
     "output_type": "stream",
     "text": [
      "Requirement already up-to-date: ipython-genutils in /anaconda/envs/azureml_py36/lib/python3.6/site-packages (from traitlets>=4.2->nbconvert<6->azureml-contrib-notebook~=1.20.0; extra == \"notebooks\"->azureml-sdk[automl,notebooks,widgets]) (0.2.0)\n",
      "Requirement already up-to-date: jsonschema!=2.5.0,>=2.4 in /anaconda/envs/azureml_py36/lib/python3.6/site-packages (from nbformat>=4.4->nbconvert<6->azureml-contrib-notebook~=1.20.0; extra == \"notebooks\"->azureml-sdk[automl,notebooks,widgets]) (3.2.0)\n",
      "Requirement already up-to-date: wcwidth in /anaconda/envs/azureml_py36/lib/python3.6/site-packages (from prompt-toolkit!=3.0.0,!=3.0.1,<3.1.0,>=2.0.0->ipython->azureml-contrib-notebook~=1.20.0; extra == \"notebooks\"->azureml-sdk[automl,notebooks,widgets]) (0.2.5)\n",
      "Requirement already up-to-date: parso<0.9.0,>=0.8.0 in /anaconda/envs/azureml_py36/lib/python3.6/site-packages (from jedi>=0.10->ipython->azureml-contrib-notebook~=1.20.0; extra == \"notebooks\"->azureml-sdk[automl,notebooks,widgets]) (0.8.1)\n",
      "Requirement already up-to-date: ptyprocess>=0.5 in /anaconda/envs/azureml_py36/lib/python3.6/site-packages (from pexpect; sys_platform != \"win32\"->ipython->azureml-contrib-notebook~=1.20.0; extra == \"notebooks\"->azureml-sdk[automl,notebooks,widgets]) (0.7.0)\n",
      "Requirement already up-to-date: pyzmq>=13 in /anaconda/envs/azureml_py36/lib/python3.6/site-packages (from jupyter-client->papermill<2->azureml-contrib-notebook~=1.20.0; extra == \"notebooks\"->azureml-sdk[automl,notebooks,widgets]) (21.0.1)\n",
      "Requirement already up-to-date: textwrap3>=0.9.2 in /anaconda/envs/azureml_py36/lib/python3.6/site-packages (from ansiwrap->papermill<2->azureml-contrib-notebook~=1.20.0; extra == \"notebooks\"->azureml-sdk[automl,notebooks,widgets]) (0.9.2)\n",
      "Requirement already up-to-date: notebook>=4.4.1 in /anaconda/envs/azureml_py36/lib/python3.6/site-packages (from widgetsnbextension~=3.5.0->ipywidgets>=7.0.0->azureml-widgets~=1.20.0; extra == \"notebooks\"->azureml-sdk[automl,notebooks,widgets]) (6.2.0)\n",
      "Requirement already up-to-date: portalocker~=1.0; platform_system != \"Windows\" in /anaconda/envs/azureml_py36/lib/python3.6/site-packages (from msal-extensions~=0.2.2->azure-identity<1.5.0,>=1.2.0->azureml-dataprep<2.8.0a,>=2.7.0a->azureml-dataset-runtime[fuse]~=1.20.0->azureml-sdk[automl,notebooks,widgets]) (1.7.1)\n",
      "Requirement already up-to-date: termcolor in /anaconda/envs/azureml_py36/lib/python3.6/site-packages (from fire->keras2onnx<=1.6.0,>=1.4.0->azureml-automl-runtime~=1.20.0->azureml-train-automl~=1.20.0; extra == \"automl\"->azureml-sdk[automl,notebooks,widgets]) (1.1.0)\n",
      "Requirement already up-to-date: shap<=0.34.0,>=0.20.0 in /anaconda/envs/azureml_py36/lib/python3.6/site-packages (from interpret-community==0.15.*->azureml-interpret~=1.20.0->azureml-train-automl-runtime~=1.20.0->azureml-train-automl~=1.20.0; extra == \"automl\"->azureml-sdk[automl,notebooks,widgets]) (0.34.0)\n",
      "Requirement already up-to-date: interpret-core[required]<=0.2.1,>=0.1.20 in /anaconda/envs/azureml_py36/lib/python3.6/site-packages (from interpret-community==0.15.*->azureml-interpret~=1.20.0->azureml-train-automl-runtime~=1.20.0->azureml-train-automl~=1.20.0; extra == \"automl\"->azureml-sdk[automl,notebooks,widgets]) (0.2.1)\n",
      "Requirement already up-to-date: itsdangerous>=0.24 in /anaconda/envs/azureml_py36/lib/python3.6/site-packages (from flask==1.0.3->azureml-defaults~=1.20.0->azureml-train-automl-runtime~=1.20.0->azureml-train-automl~=1.20.0; extra == \"automl\"->azureml-sdk[automl,notebooks,widgets]) (1.1.0)\n",
      "Requirement already up-to-date: liac-arff>=2.1.1 in /anaconda/envs/azureml_py36/lib/python3.6/site-packages (from azureml-model-management-sdk==1.0.1b6.post1->azureml-defaults~=1.20.0->azureml-train-automl-runtime~=1.20.0->azureml-train-automl~=1.20.0; extra == \"automl\"->azureml-sdk[automl,notebooks,widgets]) (2.5.0)\n",
      "Requirement already up-to-date: pyparsing>=2.0.2 in /anaconda/envs/azureml_py36/lib/python3.6/site-packages (from packaging->bleach->nbconvert<6->azureml-contrib-notebook~=1.20.0; extra == \"notebooks\"->azureml-sdk[automl,notebooks,widgets]) (2.4.7)\n",
      "Requirement already up-to-date: attrs>=17.4.0 in /anaconda/envs/azureml_py36/lib/python3.6/site-packages (from jsonschema!=2.5.0,>=2.4->nbformat>=4.4->nbconvert<6->azureml-contrib-notebook~=1.20.0; extra == \"notebooks\"->azureml-sdk[automl,notebooks,widgets]) (20.3.0)\n",
      "Requirement already up-to-date: pyrsistent>=0.14.0 in /anaconda/envs/azureml_py36/lib/python3.6/site-packages (from jsonschema!=2.5.0,>=2.4->nbformat>=4.4->nbconvert<6->azureml-contrib-notebook~=1.20.0; extra == \"notebooks\"->azureml-sdk[automl,notebooks,widgets]) (0.17.3)\n",
      "Requirement already up-to-date: Send2Trash>=1.5.0 in /anaconda/envs/azureml_py36/lib/python3.6/site-packages (from notebook>=4.4.1->widgetsnbextension~=3.5.0->ipywidgets>=7.0.0->azureml-widgets~=1.20.0; extra == \"notebooks\"->azureml-sdk[automl,notebooks,widgets]) (1.5.0)\n",
      "Requirement already up-to-date: terminado>=0.8.3 in /anaconda/envs/azureml_py36/lib/python3.6/site-packages (from notebook>=4.4.1->widgetsnbextension~=3.5.0->ipywidgets>=7.0.0->azureml-widgets~=1.20.0; extra == \"notebooks\"->azureml-sdk[automl,notebooks,widgets]) (0.9.2)\n",
      "Requirement already up-to-date: argon2-cffi in /anaconda/envs/azureml_py36/lib/python3.6/site-packages (from notebook>=4.4.1->widgetsnbextension~=3.5.0->ipywidgets>=7.0.0->azureml-widgets~=1.20.0; extra == \"notebooks\"->azureml-sdk[automl,notebooks,widgets]) (20.1.0)\n",
      "Requirement already up-to-date: prometheus-client in /anaconda/envs/azureml_py36/lib/python3.6/site-packages (from notebook>=4.4.1->widgetsnbextension~=3.5.0->ipywidgets>=7.0.0->azureml-widgets~=1.20.0; extra == \"notebooks\"->azureml-sdk[automl,notebooks,widgets]) (0.9.0)\n"
     ]
    }
   ],
   "source": [
    "#upgrade the sdk version by running below command in jupyter notebook terminal window \n",
    "#and restart the kernal before running this command.\n",
    "\n",
    "#pip install --upgrade azureml-core\n",
    "#pip install --upgrade azureml-automl-core\n",
    "#!pip install --upgrade --upgrade-strategy eager azureml-sdk[automl,widgets,notebooks]"
   ]
  },
  {
   "cell_type": "code",
   "execution_count": 1,
   "metadata": {
    "gather": {
     "logged": 1598423888013
    },
    "jupyter": {
     "outputs_hidden": false,
     "source_hidden": false
    },
    "nteract": {
     "transient": {
      "deleting": false
     }
    }
   },
   "outputs": [
    {
     "name": "stdout",
     "output_type": "stream",
     "text": [
      "SDK version: 1.20.0\n"
     ]
    }
   ],
   "source": [
    "import logging\n",
    "import os\n",
    "import csv\n",
    "\n",
    "from matplotlib import pyplot as plt\n",
    "import numpy as np\n",
    "import pandas as pd\n",
    "from sklearn import datasets\n",
    "import pkg_resources\n",
    "\n",
    "import azureml.core\n",
    "from azureml.core.experiment import Experiment\n",
    "from azureml.core.workspace import Workspace\n",
    "from azureml.train.automl import AutoMLConfig\n",
    "from azureml.core.dataset import Dataset\n",
    "from azureml.core.environment import Environment\n",
    "from azureml.core.model import InferenceConfig\n",
    "from azureml.core.webservice import AciWebservice\n",
    "from azureml.core.model import Model\n",
    "import azureml.train.automl\n",
    "from azureml.pipeline.steps import AutoMLStep\n",
    "\n",
    "\n",
    "\n",
    "# Check core SDK version number\n",
    "print(\"SDK version:\", azureml.core.VERSION)"
   ]
  },
  {
   "cell_type": "code",
   "execution_count": 2,
   "metadata": {
    "gather": {
     "logged": 1598423890461
    },
    "jupyter": {
     "outputs_hidden": false,
     "source_hidden": false
    },
    "nteract": {
     "transient": {
      "deleting": false
     }
    }
   },
   "outputs": [
    {
     "name": "stdout",
     "output_type": "stream",
     "text": [
      "quick-starts-ws-136287\n",
      "aml-quickstarts-136287\n",
      "southcentralus\n",
      "9b72f9e6-56c5-4c16-991b-19c652994860\n"
     ]
    }
   ],
   "source": [
    "ws = Workspace.from_config()\n",
    "print(ws.name, ws.resource_group, ws.location, ws.subscription_id, sep = '\\n')\n",
    "\n"
   ]
  },
  {
   "cell_type": "code",
   "execution_count": 3,
   "metadata": {},
   "outputs": [],
   "source": [
    "# choose a name for experiment\n",
    "experiment_name = 'capstone-Automl'\n",
    "#project_folder = './pipeline-project'\n",
    "\n",
    "experiment=Experiment(ws, experiment_name)\n"
   ]
  },
  {
   "cell_type": "code",
   "execution_count": 5,
   "metadata": {},
   "outputs": [
    {
     "data": {
      "text/html": [
       "<table style=\"width:100%\"><tr><th>Name</th><th>Workspace</th><th>Report Page</th><th>Docs Page</th></tr><tr><td>capstone-Automl</td><td>quick-starts-ws-136287</td><td><a href=\"https://ml.azure.com/experiments/capstone-Automl?wsid=/subscriptions/9b72f9e6-56c5-4c16-991b-19c652994860/resourcegroups/aml-quickstarts-136287/workspaces/quick-starts-ws-136287\" target=\"_blank\" rel=\"noopener\">Link to Azure Machine Learning studio</a></td><td><a href=\"https://docs.microsoft.com/en-us/python/api/azureml-core/azureml.core.experiment.Experiment?view=azure-ml-py\" target=\"_blank\" rel=\"noopener\">Link to Documentation</a></td></tr></table>"
      ],
      "text/plain": [
       "Experiment(Name: capstone-Automl,\n",
       "Workspace: quick-starts-ws-136287)"
      ]
     },
     "execution_count": 5,
     "metadata": {},
     "output_type": "execute_result"
    }
   ],
   "source": [
    "#experiment\n",
    "experiment"
   ]
  },
  {
   "cell_type": "code",
   "execution_count": 4,
   "metadata": {},
   "outputs": [],
   "source": [
    "run = experiment.start_logging()"
   ]
  },
  {
   "cell_type": "markdown",
   "metadata": {},
   "source": [
    "# Creat Compute Cluster"
   ]
  },
  {
   "cell_type": "code",
   "execution_count": 6,
   "metadata": {},
   "outputs": [
    {
     "name": "stdout",
     "output_type": "stream",
     "text": [
      "Creating\n",
      "Succeeded................................................................................................................\n",
      "AmlCompute wait for completion finished\n",
      "\n",
      "Wait timeout has been reached\n",
      "Current provisioning state of AmlCompute is \"Succeeded\" and current node count is \"0\"\n"
     ]
    },
    {
     "data": {
      "text/plain": [
       "<azureml.core.compute.amlcompute.AmlComputeStatus at 0x7f6dfd9b8160>"
      ]
     },
     "execution_count": 6,
     "metadata": {},
     "output_type": "execute_result"
    }
   ],
   "source": [
    "from azureml.core.compute import AmlCompute\n",
    "from azureml.core.compute import ComputeTarget\n",
    "from azureml.core.compute_target import ComputeTargetException\n",
    "\n",
    "\n",
    "# Choose a name for your GPU cluster\n",
    "amlcompute_cluster_name = \"auto-ml\"\n",
    "\n",
    "# Verify that cluster does not exist already\n",
    "try:\n",
    "    compute_target = ComputeTarget(workspace=ws, name=amlcompute_cluster_name)\n",
    "    print('Found existing cluster, use it.')\n",
    "except ComputeTargetException:\n",
    "    compute_config = AmlCompute.provisioning_configuration(vm_size='STANDARD_D2_V2',# for GPU, use \"STANDARD_NC6\"\n",
    "                                                           #vm_priority = 'lowpriority', # optional\n",
    "                                                           max_nodes=4)\n",
    "    compute_target = ComputeTarget.create(ws, amlcompute_cluster_name, compute_config)\n",
    "\n",
    "compute_target.wait_for_completion(show_output=True, min_node_count = 1, timeout_in_minutes = 10)\n",
    "# For a more detailed view of current AmlCompute status, use get_status().\n",
    "compute_target.get_status()"
   ]
  },
  {
   "cell_type": "markdown",
   "metadata": {},
   "source": [
    "## Dataset\n",
    "\n",
    "### Overview\n",
    "\n",
    "We have used Heart failure clinical records data set as published on \"UCI Machine Learning Repository\"and \"Kaggle Heart Failure Prediction\" competion. \n",
    "\n",
    "This data set has been published as part of folowing paper: Davide Chicco, Giuseppe Jurman: \"Machine learning can predict survival of patients with heart failure from serum creatinine and ejection fraction alone\". BMC Medical Informatics and Decision Making 20, 16 (2020).\n",
    "\n",
    "This dataset contains the medical records of 299 heart failure patients collected at the Faisalabad Institute of Cardiology and at the Allied Hospital in Faisalabad (Punjab, Pakistan), during April–December 2015 [52, 66]. The patients consisted of 105 women and 194 men, and their ages range between 40 and 95 years old (Table 1). All 299 patients had left ventricular systolic dysfunction and had previous heart failures that put them in classes III or IV of New York Heart Association (NYHA) classification of the stages of heart failure.\n",
    "\n",
    "The dataset contains 13 features, which report clinical, body, and lifestyle information, that we briefly describe here.\n",
    "\n",
    "- Age: age of the patient (years)\n",
    "- Anaemia: decrease of red blood cells or hemoglobin (boolean)\n",
    "- High blood pressure: if the patient has hypertension (boolean)\n",
    "- Ceatinine phosphokinase (CPK): level of the CPK enzyme in the blood (mcg/L)\n",
    "- Diabetes: if the patient has diabetes (boolean)\n",
    "- Ejection fraction: percentage of blood leaving the heart at each contraction (percentage)\n",
    "- Platelets: platelets in the blood (kiloplatelets/mL)\n",
    "- Sex: woman or man (binary)\n",
    "- Serum creatinine: level of serum creatinine in the blood (mg/dL)\n",
    "- Serum sodium: level of serum sodium in the blood (mEq/L)\n",
    "- Smoking: if the patient smokes or not (boolean)\n",
    "- Time: follow-up period (days)\n",
    "- [target] Death event: if the patient deceased during the follow-up period (boolean)\n",
    "\n",
    "We are performing binary classification to predict death by heart failure."
   ]
  },
  {
   "cell_type": "markdown",
   "metadata": {},
   "source": [
    "\n",
    "TODO: Get data. In the cell below, write code to access the data you will be using in this project. Remember that the dataset needs to be external."
   ]
  },
  {
   "cell_type": "code",
   "execution_count": 7,
   "metadata": {},
   "outputs": [],
   "source": [
    "from azureml.data.dataset_factory import TabularDatasetFactory\n"
   ]
  },
  {
   "cell_type": "code",
   "execution_count": 8,
   "metadata": {},
   "outputs": [],
   "source": [
    "datastore= ws.get_default_datastore()"
   ]
  },
  {
   "cell_type": "code",
   "execution_count": 9,
   "metadata": {},
   "outputs": [
    {
     "name": "stdout",
     "output_type": "stream",
     "text": [
      "Uploading an estimated of 7 files\n",
      "Uploading ./automl_final.ipynb\n",
      "Uploaded ./automl_final.ipynb, 1 files out of an estimated total of 7\n",
      "Uploading ./heart_failure_clinical_records_dataset.csv\n",
      "Uploaded ./heart_failure_clinical_records_dataset.csv, 2 files out of an estimated total of 7\n",
      "Uploading ./hyperparameter_tuning.ipynb\n",
      "Uploaded ./hyperparameter_tuning.ipynb, 3 files out of an estimated total of 7\n",
      "Uploading ./score.py\n",
      "Uploaded ./score.py, 4 files out of an estimated total of 7\n",
      "Uploading ./train.py\n",
      "Uploaded ./train.py, 5 files out of an estimated total of 7\n",
      "Uploading ./.ipynb_checkpoints/automl_final-checkpoint.ipynb\n",
      "Uploaded ./.ipynb_checkpoints/automl_final-checkpoint.ipynb, 6 files out of an estimated total of 7\n",
      "Uploading ./.ipynb_checkpoints/hyperparameter_tuning-checkpoint.ipynb\n",
      "Uploaded ./.ipynb_checkpoints/hyperparameter_tuning-checkpoint.ipynb, 7 files out of an estimated total of 7\n",
      "Uploaded 7 files\n"
     ]
    },
    {
     "data": {
      "text/plain": [
       "$AZUREML_DATAREFERENCE_workspaceblobstore"
      ]
     },
     "execution_count": 9,
     "metadata": {},
     "output_type": "execute_result"
    }
   ],
   "source": [
    "datastore.upload(src_dir= './', target_path= './')"
   ]
  },
  {
   "cell_type": "code",
   "execution_count": 10,
   "metadata": {},
   "outputs": [],
   "source": [
    "tds= Dataset.Tabular.from_delimited_files(datastore.path('./heart_failure_clinical_records_dataset.csv'))"
   ]
  },
  {
   "cell_type": "code",
   "execution_count": 11,
   "metadata": {},
   "outputs": [
    {
     "data": {
      "text/html": [
       "<div>\n",
       "<style scoped>\n",
       "    .dataframe tbody tr th:only-of-type {\n",
       "        vertical-align: middle;\n",
       "    }\n",
       "\n",
       "    .dataframe tbody tr th {\n",
       "        vertical-align: top;\n",
       "    }\n",
       "\n",
       "    .dataframe thead th {\n",
       "        text-align: right;\n",
       "    }\n",
       "</style>\n",
       "<table border=\"1\" class=\"dataframe\">\n",
       "  <thead>\n",
       "    <tr style=\"text-align: right;\">\n",
       "      <th></th>\n",
       "      <th>age</th>\n",
       "      <th>anaemia</th>\n",
       "      <th>creatinine_phosphokinase</th>\n",
       "      <th>diabetes</th>\n",
       "      <th>ejection_fraction</th>\n",
       "      <th>high_blood_pressure</th>\n",
       "      <th>platelets</th>\n",
       "      <th>serum_creatinine</th>\n",
       "      <th>serum_sodium</th>\n",
       "      <th>sex</th>\n",
       "      <th>smoking</th>\n",
       "      <th>time</th>\n",
       "      <th>DEATH_EVENT</th>\n",
       "    </tr>\n",
       "  </thead>\n",
       "  <tbody>\n",
       "    <tr>\n",
       "      <th>0</th>\n",
       "      <td>75.0</td>\n",
       "      <td>0</td>\n",
       "      <td>582</td>\n",
       "      <td>0</td>\n",
       "      <td>20</td>\n",
       "      <td>1</td>\n",
       "      <td>265000.00</td>\n",
       "      <td>1.9</td>\n",
       "      <td>130</td>\n",
       "      <td>1</td>\n",
       "      <td>0</td>\n",
       "      <td>4</td>\n",
       "      <td>1</td>\n",
       "    </tr>\n",
       "    <tr>\n",
       "      <th>1</th>\n",
       "      <td>55.0</td>\n",
       "      <td>0</td>\n",
       "      <td>7861</td>\n",
       "      <td>0</td>\n",
       "      <td>38</td>\n",
       "      <td>0</td>\n",
       "      <td>263358.03</td>\n",
       "      <td>1.1</td>\n",
       "      <td>136</td>\n",
       "      <td>1</td>\n",
       "      <td>0</td>\n",
       "      <td>6</td>\n",
       "      <td>1</td>\n",
       "    </tr>\n",
       "    <tr>\n",
       "      <th>2</th>\n",
       "      <td>65.0</td>\n",
       "      <td>0</td>\n",
       "      <td>146</td>\n",
       "      <td>0</td>\n",
       "      <td>20</td>\n",
       "      <td>0</td>\n",
       "      <td>162000.00</td>\n",
       "      <td>1.3</td>\n",
       "      <td>129</td>\n",
       "      <td>1</td>\n",
       "      <td>1</td>\n",
       "      <td>7</td>\n",
       "      <td>1</td>\n",
       "    </tr>\n",
       "    <tr>\n",
       "      <th>3</th>\n",
       "      <td>50.0</td>\n",
       "      <td>1</td>\n",
       "      <td>111</td>\n",
       "      <td>0</td>\n",
       "      <td>20</td>\n",
       "      <td>0</td>\n",
       "      <td>210000.00</td>\n",
       "      <td>1.9</td>\n",
       "      <td>137</td>\n",
       "      <td>1</td>\n",
       "      <td>0</td>\n",
       "      <td>7</td>\n",
       "      <td>1</td>\n",
       "    </tr>\n",
       "    <tr>\n",
       "      <th>4</th>\n",
       "      <td>65.0</td>\n",
       "      <td>1</td>\n",
       "      <td>160</td>\n",
       "      <td>1</td>\n",
       "      <td>20</td>\n",
       "      <td>0</td>\n",
       "      <td>327000.00</td>\n",
       "      <td>2.7</td>\n",
       "      <td>116</td>\n",
       "      <td>0</td>\n",
       "      <td>0</td>\n",
       "      <td>8</td>\n",
       "      <td>1</td>\n",
       "    </tr>\n",
       "  </tbody>\n",
       "</table>\n",
       "</div>"
      ],
      "text/plain": [
       "    age  anaemia  creatinine_phosphokinase  diabetes  ejection_fraction  \\\n",
       "0  75.0        0                       582         0                 20   \n",
       "1  55.0        0                      7861         0                 38   \n",
       "2  65.0        0                       146         0                 20   \n",
       "3  50.0        1                       111         0                 20   \n",
       "4  65.0        1                       160         1                 20   \n",
       "\n",
       "   high_blood_pressure  platelets  serum_creatinine  serum_sodium  sex  \\\n",
       "0                    1  265000.00               1.9           130    1   \n",
       "1                    0  263358.03               1.1           136    1   \n",
       "2                    0  162000.00               1.3           129    1   \n",
       "3                    0  210000.00               1.9           137    1   \n",
       "4                    0  327000.00               2.7           116    0   \n",
       "\n",
       "   smoking  time  DEATH_EVENT  \n",
       "0        0     4            1  \n",
       "1        0     6            1  \n",
       "2        1     7            1  \n",
       "3        0     7            1  \n",
       "4        0     8            1  "
      ]
     },
     "execution_count": 11,
     "metadata": {},
     "output_type": "execute_result"
    }
   ],
   "source": [
    "tds.to_pandas_dataframe().head()"
   ]
  },
  {
   "cell_type": "code",
   "execution_count": 12,
   "metadata": {},
   "outputs": [],
   "source": [
    "df= tds.to_pandas_dataframe()"
   ]
  },
  {
   "cell_type": "code",
   "execution_count": 13,
   "metadata": {},
   "outputs": [
    {
     "data": {
      "text/html": [
       "<div>\n",
       "<style scoped>\n",
       "    .dataframe tbody tr th:only-of-type {\n",
       "        vertical-align: middle;\n",
       "    }\n",
       "\n",
       "    .dataframe tbody tr th {\n",
       "        vertical-align: top;\n",
       "    }\n",
       "\n",
       "    .dataframe thead th {\n",
       "        text-align: right;\n",
       "    }\n",
       "</style>\n",
       "<table border=\"1\" class=\"dataframe\">\n",
       "  <thead>\n",
       "    <tr style=\"text-align: right;\">\n",
       "      <th></th>\n",
       "      <th>age</th>\n",
       "      <th>anaemia</th>\n",
       "      <th>creatinine_phosphokinase</th>\n",
       "      <th>diabetes</th>\n",
       "      <th>ejection_fraction</th>\n",
       "      <th>high_blood_pressure</th>\n",
       "      <th>platelets</th>\n",
       "      <th>serum_creatinine</th>\n",
       "      <th>serum_sodium</th>\n",
       "      <th>sex</th>\n",
       "      <th>smoking</th>\n",
       "      <th>time</th>\n",
       "    </tr>\n",
       "  </thead>\n",
       "  <tbody>\n",
       "    <tr>\n",
       "      <th>0</th>\n",
       "      <td>75.0</td>\n",
       "      <td>0</td>\n",
       "      <td>582</td>\n",
       "      <td>0</td>\n",
       "      <td>20</td>\n",
       "      <td>1</td>\n",
       "      <td>265000.00</td>\n",
       "      <td>1.9</td>\n",
       "      <td>130</td>\n",
       "      <td>1</td>\n",
       "      <td>0</td>\n",
       "      <td>4</td>\n",
       "    </tr>\n",
       "    <tr>\n",
       "      <th>1</th>\n",
       "      <td>55.0</td>\n",
       "      <td>0</td>\n",
       "      <td>7861</td>\n",
       "      <td>0</td>\n",
       "      <td>38</td>\n",
       "      <td>0</td>\n",
       "      <td>263358.03</td>\n",
       "      <td>1.1</td>\n",
       "      <td>136</td>\n",
       "      <td>1</td>\n",
       "      <td>0</td>\n",
       "      <td>6</td>\n",
       "    </tr>\n",
       "    <tr>\n",
       "      <th>2</th>\n",
       "      <td>65.0</td>\n",
       "      <td>0</td>\n",
       "      <td>146</td>\n",
       "      <td>0</td>\n",
       "      <td>20</td>\n",
       "      <td>0</td>\n",
       "      <td>162000.00</td>\n",
       "      <td>1.3</td>\n",
       "      <td>129</td>\n",
       "      <td>1</td>\n",
       "      <td>1</td>\n",
       "      <td>7</td>\n",
       "    </tr>\n",
       "    <tr>\n",
       "      <th>3</th>\n",
       "      <td>50.0</td>\n",
       "      <td>1</td>\n",
       "      <td>111</td>\n",
       "      <td>0</td>\n",
       "      <td>20</td>\n",
       "      <td>0</td>\n",
       "      <td>210000.00</td>\n",
       "      <td>1.9</td>\n",
       "      <td>137</td>\n",
       "      <td>1</td>\n",
       "      <td>0</td>\n",
       "      <td>7</td>\n",
       "    </tr>\n",
       "    <tr>\n",
       "      <th>4</th>\n",
       "      <td>65.0</td>\n",
       "      <td>1</td>\n",
       "      <td>160</td>\n",
       "      <td>1</td>\n",
       "      <td>20</td>\n",
       "      <td>0</td>\n",
       "      <td>327000.00</td>\n",
       "      <td>2.7</td>\n",
       "      <td>116</td>\n",
       "      <td>0</td>\n",
       "      <td>0</td>\n",
       "      <td>8</td>\n",
       "    </tr>\n",
       "  </tbody>\n",
       "</table>\n",
       "</div>"
      ],
      "text/plain": [
       "    age  anaemia  creatinine_phosphokinase  diabetes  ejection_fraction  \\\n",
       "0  75.0        0                       582         0                 20   \n",
       "1  55.0        0                      7861         0                 38   \n",
       "2  65.0        0                       146         0                 20   \n",
       "3  50.0        1                       111         0                 20   \n",
       "4  65.0        1                       160         1                 20   \n",
       "\n",
       "   high_blood_pressure  platelets  serum_creatinine  serum_sodium  sex  \\\n",
       "0                    1  265000.00               1.9           130    1   \n",
       "1                    0  263358.03               1.1           136    1   \n",
       "2                    0  162000.00               1.3           129    1   \n",
       "3                    0  210000.00               1.9           137    1   \n",
       "4                    0  327000.00               2.7           116    0   \n",
       "\n",
       "   smoking  time  \n",
       "0        0     4  \n",
       "1        0     6  \n",
       "2        1     7  \n",
       "3        0     7  \n",
       "4        0     8  "
      ]
     },
     "execution_count": 13,
     "metadata": {},
     "output_type": "execute_result"
    }
   ],
   "source": [
    "dataset_x = tds.to_pandas_dataframe().drop('DEATH_EVENT', axis= 1)\n",
    "dataset_x.head()"
   ]
  },
  {
   "cell_type": "markdown",
   "metadata": {},
   "source": [
    "## AutoML Configuration\n",
    "\n",
    "TODO: Explain why you chose the automl settings and cofiguration you used below."
   ]
  },
  {
   "cell_type": "code",
   "execution_count": 18,
   "metadata": {
    "gather": {
     "logged": 1598429217746
    },
    "jupyter": {
     "outputs_hidden": false,
     "source_hidden": false
    },
    "nteract": {
     "transient": {
      "deleting": false
     }
    }
   },
   "outputs": [],
   "source": [
    "# TODO: Put your automl settings here\n",
    "automl_settings = {\n",
    "    \"experiment_timeout_minutes\": 20,\n",
    "    \"max_concurrent_iterations\": 4,\n",
    "    \"primary_metric\" : 'accuracy'\n",
    "}\n",
    "\n",
    "# TODO: Put your automl config here\n",
    "automl_config = AutoMLConfig(compute_target=compute_target,\n",
    "                             task = \"classification\",\n",
    "                             training_data=tds,\n",
    "                             label_column_name=\"DEATH_EVENT\",   \n",
    "                             enable_early_stopping= True,\n",
    "                             featurization= 'auto',\n",
    "                             debug_log = \"automl_errors.log\",\n",
    "                             **automl_settings\n",
    "                            )"
   ]
  },
  {
   "cell_type": "code",
   "execution_count": 19,
   "metadata": {
    "gather": {
     "logged": 1598431107951
    },
    "jupyter": {
     "outputs_hidden": false,
     "source_hidden": false
    },
    "nteract": {
     "transient": {
      "deleting": false
     }
    }
   },
   "outputs": [
    {
     "name": "stdout",
     "output_type": "stream",
     "text": [
      "Running on remote.\n"
     ]
    }
   ],
   "source": [
    "# TODO: Submit your experiment\n",
    "remote_run = experiment.submit(automl_config)"
   ]
  },
  {
   "cell_type": "markdown",
   "metadata": {},
   "source": [
    "## Run Details\n",
    "\n",
    "OPTIONAL: Write about the different models trained and their performance. Why do you think some models did better than others?\n",
    "\n",
    "TODO: In the cell below, use the `RunDetails` widget to show the different experiments."
   ]
  },
  {
   "cell_type": "code",
   "execution_count": 20,
   "metadata": {
    "gather": {
     "logged": 1598431121770
    },
    "jupyter": {
     "outputs_hidden": false,
     "source_hidden": false
    },
    "nteract": {
     "transient": {
      "deleting": false
     }
    }
   },
   "outputs": [
    {
     "name": "stdout",
     "output_type": "stream",
     "text": [
      "\n",
      "Current status: FeaturesGeneration. Generating features for the dataset.\n",
      "Current status: DatasetCrossValidationSplit. Generating individually featurized CV splits.\n",
      "Current status: ModelSelection. Beginning model selection.\n",
      "\n",
      "****************************************************************************************************\n",
      "DATA GUARDRAILS: \n",
      "\n",
      "TYPE:         Cross validation\n",
      "STATUS:       DONE\n",
      "DESCRIPTION:  Each iteration of the trained model was validated through cross-validation.\n",
      "              \n",
      "DETAILS:      \n",
      "+---------------------------------+\n",
      "|Number of folds                  |\n",
      "+=================================+\n",
      "|10                               |\n",
      "+---------------------------------+\n",
      "\n",
      "****************************************************************************************************\n",
      "\n",
      "TYPE:         Class balancing detection\n",
      "STATUS:       PASSED\n",
      "DESCRIPTION:  Your inputs were analyzed, and all classes are balanced in your training data.\n",
      "              Learn more about imbalanced data: https://aka.ms/AutomatedMLImbalancedData\n",
      "\n",
      "****************************************************************************************************\n",
      "\n",
      "TYPE:         Missing feature values imputation\n",
      "STATUS:       PASSED\n",
      "DESCRIPTION:  No feature missing values were detected in the training data.\n",
      "              Learn more about missing value imputation: https://aka.ms/AutomatedMLFeaturization\n",
      "\n",
      "****************************************************************************************************\n",
      "\n",
      "TYPE:         High cardinality feature detection\n",
      "STATUS:       PASSED\n",
      "DESCRIPTION:  Your inputs were analyzed, and no high cardinality features were detected.\n",
      "              Learn more about high cardinality feature handling: https://aka.ms/AutomatedMLFeaturization\n",
      "\n",
      "****************************************************************************************************\n",
      "\n",
      "****************************************************************************************************\n",
      "ITERATION: The iteration being evaluated.\n",
      "PIPELINE: A summary description of the pipeline being evaluated.\n",
      "DURATION: Time taken for the current iteration.\n",
      "METRIC: The result of computing score on the fitted pipeline.\n",
      "BEST: The best observed score thus far.\n",
      "****************************************************************************************************\n",
      "\n",
      " ITERATION   PIPELINE                                       DURATION      METRIC      BEST\n",
      "         0   MaxAbsScaler LightGBM                          0:00:45       0.8360    0.8360\n",
      "         2   MinMaxScaler RandomForest                      0:00:46       0.8428    0.8428\n",
      "         3   MinMaxScaler RandomForest                      0:00:45       0.8359    0.8428\n",
      "         5   RobustScaler LogisticRegression                0:00:45       0.8025    0.8428\n",
      "         7   SparseNormalizer XGBoostClassifier             0:00:37       0.8328    0.8428\n",
      "         8   StandardScalerWrapper RandomForest             0:00:46       0.8325    0.8428\n",
      "         1   MaxAbsScaler XGBoostClassifier                 0:03:13       0.8359    0.8428\n",
      "         4   MinMaxScaler RandomForest                      0:03:26       0.8291    0.8428\n",
      "         9   MaxAbsScaler ExtremeRandomTrees                0:00:49       0.8362    0.8428\n",
      "        10   RobustScaler RandomForest                      0:00:43       0.8360    0.8428\n",
      "        11   StandardScalerWrapper LightGBM                 0:00:46       0.8325    0.8428\n",
      "        12   SparseNormalizer LightGBM                      0:00:49       0.8329    0.8428\n",
      "        13   SparseNormalizer XGBoostClassifier             0:00:42       0.8093    0.8428\n",
      "        14   SparseNormalizer XGBoostClassifier             0:00:48       0.8495    0.8495\n",
      "         6   MinMaxScaler SVM                               0:05:21       0.7292    0.8495\n",
      "        15   SparseNormalizer XGBoostClassifier             0:00:45       0.8528    0.8528\n",
      "        16   SparseNormalizer XGBoostClassifier             0:00:43       0.8362    0.8528\n",
      "        17   RobustScaler RandomForest                      0:00:44       0.8426    0.8528\n",
      "        18   MaxAbsScaler LightGBM                          0:00:48       0.8393    0.8528\n",
      "        19   SparseNormalizer XGBoostClassifier             0:00:48       0.8462    0.8528\n",
      "        20   StandardScalerWrapper LightGBM                 0:00:46       0.8226    0.8528\n",
      "        21   SparseNormalizer XGBoostClassifier             0:00:45       0.8229    0.8528\n",
      "        22   StandardScalerWrapper LightGBM                 0:00:49       0.8525    0.8528\n",
      "        23   StandardScalerWrapper GradientBoosting         0:00:43       0.8560    0.8560\n",
      "        24   StandardScalerWrapper LightGBM                 0:00:48       0.8393    0.8560\n",
      "        25   StandardScalerWrapper XGBoostClassifier        0:00:49       0.6792    0.8560\n",
      "        26   MinMaxScaler LightGBM                          0:00:43       0.8325    0.8560\n",
      "        27   StandardScalerWrapper LightGBM                 0:00:46       0.8125    0.8560\n",
      "        28   MinMaxScaler LightGBM                          0:00:45       0.8224    0.8560\n",
      "        29   StandardScalerWrapper XGBoostClassifier        0:00:43       0.8329    0.8560\n",
      "        30   SparseNormalizer GradientBoosting              0:00:52       0.7628    0.8560\n",
      "        31   SparseNormalizer XGBoostClassifier             0:00:46       0.8262    0.8560\n",
      "        32   MaxAbsScaler ExtremeRandomTrees                0:00:48       0.7957    0.8560\n",
      "        33   MaxAbsScaler RandomForest                      0:00:48       0.8123    0.8560\n",
      "        34   RobustScaler GradientBoosting                  0:00:41       0.7362    0.8560\n",
      "        35   StandardScalerWrapper ExtremeRandomTrees       0:00:51       0.7857    0.8560\n",
      "        36   StandardScalerWrapper XGBoostClassifier        0:00:45       0.8393    0.8560\n",
      "        37   StandardScalerWrapper XGBoostClassifier        0:00:40       0.8359    0.8560\n",
      "        38   SparseNormalizer XGBoostClassifier             0:00:21          nan    0.8560\n",
      "        39                                                  0:00:08          nan    0.8560\n",
      "        40    VotingEnsemble                                0:01:50       0.8831    0.8831\n",
      "        41    StackEnsemble                                 0:01:56       0.8662    0.8831\n"
     ]
    },
    {
     "data": {
      "text/plain": [
       "{'runId': 'AutoML_8934d6c4-8831-4d4b-98e5-907b3bdab98d',\n",
       " 'target': 'auto-ml',\n",
       " 'status': 'Completed',\n",
       " 'startTimeUtc': '2021-01-27T17:25:40.167204Z',\n",
       " 'endTimeUtc': '2021-01-27T17:51:18.521256Z',\n",
       " 'properties': {'num_iterations': '1000',\n",
       "  'training_type': 'TrainFull',\n",
       "  'acquisition_function': 'EI',\n",
       "  'primary_metric': 'accuracy',\n",
       "  'train_split': '0',\n",
       "  'acquisition_parameter': '0',\n",
       "  'num_cross_validation': None,\n",
       "  'target': 'auto-ml',\n",
       "  'AMLSettingsJsonString': '{\"path\":null,\"name\":\"capstone-Automl\",\"subscription_id\":\"9b72f9e6-56c5-4c16-991b-19c652994860\",\"resource_group\":\"aml-quickstarts-136287\",\"workspace_name\":\"quick-starts-ws-136287\",\"region\":\"southcentralus\",\"compute_target\":\"auto-ml\",\"spark_service\":null,\"azure_service\":\"remote\",\"many_models\":false,\"pipeline_fetch_max_batch_size\":1,\"iterations\":1000,\"primary_metric\":\"accuracy\",\"task_type\":\"classification\",\"data_script\":null,\"validation_size\":0.0,\"n_cross_validations\":null,\"y_min\":null,\"y_max\":null,\"num_classes\":null,\"featurization\":\"auto\",\"_ignore_package_version_incompatibilities\":false,\"is_timeseries\":false,\"max_cores_per_iteration\":1,\"max_concurrent_iterations\":4,\"iteration_timeout_minutes\":null,\"mem_in_mb\":null,\"enforce_time_on_windows\":false,\"experiment_timeout_minutes\":20,\"experiment_exit_score\":null,\"whitelist_models\":null,\"blacklist_algos\":[\"TensorFlowLinearClassifier\",\"TensorFlowDNN\"],\"supported_models\":[\"ExtremeRandomTrees\",\"MultinomialNaiveBayes\",\"XGBoostClassifier\",\"TensorFlowDNN\",\"KNN\",\"GradientBoosting\",\"SVM\",\"RandomForest\",\"LightGBM\",\"TensorFlowLinearClassifier\",\"LinearSVM\",\"SGD\",\"LogisticRegression\",\"DecisionTree\",\"AveragedPerceptronClassifier\",\"BernoulliNaiveBayes\"],\"auto_blacklist\":true,\"blacklist_samples_reached\":false,\"exclude_nan_labels\":true,\"verbosity\":20,\"_debug_log\":\"azureml_automl.log\",\"show_warnings\":false,\"model_explainability\":true,\"service_url\":null,\"sdk_url\":null,\"sdk_packages\":null,\"enable_onnx_compatible_models\":false,\"enable_split_onnx_featurizer_estimator_models\":false,\"vm_type\":\"STANDARD_D2_V2\",\"telemetry_verbosity\":20,\"send_telemetry\":true,\"enable_dnn\":false,\"scenario\":\"SDK-1.13.0\",\"environment_label\":null,\"force_text_dnn\":false,\"enable_feature_sweeping\":true,\"enable_early_stopping\":true,\"early_stopping_n_iters\":10,\"metrics\":null,\"enable_ensembling\":true,\"enable_stack_ensembling\":true,\"ensemble_iterations\":15,\"enable_tf\":false,\"enable_subsampling\":null,\"subsample_seed\":null,\"enable_nimbusml\":false,\"enable_streaming\":false,\"force_streaming\":false,\"track_child_runs\":true,\"allowed_private_models\":[],\"label_column_name\":\"DEATH_EVENT\",\"weight_column_name\":null,\"cv_split_column_names\":null,\"enable_local_managed\":false,\"_local_managed_run_id\":null,\"cost_mode\":1,\"lag_length\":0,\"metric_operation\":\"maximize\",\"preprocess\":true}',\n",
       "  'DataPrepJsonString': '{\\\\\"training_data\\\\\": \\\\\"{\\\\\\\\\\\\\"blocks\\\\\\\\\\\\\": [{\\\\\\\\\\\\\"id\\\\\\\\\\\\\": \\\\\\\\\\\\\"32053999-7415-4071-832a-3e103cea5856\\\\\\\\\\\\\", \\\\\\\\\\\\\"type\\\\\\\\\\\\\": \\\\\\\\\\\\\"Microsoft.DPrep.GetDatastoreFilesBlock\\\\\\\\\\\\\", \\\\\\\\\\\\\"arguments\\\\\\\\\\\\\": {\\\\\\\\\\\\\"datastores\\\\\\\\\\\\\": [{\\\\\\\\\\\\\"datastoreName\\\\\\\\\\\\\": \\\\\\\\\\\\\"workspaceblobstore\\\\\\\\\\\\\", \\\\\\\\\\\\\"path\\\\\\\\\\\\\": \\\\\\\\\\\\\"./heart_failure_clinical_records_dataset.csv\\\\\\\\\\\\\", \\\\\\\\\\\\\"resourceGroup\\\\\\\\\\\\\": \\\\\\\\\\\\\"aml-quickstarts-136287\\\\\\\\\\\\\", \\\\\\\\\\\\\"subscription\\\\\\\\\\\\\": \\\\\\\\\\\\\"9b72f9e6-56c5-4c16-991b-19c652994860\\\\\\\\\\\\\", \\\\\\\\\\\\\"workspaceName\\\\\\\\\\\\\": \\\\\\\\\\\\\"quick-starts-ws-136287\\\\\\\\\\\\\"}]}, \\\\\\\\\\\\\"localData\\\\\\\\\\\\\": {}, \\\\\\\\\\\\\"isEnabled\\\\\\\\\\\\\": true, \\\\\\\\\\\\\"name\\\\\\\\\\\\\": null, \\\\\\\\\\\\\"annotation\\\\\\\\\\\\\": null}, {\\\\\\\\\\\\\"id\\\\\\\\\\\\\": \\\\\\\\\\\\\"48be00b5-fe6f-4709-9ff6-2ab09c6cf0fd\\\\\\\\\\\\\", \\\\\\\\\\\\\"type\\\\\\\\\\\\\": \\\\\\\\\\\\\"Microsoft.DPrep.ParseDelimitedBlock\\\\\\\\\\\\\", \\\\\\\\\\\\\"arguments\\\\\\\\\\\\\": {\\\\\\\\\\\\\"columnHeadersMode\\\\\\\\\\\\\": 3, \\\\\\\\\\\\\"fileEncoding\\\\\\\\\\\\\": 0, \\\\\\\\\\\\\"handleQuotedLineBreaks\\\\\\\\\\\\\": false, \\\\\\\\\\\\\"preview\\\\\\\\\\\\\": false, \\\\\\\\\\\\\"separator\\\\\\\\\\\\\": \\\\\\\\\\\\\",\\\\\\\\\\\\\", \\\\\\\\\\\\\"skipRows\\\\\\\\\\\\\": 0, \\\\\\\\\\\\\"skipRowsMode\\\\\\\\\\\\\": 0}, \\\\\\\\\\\\\"localData\\\\\\\\\\\\\": {}, \\\\\\\\\\\\\"isEnabled\\\\\\\\\\\\\": true, \\\\\\\\\\\\\"name\\\\\\\\\\\\\": null, \\\\\\\\\\\\\"annotation\\\\\\\\\\\\\": null}, {\\\\\\\\\\\\\"id\\\\\\\\\\\\\": \\\\\\\\\\\\\"76495310-e976-4b3c-8b19-5218efe38c32\\\\\\\\\\\\\", \\\\\\\\\\\\\"type\\\\\\\\\\\\\": \\\\\\\\\\\\\"Microsoft.DPrep.DropColumnsBlock\\\\\\\\\\\\\", \\\\\\\\\\\\\"arguments\\\\\\\\\\\\\": {\\\\\\\\\\\\\"columns\\\\\\\\\\\\\": {\\\\\\\\\\\\\"type\\\\\\\\\\\\\": 0, \\\\\\\\\\\\\"details\\\\\\\\\\\\\": {\\\\\\\\\\\\\"selectedColumns\\\\\\\\\\\\\": [\\\\\\\\\\\\\"Path\\\\\\\\\\\\\"]}}}, \\\\\\\\\\\\\"localData\\\\\\\\\\\\\": {}, \\\\\\\\\\\\\"isEnabled\\\\\\\\\\\\\": true, \\\\\\\\\\\\\"name\\\\\\\\\\\\\": null, \\\\\\\\\\\\\"annotation\\\\\\\\\\\\\": null}, {\\\\\\\\\\\\\"id\\\\\\\\\\\\\": \\\\\\\\\\\\\"f759151d-a01a-4444-9aec-5634de1b074d\\\\\\\\\\\\\", \\\\\\\\\\\\\"type\\\\\\\\\\\\\": \\\\\\\\\\\\\"Microsoft.DPrep.SetColumnTypesBlock\\\\\\\\\\\\\", \\\\\\\\\\\\\"arguments\\\\\\\\\\\\\": {\\\\\\\\\\\\\"columnConversion\\\\\\\\\\\\\": [{\\\\\\\\\\\\\"column\\\\\\\\\\\\\": {\\\\\\\\\\\\\"type\\\\\\\\\\\\\": 2, \\\\\\\\\\\\\"details\\\\\\\\\\\\\": {\\\\\\\\\\\\\"selectedColumn\\\\\\\\\\\\\": \\\\\\\\\\\\\"age\\\\\\\\\\\\\"}}, \\\\\\\\\\\\\"typeProperty\\\\\\\\\\\\\": 3}, {\\\\\\\\\\\\\"column\\\\\\\\\\\\\": {\\\\\\\\\\\\\"type\\\\\\\\\\\\\": 2, \\\\\\\\\\\\\"details\\\\\\\\\\\\\": {\\\\\\\\\\\\\"selectedColumn\\\\\\\\\\\\\": \\\\\\\\\\\\\"anaemia\\\\\\\\\\\\\"}}, \\\\\\\\\\\\\"typeProperty\\\\\\\\\\\\\": 2}, {\\\\\\\\\\\\\"column\\\\\\\\\\\\\": {\\\\\\\\\\\\\"type\\\\\\\\\\\\\": 2, \\\\\\\\\\\\\"details\\\\\\\\\\\\\": {\\\\\\\\\\\\\"selectedColumn\\\\\\\\\\\\\": \\\\\\\\\\\\\"creatinine_phosphokinase\\\\\\\\\\\\\"}}, \\\\\\\\\\\\\"typeProperty\\\\\\\\\\\\\": 2}, {\\\\\\\\\\\\\"column\\\\\\\\\\\\\": {\\\\\\\\\\\\\"type\\\\\\\\\\\\\": 2, \\\\\\\\\\\\\"details\\\\\\\\\\\\\": {\\\\\\\\\\\\\"selectedColumn\\\\\\\\\\\\\": \\\\\\\\\\\\\"diabetes\\\\\\\\\\\\\"}}, \\\\\\\\\\\\\"typeProperty\\\\\\\\\\\\\": 2}, {\\\\\\\\\\\\\"column\\\\\\\\\\\\\": {\\\\\\\\\\\\\"type\\\\\\\\\\\\\": 2, \\\\\\\\\\\\\"details\\\\\\\\\\\\\": {\\\\\\\\\\\\\"selectedColumn\\\\\\\\\\\\\": \\\\\\\\\\\\\"ejection_fraction\\\\\\\\\\\\\"}}, \\\\\\\\\\\\\"typeProperty\\\\\\\\\\\\\": 2}, {\\\\\\\\\\\\\"column\\\\\\\\\\\\\": {\\\\\\\\\\\\\"type\\\\\\\\\\\\\": 2, \\\\\\\\\\\\\"details\\\\\\\\\\\\\": {\\\\\\\\\\\\\"selectedColumn\\\\\\\\\\\\\": \\\\\\\\\\\\\"high_blood_pressure\\\\\\\\\\\\\"}}, \\\\\\\\\\\\\"typeProperty\\\\\\\\\\\\\": 2}, {\\\\\\\\\\\\\"column\\\\\\\\\\\\\": {\\\\\\\\\\\\\"type\\\\\\\\\\\\\": 2, \\\\\\\\\\\\\"details\\\\\\\\\\\\\": {\\\\\\\\\\\\\"selectedColumn\\\\\\\\\\\\\": \\\\\\\\\\\\\"platelets\\\\\\\\\\\\\"}}, \\\\\\\\\\\\\"typeProperty\\\\\\\\\\\\\": 3}, {\\\\\\\\\\\\\"column\\\\\\\\\\\\\": {\\\\\\\\\\\\\"type\\\\\\\\\\\\\": 2, \\\\\\\\\\\\\"details\\\\\\\\\\\\\": {\\\\\\\\\\\\\"selectedColumn\\\\\\\\\\\\\": \\\\\\\\\\\\\"serum_creatinine\\\\\\\\\\\\\"}}, \\\\\\\\\\\\\"typeProperty\\\\\\\\\\\\\": 3}, {\\\\\\\\\\\\\"column\\\\\\\\\\\\\": {\\\\\\\\\\\\\"type\\\\\\\\\\\\\": 2, \\\\\\\\\\\\\"details\\\\\\\\\\\\\": {\\\\\\\\\\\\\"selectedColumn\\\\\\\\\\\\\": \\\\\\\\\\\\\"serum_sodium\\\\\\\\\\\\\"}}, \\\\\\\\\\\\\"typeProperty\\\\\\\\\\\\\": 2}, {\\\\\\\\\\\\\"column\\\\\\\\\\\\\": {\\\\\\\\\\\\\"type\\\\\\\\\\\\\": 2, \\\\\\\\\\\\\"details\\\\\\\\\\\\\": {\\\\\\\\\\\\\"selectedColumn\\\\\\\\\\\\\": \\\\\\\\\\\\\"sex\\\\\\\\\\\\\"}}, \\\\\\\\\\\\\"typeProperty\\\\\\\\\\\\\": 2}, {\\\\\\\\\\\\\"column\\\\\\\\\\\\\": {\\\\\\\\\\\\\"type\\\\\\\\\\\\\": 2, \\\\\\\\\\\\\"details\\\\\\\\\\\\\": {\\\\\\\\\\\\\"selectedColumn\\\\\\\\\\\\\": \\\\\\\\\\\\\"smoking\\\\\\\\\\\\\"}}, \\\\\\\\\\\\\"typeProperty\\\\\\\\\\\\\": 2}, {\\\\\\\\\\\\\"column\\\\\\\\\\\\\": {\\\\\\\\\\\\\"type\\\\\\\\\\\\\": 2, \\\\\\\\\\\\\"details\\\\\\\\\\\\\": {\\\\\\\\\\\\\"selectedColumn\\\\\\\\\\\\\": \\\\\\\\\\\\\"time\\\\\\\\\\\\\"}}, \\\\\\\\\\\\\"typeProperty\\\\\\\\\\\\\": 2}, {\\\\\\\\\\\\\"column\\\\\\\\\\\\\": {\\\\\\\\\\\\\"type\\\\\\\\\\\\\": 2, \\\\\\\\\\\\\"details\\\\\\\\\\\\\": {\\\\\\\\\\\\\"selectedColumn\\\\\\\\\\\\\": \\\\\\\\\\\\\"DEATH_EVENT\\\\\\\\\\\\\"}}, \\\\\\\\\\\\\"typeProperty\\\\\\\\\\\\\": 2}]}, \\\\\\\\\\\\\"localData\\\\\\\\\\\\\": {}, \\\\\\\\\\\\\"isEnabled\\\\\\\\\\\\\": true, \\\\\\\\\\\\\"name\\\\\\\\\\\\\": null, \\\\\\\\\\\\\"annotation\\\\\\\\\\\\\": null}], \\\\\\\\\\\\\"inspectors\\\\\\\\\\\\\": [], \\\\\\\\\\\\\"meta\\\\\\\\\\\\\": {\\\\\\\\\\\\\"savedDatasetId\\\\\\\\\\\\\": \\\\\\\\\\\\\"714ee821-cb49-46f1-8a4f-e3a2ca0f6b8e\\\\\\\\\\\\\", \\\\\\\\\\\\\"datasetType\\\\\\\\\\\\\": \\\\\\\\\\\\\"tabular\\\\\\\\\\\\\", \\\\\\\\\\\\\"subscriptionId\\\\\\\\\\\\\": \\\\\\\\\\\\\"9b72f9e6-56c5-4c16-991b-19c652994860\\\\\\\\\\\\\", \\\\\\\\\\\\\"workspaceId\\\\\\\\\\\\\": \\\\\\\\\\\\\"b6ede4cc-9c24-41f3-8018-5933dca9f4d5\\\\\\\\\\\\\", \\\\\\\\\\\\\"workspaceLocation\\\\\\\\\\\\\": \\\\\\\\\\\\\"southcentralus\\\\\\\\\\\\\"}}\\\\\", \\\\\"activities\\\\\": 0}',\n",
       "  'EnableSubsampling': None,\n",
       "  'runTemplate': 'AutoML',\n",
       "  'azureml.runsource': 'automl',\n",
       "  'display_task_type': 'classification',\n",
       "  'dependencies_versions': '{\"azureml-widgets\": \"1.20.0\", \"azureml-train\": \"1.20.0\", \"azureml-train-restclients-hyperdrive\": \"1.20.0\", \"azureml-train-core\": \"1.20.0\", \"azureml-train-automl\": \"1.20.0\", \"azureml-train-automl-runtime\": \"1.20.0\", \"azureml-train-automl-client\": \"1.20.0\", \"azureml-tensorboard\": \"1.20.0\", \"azureml-telemetry\": \"1.20.0\", \"azureml-sdk\": \"1.20.0\", \"azureml-samples\": \"0+unknown\", \"azureml-pipeline\": \"1.20.0\", \"azureml-pipeline-steps\": \"1.20.0\", \"azureml-pipeline-core\": \"1.20.0\", \"azureml-opendatasets\": \"1.20.0\", \"azureml-model-management-sdk\": \"1.0.1b6.post1\", \"azureml-mlflow\": \"1.20.0.post1\", \"azureml-interpret\": \"1.20.0\", \"azureml-explain-model\": \"1.20.0\", \"azureml-defaults\": \"1.20.0\", \"azureml-dataset-runtime\": \"1.20.0\", \"azureml-dataprep\": \"2.7.3\", \"azureml-dataprep-rslex\": \"1.5.0\", \"azureml-dataprep-native\": \"27.0.0\", \"azureml-datadrift\": \"1.20.0\", \"azureml-core\": \"1.20.0\", \"azureml-contrib-services\": \"1.20.0\", \"azureml-contrib-server\": \"1.20.0\", \"azureml-contrib-reinforcementlearning\": \"1.20.0\", \"azureml-contrib-pipeline-steps\": \"1.20.0\", \"azureml-contrib-notebook\": \"1.20.0\", \"azureml-contrib-interpret\": \"1.20.0\", \"azureml-contrib-gbdt\": \"1.20.0\", \"azureml-contrib-fairness\": \"1.20.0\", \"azureml-contrib-dataset\": \"1.20.0\", \"azureml-cli-common\": \"1.20.0\", \"azureml-automl-runtime\": \"1.20.0\", \"azureml-automl-core\": \"1.20.0\", \"azureml-accel-models\": \"1.20.0\"}',\n",
       "  '_aml_system_scenario_identification': 'Remote.Parent',\n",
       "  'ClientType': 'SDK',\n",
       "  'environment_cpu_name': 'AzureML-AutoML',\n",
       "  'environment_cpu_label': 'prod',\n",
       "  'environment_gpu_name': 'AzureML-AutoML-GPU',\n",
       "  'environment_gpu_label': 'prod',\n",
       "  'root_attribution': 'automl',\n",
       "  'attribution': 'AutoML',\n",
       "  'Orchestrator': 'AutoML',\n",
       "  'CancelUri': 'https://southcentralus.experiments.azureml.net/jasmine/v1.0/subscriptions/9b72f9e6-56c5-4c16-991b-19c652994860/resourceGroups/aml-quickstarts-136287/providers/Microsoft.MachineLearningServices/workspaces/quick-starts-ws-136287/experimentids/953db504-6943-4fc4-a91a-a5f1c6e7268c/cancel/AutoML_8934d6c4-8831-4d4b-98e5-907b3bdab98d',\n",
       "  'ClientSdkVersion': '1.20.0.post1',\n",
       "  'snapshotId': '00000000-0000-0000-0000-000000000000',\n",
       "  'SetupRunId': 'AutoML_8934d6c4-8831-4d4b-98e5-907b3bdab98d_setup',\n",
       "  'SetupRunContainerId': 'dcid.AutoML_8934d6c4-8831-4d4b-98e5-907b3bdab98d_setup',\n",
       "  'FeaturizationRunJsonPath': 'featurizer_container.json',\n",
       "  'FeaturizationRunId': 'AutoML_8934d6c4-8831-4d4b-98e5-907b3bdab98d_featurize',\n",
       "  'ProblemInfoJsonString': '{\"dataset_num_categorical\": 0, \"is_sparse\": false, \"subsampling\": false, \"dataset_classes\": 2, \"dataset_features\": 12, \"dataset_samples\": 299, \"single_frequency_class_detected\": false}',\n",
       "  'ModelExplainRunId': 'AutoML_8934d6c4-8831-4d4b-98e5-907b3bdab98d_ModelExplain'},\n",
       " 'inputDatasets': [{'dataset': {'id': '714ee821-cb49-46f1-8a4f-e3a2ca0f6b8e'}, 'consumptionDetails': {'type': 'RunInput', 'inputName': 'training_data', 'mechanism': 'Direct'}}],\n",
       " 'outputDatasets': [],\n",
       " 'logFiles': {},\n",
       " 'submittedBy': 'ODL_User 136287'}"
      ]
     },
     "execution_count": 20,
     "metadata": {},
     "output_type": "execute_result"
    }
   ],
   "source": [
    "# Retrieve and save your best automl model.\n",
    "remote_run.wait_for_completion(show_output=True)\n",
    "\n"
   ]
  },
  {
   "cell_type": "code",
   "execution_count": 21,
   "metadata": {},
   "outputs": [
    {
     "data": {
      "application/vnd.jupyter.widget-view+json": {
       "model_id": "49072850795546c19dc35010e9ff01fe",
       "version_major": 2,
       "version_minor": 0
      },
      "text/plain": [
       "_AutoMLWidget(widget_settings={'childWidgetDisplay': 'popup', 'send_telemetry': False, 'log_level': 'INFO', 's…"
      ]
     },
     "metadata": {},
     "output_type": "display_data"
    },
    {
     "data": {
      "application/aml.mini.widget.v1": "{\"status\": \"Completed\", \"workbench_run_details_uri\": \"https://ml.azure.com/experiments/capstone-Automl/runs/AutoML_8934d6c4-8831-4d4b-98e5-907b3bdab98d?wsid=/subscriptions/9b72f9e6-56c5-4c16-991b-19c652994860/resourcegroups/aml-quickstarts-136287/workspaces/quick-starts-ws-136287\", \"run_id\": \"AutoML_8934d6c4-8831-4d4b-98e5-907b3bdab98d\", \"run_properties\": {\"run_id\": \"AutoML_8934d6c4-8831-4d4b-98e5-907b3bdab98d\", \"created_utc\": \"2021-01-27T17:25:24.902862Z\", \"properties\": {\"num_iterations\": \"1000\", \"training_type\": \"TrainFull\", \"acquisition_function\": \"EI\", \"primary_metric\": \"accuracy\", \"train_split\": \"0\", \"acquisition_parameter\": \"0\", \"num_cross_validation\": null, \"target\": \"auto-ml\", \"AMLSettingsJsonString\": \"{\\\"path\\\":null,\\\"name\\\":\\\"capstone-Automl\\\",\\\"subscription_id\\\":\\\"9b72f9e6-56c5-4c16-991b-19c652994860\\\",\\\"resource_group\\\":\\\"aml-quickstarts-136287\\\",\\\"workspace_name\\\":\\\"quick-starts-ws-136287\\\",\\\"region\\\":\\\"southcentralus\\\",\\\"compute_target\\\":\\\"auto-ml\\\",\\\"spark_service\\\":null,\\\"azure_service\\\":\\\"remote\\\",\\\"many_models\\\":false,\\\"pipeline_fetch_max_batch_size\\\":1,\\\"iterations\\\":1000,\\\"primary_metric\\\":\\\"accuracy\\\",\\\"task_type\\\":\\\"classification\\\",\\\"data_script\\\":null,\\\"validation_size\\\":0.0,\\\"n_cross_validations\\\":null,\\\"y_min\\\":null,\\\"y_max\\\":null,\\\"num_classes\\\":null,\\\"featurization\\\":\\\"auto\\\",\\\"_ignore_package_version_incompatibilities\\\":false,\\\"is_timeseries\\\":false,\\\"max_cores_per_iteration\\\":1,\\\"max_concurrent_iterations\\\":4,\\\"iteration_timeout_minutes\\\":null,\\\"mem_in_mb\\\":null,\\\"enforce_time_on_windows\\\":false,\\\"experiment_timeout_minutes\\\":20,\\\"experiment_exit_score\\\":null,\\\"whitelist_models\\\":null,\\\"blacklist_algos\\\":[\\\"TensorFlowLinearClassifier\\\",\\\"TensorFlowDNN\\\"],\\\"supported_models\\\":[\\\"ExtremeRandomTrees\\\",\\\"MultinomialNaiveBayes\\\",\\\"XGBoostClassifier\\\",\\\"TensorFlowDNN\\\",\\\"KNN\\\",\\\"GradientBoosting\\\",\\\"SVM\\\",\\\"RandomForest\\\",\\\"LightGBM\\\",\\\"TensorFlowLinearClassifier\\\",\\\"LinearSVM\\\",\\\"SGD\\\",\\\"LogisticRegression\\\",\\\"DecisionTree\\\",\\\"AveragedPerceptronClassifier\\\",\\\"BernoulliNaiveBayes\\\"],\\\"auto_blacklist\\\":true,\\\"blacklist_samples_reached\\\":false,\\\"exclude_nan_labels\\\":true,\\\"verbosity\\\":20,\\\"_debug_log\\\":\\\"azureml_automl.log\\\",\\\"show_warnings\\\":false,\\\"model_explainability\\\":true,\\\"service_url\\\":null,\\\"sdk_url\\\":null,\\\"sdk_packages\\\":null,\\\"enable_onnx_compatible_models\\\":false,\\\"enable_split_onnx_featurizer_estimator_models\\\":false,\\\"vm_type\\\":\\\"STANDARD_D2_V2\\\",\\\"telemetry_verbosity\\\":20,\\\"send_telemetry\\\":true,\\\"enable_dnn\\\":false,\\\"scenario\\\":\\\"SDK-1.13.0\\\",\\\"environment_label\\\":null,\\\"force_text_dnn\\\":false,\\\"enable_feature_sweeping\\\":true,\\\"enable_early_stopping\\\":true,\\\"early_stopping_n_iters\\\":10,\\\"metrics\\\":null,\\\"enable_ensembling\\\":true,\\\"enable_stack_ensembling\\\":true,\\\"ensemble_iterations\\\":15,\\\"enable_tf\\\":false,\\\"enable_subsampling\\\":null,\\\"subsample_seed\\\":null,\\\"enable_nimbusml\\\":false,\\\"enable_streaming\\\":false,\\\"force_streaming\\\":false,\\\"track_child_runs\\\":true,\\\"allowed_private_models\\\":[],\\\"label_column_name\\\":\\\"DEATH_EVENT\\\",\\\"weight_column_name\\\":null,\\\"cv_split_column_names\\\":null,\\\"enable_local_managed\\\":false,\\\"_local_managed_run_id\\\":null,\\\"cost_mode\\\":1,\\\"lag_length\\\":0,\\\"metric_operation\\\":\\\"maximize\\\",\\\"preprocess\\\":true}\", \"DataPrepJsonString\": \"{\\\\\\\"training_data\\\\\\\": \\\\\\\"{\\\\\\\\\\\\\\\"blocks\\\\\\\\\\\\\\\": [{\\\\\\\\\\\\\\\"id\\\\\\\\\\\\\\\": \\\\\\\\\\\\\\\"32053999-7415-4071-832a-3e103cea5856\\\\\\\\\\\\\\\", \\\\\\\\\\\\\\\"type\\\\\\\\\\\\\\\": \\\\\\\\\\\\\\\"Microsoft.DPrep.GetDatastoreFilesBlock\\\\\\\\\\\\\\\", \\\\\\\\\\\\\\\"arguments\\\\\\\\\\\\\\\": {\\\\\\\\\\\\\\\"datastores\\\\\\\\\\\\\\\": [{\\\\\\\\\\\\\\\"datastoreName\\\\\\\\\\\\\\\": \\\\\\\\\\\\\\\"workspaceblobstore\\\\\\\\\\\\\\\", \\\\\\\\\\\\\\\"path\\\\\\\\\\\\\\\": \\\\\\\\\\\\\\\"./heart_failure_clinical_records_dataset.csv\\\\\\\\\\\\\\\", \\\\\\\\\\\\\\\"resourceGroup\\\\\\\\\\\\\\\": \\\\\\\\\\\\\\\"aml-quickstarts-136287\\\\\\\\\\\\\\\", \\\\\\\\\\\\\\\"subscription\\\\\\\\\\\\\\\": \\\\\\\\\\\\\\\"9b72f9e6-56c5-4c16-991b-19c652994860\\\\\\\\\\\\\\\", \\\\\\\\\\\\\\\"workspaceName\\\\\\\\\\\\\\\": \\\\\\\\\\\\\\\"quick-starts-ws-136287\\\\\\\\\\\\\\\"}]}, \\\\\\\\\\\\\\\"localData\\\\\\\\\\\\\\\": {}, \\\\\\\\\\\\\\\"isEnabled\\\\\\\\\\\\\\\": true, \\\\\\\\\\\\\\\"name\\\\\\\\\\\\\\\": null, \\\\\\\\\\\\\\\"annotation\\\\\\\\\\\\\\\": null}, {\\\\\\\\\\\\\\\"id\\\\\\\\\\\\\\\": \\\\\\\\\\\\\\\"48be00b5-fe6f-4709-9ff6-2ab09c6cf0fd\\\\\\\\\\\\\\\", \\\\\\\\\\\\\\\"type\\\\\\\\\\\\\\\": \\\\\\\\\\\\\\\"Microsoft.DPrep.ParseDelimitedBlock\\\\\\\\\\\\\\\", \\\\\\\\\\\\\\\"arguments\\\\\\\\\\\\\\\": {\\\\\\\\\\\\\\\"columnHeadersMode\\\\\\\\\\\\\\\": 3, \\\\\\\\\\\\\\\"fileEncoding\\\\\\\\\\\\\\\": 0, \\\\\\\\\\\\\\\"handleQuotedLineBreaks\\\\\\\\\\\\\\\": false, \\\\\\\\\\\\\\\"preview\\\\\\\\\\\\\\\": false, \\\\\\\\\\\\\\\"separator\\\\\\\\\\\\\\\": \\\\\\\\\\\\\\\",\\\\\\\\\\\\\\\", \\\\\\\\\\\\\\\"skipRows\\\\\\\\\\\\\\\": 0, \\\\\\\\\\\\\\\"skipRowsMode\\\\\\\\\\\\\\\": 0}, \\\\\\\\\\\\\\\"localData\\\\\\\\\\\\\\\": {}, \\\\\\\\\\\\\\\"isEnabled\\\\\\\\\\\\\\\": true, \\\\\\\\\\\\\\\"name\\\\\\\\\\\\\\\": null, \\\\\\\\\\\\\\\"annotation\\\\\\\\\\\\\\\": null}, {\\\\\\\\\\\\\\\"id\\\\\\\\\\\\\\\": \\\\\\\\\\\\\\\"76495310-e976-4b3c-8b19-5218efe38c32\\\\\\\\\\\\\\\", \\\\\\\\\\\\\\\"type\\\\\\\\\\\\\\\": \\\\\\\\\\\\\\\"Microsoft.DPrep.DropColumnsBlock\\\\\\\\\\\\\\\", \\\\\\\\\\\\\\\"arguments\\\\\\\\\\\\\\\": {\\\\\\\\\\\\\\\"columns\\\\\\\\\\\\\\\": {\\\\\\\\\\\\\\\"type\\\\\\\\\\\\\\\": 0, \\\\\\\\\\\\\\\"details\\\\\\\\\\\\\\\": {\\\\\\\\\\\\\\\"selectedColumns\\\\\\\\\\\\\\\": [\\\\\\\\\\\\\\\"Path\\\\\\\\\\\\\\\"]}}}, \\\\\\\\\\\\\\\"localData\\\\\\\\\\\\\\\": {}, \\\\\\\\\\\\\\\"isEnabled\\\\\\\\\\\\\\\": true, \\\\\\\\\\\\\\\"name\\\\\\\\\\\\\\\": null, \\\\\\\\\\\\\\\"annotation\\\\\\\\\\\\\\\": null}, {\\\\\\\\\\\\\\\"id\\\\\\\\\\\\\\\": \\\\\\\\\\\\\\\"f759151d-a01a-4444-9aec-5634de1b074d\\\\\\\\\\\\\\\", \\\\\\\\\\\\\\\"type\\\\\\\\\\\\\\\": \\\\\\\\\\\\\\\"Microsoft.DPrep.SetColumnTypesBlock\\\\\\\\\\\\\\\", \\\\\\\\\\\\\\\"arguments\\\\\\\\\\\\\\\": {\\\\\\\\\\\\\\\"columnConversion\\\\\\\\\\\\\\\": [{\\\\\\\\\\\\\\\"column\\\\\\\\\\\\\\\": {\\\\\\\\\\\\\\\"type\\\\\\\\\\\\\\\": 2, \\\\\\\\\\\\\\\"details\\\\\\\\\\\\\\\": {\\\\\\\\\\\\\\\"selectedColumn\\\\\\\\\\\\\\\": \\\\\\\\\\\\\\\"age\\\\\\\\\\\\\\\"}}, \\\\\\\\\\\\\\\"typeProperty\\\\\\\\\\\\\\\": 3}, {\\\\\\\\\\\\\\\"column\\\\\\\\\\\\\\\": {\\\\\\\\\\\\\\\"type\\\\\\\\\\\\\\\": 2, \\\\\\\\\\\\\\\"details\\\\\\\\\\\\\\\": {\\\\\\\\\\\\\\\"selectedColumn\\\\\\\\\\\\\\\": \\\\\\\\\\\\\\\"anaemia\\\\\\\\\\\\\\\"}}, \\\\\\\\\\\\\\\"typeProperty\\\\\\\\\\\\\\\": 2}, {\\\\\\\\\\\\\\\"column\\\\\\\\\\\\\\\": {\\\\\\\\\\\\\\\"type\\\\\\\\\\\\\\\": 2, \\\\\\\\\\\\\\\"details\\\\\\\\\\\\\\\": {\\\\\\\\\\\\\\\"selectedColumn\\\\\\\\\\\\\\\": \\\\\\\\\\\\\\\"creatinine_phosphokinase\\\\\\\\\\\\\\\"}}, \\\\\\\\\\\\\\\"typeProperty\\\\\\\\\\\\\\\": 2}, {\\\\\\\\\\\\\\\"column\\\\\\\\\\\\\\\": {\\\\\\\\\\\\\\\"type\\\\\\\\\\\\\\\": 2, \\\\\\\\\\\\\\\"details\\\\\\\\\\\\\\\": {\\\\\\\\\\\\\\\"selectedColumn\\\\\\\\\\\\\\\": \\\\\\\\\\\\\\\"diabetes\\\\\\\\\\\\\\\"}}, \\\\\\\\\\\\\\\"typeProperty\\\\\\\\\\\\\\\": 2}, {\\\\\\\\\\\\\\\"column\\\\\\\\\\\\\\\": {\\\\\\\\\\\\\\\"type\\\\\\\\\\\\\\\": 2, \\\\\\\\\\\\\\\"details\\\\\\\\\\\\\\\": {\\\\\\\\\\\\\\\"selectedColumn\\\\\\\\\\\\\\\": \\\\\\\\\\\\\\\"ejection_fraction\\\\\\\\\\\\\\\"}}, \\\\\\\\\\\\\\\"typeProperty\\\\\\\\\\\\\\\": 2}, {\\\\\\\\\\\\\\\"column\\\\\\\\\\\\\\\": {\\\\\\\\\\\\\\\"type\\\\\\\\\\\\\\\": 2, \\\\\\\\\\\\\\\"details\\\\\\\\\\\\\\\": {\\\\\\\\\\\\\\\"selectedColumn\\\\\\\\\\\\\\\": \\\\\\\\\\\\\\\"high_blood_pressure\\\\\\\\\\\\\\\"}}, \\\\\\\\\\\\\\\"typeProperty\\\\\\\\\\\\\\\": 2}, {\\\\\\\\\\\\\\\"column\\\\\\\\\\\\\\\": {\\\\\\\\\\\\\\\"type\\\\\\\\\\\\\\\": 2, \\\\\\\\\\\\\\\"details\\\\\\\\\\\\\\\": {\\\\\\\\\\\\\\\"selectedColumn\\\\\\\\\\\\\\\": \\\\\\\\\\\\\\\"platelets\\\\\\\\\\\\\\\"}}, \\\\\\\\\\\\\\\"typeProperty\\\\\\\\\\\\\\\": 3}, {\\\\\\\\\\\\\\\"column\\\\\\\\\\\\\\\": {\\\\\\\\\\\\\\\"type\\\\\\\\\\\\\\\": 2, \\\\\\\\\\\\\\\"details\\\\\\\\\\\\\\\": {\\\\\\\\\\\\\\\"selectedColumn\\\\\\\\\\\\\\\": \\\\\\\\\\\\\\\"serum_creatinine\\\\\\\\\\\\\\\"}}, \\\\\\\\\\\\\\\"typeProperty\\\\\\\\\\\\\\\": 3}, {\\\\\\\\\\\\\\\"column\\\\\\\\\\\\\\\": {\\\\\\\\\\\\\\\"type\\\\\\\\\\\\\\\": 2, \\\\\\\\\\\\\\\"details\\\\\\\\\\\\\\\": {\\\\\\\\\\\\\\\"selectedColumn\\\\\\\\\\\\\\\": \\\\\\\\\\\\\\\"serum_sodium\\\\\\\\\\\\\\\"}}, \\\\\\\\\\\\\\\"typeProperty\\\\\\\\\\\\\\\": 2}, {\\\\\\\\\\\\\\\"column\\\\\\\\\\\\\\\": {\\\\\\\\\\\\\\\"type\\\\\\\\\\\\\\\": 2, \\\\\\\\\\\\\\\"details\\\\\\\\\\\\\\\": {\\\\\\\\\\\\\\\"selectedColumn\\\\\\\\\\\\\\\": \\\\\\\\\\\\\\\"sex\\\\\\\\\\\\\\\"}}, \\\\\\\\\\\\\\\"typeProperty\\\\\\\\\\\\\\\": 2}, {\\\\\\\\\\\\\\\"column\\\\\\\\\\\\\\\": {\\\\\\\\\\\\\\\"type\\\\\\\\\\\\\\\": 2, \\\\\\\\\\\\\\\"details\\\\\\\\\\\\\\\": {\\\\\\\\\\\\\\\"selectedColumn\\\\\\\\\\\\\\\": \\\\\\\\\\\\\\\"smoking\\\\\\\\\\\\\\\"}}, \\\\\\\\\\\\\\\"typeProperty\\\\\\\\\\\\\\\": 2}, {\\\\\\\\\\\\\\\"column\\\\\\\\\\\\\\\": {\\\\\\\\\\\\\\\"type\\\\\\\\\\\\\\\": 2, \\\\\\\\\\\\\\\"details\\\\\\\\\\\\\\\": {\\\\\\\\\\\\\\\"selectedColumn\\\\\\\\\\\\\\\": \\\\\\\\\\\\\\\"time\\\\\\\\\\\\\\\"}}, \\\\\\\\\\\\\\\"typeProperty\\\\\\\\\\\\\\\": 2}, {\\\\\\\\\\\\\\\"column\\\\\\\\\\\\\\\": {\\\\\\\\\\\\\\\"type\\\\\\\\\\\\\\\": 2, \\\\\\\\\\\\\\\"details\\\\\\\\\\\\\\\": {\\\\\\\\\\\\\\\"selectedColumn\\\\\\\\\\\\\\\": \\\\\\\\\\\\\\\"DEATH_EVENT\\\\\\\\\\\\\\\"}}, \\\\\\\\\\\\\\\"typeProperty\\\\\\\\\\\\\\\": 2}]}, \\\\\\\\\\\\\\\"localData\\\\\\\\\\\\\\\": {}, \\\\\\\\\\\\\\\"isEnabled\\\\\\\\\\\\\\\": true, \\\\\\\\\\\\\\\"name\\\\\\\\\\\\\\\": null, \\\\\\\\\\\\\\\"annotation\\\\\\\\\\\\\\\": null}], \\\\\\\\\\\\\\\"inspectors\\\\\\\\\\\\\\\": [], \\\\\\\\\\\\\\\"meta\\\\\\\\\\\\\\\": {\\\\\\\\\\\\\\\"savedDatasetId\\\\\\\\\\\\\\\": \\\\\\\\\\\\\\\"714ee821-cb49-46f1-8a4f-e3a2ca0f6b8e\\\\\\\\\\\\\\\", \\\\\\\\\\\\\\\"datasetType\\\\\\\\\\\\\\\": \\\\\\\\\\\\\\\"tabular\\\\\\\\\\\\\\\", \\\\\\\\\\\\\\\"subscriptionId\\\\\\\\\\\\\\\": \\\\\\\\\\\\\\\"9b72f9e6-56c5-4c16-991b-19c652994860\\\\\\\\\\\\\\\", \\\\\\\\\\\\\\\"workspaceId\\\\\\\\\\\\\\\": \\\\\\\\\\\\\\\"b6ede4cc-9c24-41f3-8018-5933dca9f4d5\\\\\\\\\\\\\\\", \\\\\\\\\\\\\\\"workspaceLocation\\\\\\\\\\\\\\\": \\\\\\\\\\\\\\\"southcentralus\\\\\\\\\\\\\\\"}}\\\\\\\", \\\\\\\"activities\\\\\\\": 0}\", \"EnableSubsampling\": null, \"runTemplate\": \"AutoML\", \"azureml.runsource\": \"automl\", \"display_task_type\": \"classification\", \"dependencies_versions\": \"{\\\"azureml-widgets\\\": \\\"1.20.0\\\", \\\"azureml-train\\\": \\\"1.20.0\\\", \\\"azureml-train-restclients-hyperdrive\\\": \\\"1.20.0\\\", \\\"azureml-train-core\\\": \\\"1.20.0\\\", \\\"azureml-train-automl\\\": \\\"1.20.0\\\", \\\"azureml-train-automl-runtime\\\": \\\"1.20.0\\\", \\\"azureml-train-automl-client\\\": \\\"1.20.0\\\", \\\"azureml-tensorboard\\\": \\\"1.20.0\\\", \\\"azureml-telemetry\\\": \\\"1.20.0\\\", \\\"azureml-sdk\\\": \\\"1.20.0\\\", \\\"azureml-samples\\\": \\\"0+unknown\\\", \\\"azureml-pipeline\\\": \\\"1.20.0\\\", \\\"azureml-pipeline-steps\\\": \\\"1.20.0\\\", \\\"azureml-pipeline-core\\\": \\\"1.20.0\\\", \\\"azureml-opendatasets\\\": \\\"1.20.0\\\", \\\"azureml-model-management-sdk\\\": \\\"1.0.1b6.post1\\\", \\\"azureml-mlflow\\\": \\\"1.20.0.post1\\\", \\\"azureml-interpret\\\": \\\"1.20.0\\\", \\\"azureml-explain-model\\\": \\\"1.20.0\\\", \\\"azureml-defaults\\\": \\\"1.20.0\\\", \\\"azureml-dataset-runtime\\\": \\\"1.20.0\\\", \\\"azureml-dataprep\\\": \\\"2.7.3\\\", \\\"azureml-dataprep-rslex\\\": \\\"1.5.0\\\", \\\"azureml-dataprep-native\\\": \\\"27.0.0\\\", \\\"azureml-datadrift\\\": \\\"1.20.0\\\", \\\"azureml-core\\\": \\\"1.20.0\\\", \\\"azureml-contrib-services\\\": \\\"1.20.0\\\", \\\"azureml-contrib-server\\\": \\\"1.20.0\\\", \\\"azureml-contrib-reinforcementlearning\\\": \\\"1.20.0\\\", \\\"azureml-contrib-pipeline-steps\\\": \\\"1.20.0\\\", \\\"azureml-contrib-notebook\\\": \\\"1.20.0\\\", \\\"azureml-contrib-interpret\\\": \\\"1.20.0\\\", \\\"azureml-contrib-gbdt\\\": \\\"1.20.0\\\", \\\"azureml-contrib-fairness\\\": \\\"1.20.0\\\", \\\"azureml-contrib-dataset\\\": \\\"1.20.0\\\", \\\"azureml-cli-common\\\": \\\"1.20.0\\\", \\\"azureml-automl-runtime\\\": \\\"1.20.0\\\", \\\"azureml-automl-core\\\": \\\"1.20.0\\\", \\\"azureml-accel-models\\\": \\\"1.20.0\\\"}\", \"_aml_system_scenario_identification\": \"Remote.Parent\", \"ClientType\": \"SDK\", \"environment_cpu_name\": \"AzureML-AutoML\", \"environment_cpu_label\": \"prod\", \"environment_gpu_name\": \"AzureML-AutoML-GPU\", \"environment_gpu_label\": \"prod\", \"root_attribution\": \"automl\", \"attribution\": \"AutoML\", \"Orchestrator\": \"AutoML\", \"CancelUri\": \"https://southcentralus.experiments.azureml.net/jasmine/v1.0/subscriptions/9b72f9e6-56c5-4c16-991b-19c652994860/resourceGroups/aml-quickstarts-136287/providers/Microsoft.MachineLearningServices/workspaces/quick-starts-ws-136287/experimentids/953db504-6943-4fc4-a91a-a5f1c6e7268c/cancel/AutoML_8934d6c4-8831-4d4b-98e5-907b3bdab98d\", \"ClientSdkVersion\": \"1.20.0.post1\", \"snapshotId\": \"00000000-0000-0000-0000-000000000000\", \"SetupRunId\": \"AutoML_8934d6c4-8831-4d4b-98e5-907b3bdab98d_setup\", \"SetupRunContainerId\": \"dcid.AutoML_8934d6c4-8831-4d4b-98e5-907b3bdab98d_setup\", \"FeaturizationRunJsonPath\": \"featurizer_container.json\", \"FeaturizationRunId\": \"AutoML_8934d6c4-8831-4d4b-98e5-907b3bdab98d_featurize\", \"ProblemInfoJsonString\": \"{\\\"dataset_num_categorical\\\": 0, \\\"is_sparse\\\": false, \\\"subsampling\\\": false, \\\"dataset_classes\\\": 2, \\\"dataset_features\\\": 12, \\\"dataset_samples\\\": 299, \\\"single_frequency_class_detected\\\": false}\", \"ModelExplainRunId\": \"AutoML_8934d6c4-8831-4d4b-98e5-907b3bdab98d_ModelExplain\"}, \"tags\": {\"model_explain_run\": \"best_run\", \"_aml_system_azureml.automlComponent\": \"AutoML\", \"pipeline_id\": \"\", \"score\": \"\", \"predicted_cost\": \"\", \"fit_time\": \"\", \"training_percent\": \"\", \"iteration\": \"\", \"run_preprocessor\": \"\", \"run_algorithm\": \"\", \"dynamic_whitelisting_iterations\": \"<25>;<30>;<34>;\", \"automl_best_child_run_id\": \"AutoML_8934d6c4-8831-4d4b-98e5-907b3bdab98d_40\", \"model_explain_best_run_child_id\": \"AutoML_8934d6c4-8831-4d4b-98e5-907b3bdab98d_40\"}, \"end_time_utc\": \"2021-01-27T17:51:18.521256Z\", \"status\": \"Completed\", \"log_files\": {}, \"log_groups\": [], \"run_duration\": \"0:25:53\"}, \"child_runs\": [{\"run_id\": \"AutoML_8934d6c4-8831-4d4b-98e5-907b3bdab98d_0\", \"run_number\": 8, \"metric\": null, \"status\": \"Completed\", \"run_type\": \"azureml.scriptrun\", \"training_percent\": \"100\", \"start_time\": \"2021-01-27T17:35:21.285475Z\", \"end_time\": \"2021-01-27T17:36:06.360962Z\", \"created_time\": \"2021-01-27T17:35:08.358147Z\", \"created_time_dt\": \"2021-01-27T17:35:08.358147Z\", \"duration\": \"0:00:58\", \"iteration\": \"0\", \"goal\": \"accuracy_max\", \"run_name\": \"MaxAbsScaler, LightGBM\", \"run_properties\": \"copy=True\", \"primary_metric\": 0.83597701, \"best_metric\": 0.83597701}, {\"run_id\": \"AutoML_8934d6c4-8831-4d4b-98e5-907b3bdab98d_3\", \"run_number\": 9, \"metric\": null, \"status\": \"Completed\", \"run_type\": \"azureml.scriptrun\", \"training_percent\": \"100\", \"start_time\": \"2021-01-27T17:37:00.443744Z\", \"end_time\": \"2021-01-27T17:37:44.957301Z\", \"created_time\": \"2021-01-27T17:35:08.503037Z\", \"created_time_dt\": \"2021-01-27T17:35:08.503037Z\", \"duration\": \"0:02:36\", \"iteration\": \"3\", \"goal\": \"accuracy_max\", \"run_name\": \"MinMaxScaler, RandomForest\", \"run_properties\": \"copy=True, feature_range=(0, 1\", \"primary_metric\": 0.83586207, \"best_metric\": 0.84275862}, {\"run_id\": \"AutoML_8934d6c4-8831-4d4b-98e5-907b3bdab98d_2\", \"run_number\": 10, \"metric\": null, \"status\": \"Completed\", \"run_type\": \"azureml.scriptrun\", \"training_percent\": \"100\", \"start_time\": \"2021-01-27T17:36:09.009171Z\", \"end_time\": \"2021-01-27T17:36:54.57348Z\", \"created_time\": \"2021-01-27T17:35:08.516075Z\", \"created_time_dt\": \"2021-01-27T17:35:08.516075Z\", \"duration\": \"0:01:46\", \"iteration\": \"2\", \"goal\": \"accuracy_max\", \"run_name\": \"MinMaxScaler, RandomForest\", \"run_properties\": \"copy=True, feature_range=(0, 1\", \"primary_metric\": 0.84275862, \"best_metric\": 0.84275862}, {\"run_id\": \"AutoML_8934d6c4-8831-4d4b-98e5-907b3bdab98d_1\", \"run_number\": 11, \"metric\": null, \"status\": \"Completed\", \"run_type\": \"azureml.scriptrun\", \"training_percent\": \"100\", \"start_time\": \"2021-01-27T17:37:38.747325Z\", \"end_time\": \"2021-01-27T17:40:51.911476Z\", \"created_time\": \"2021-01-27T17:35:08.604283Z\", \"created_time_dt\": \"2021-01-27T17:35:08.604283Z\", \"duration\": \"0:05:43\", \"iteration\": \"1\", \"goal\": \"accuracy_max\", \"run_name\": \"MaxAbsScaler, XGBoostClassifier\", \"run_properties\": \"copy=True\", \"primary_metric\": 0.83586207, \"best_metric\": 0.83597701}, {\"run_id\": \"AutoML_8934d6c4-8831-4d4b-98e5-907b3bdab98d_4\", \"run_number\": 12, \"metric\": null, \"status\": \"Completed\", \"run_type\": \"azureml.scriptrun\", \"training_percent\": \"100\", \"start_time\": \"2021-01-27T17:37:37.45941Z\", \"end_time\": \"2021-01-27T17:41:03.703729Z\", \"created_time\": \"2021-01-27T17:36:08.151888Z\", \"created_time_dt\": \"2021-01-27T17:36:08.151888Z\", \"duration\": \"0:04:55\", \"iteration\": \"4\", \"goal\": \"accuracy_max\", \"run_name\": \"MinMaxScaler, RandomForest\", \"run_properties\": \"copy=True, feature_range=(0, 1\", \"primary_metric\": 0.82908046, \"best_metric\": 0.84275862}, {\"run_id\": \"AutoML_8934d6c4-8831-4d4b-98e5-907b3bdab98d_5\", \"run_number\": 13, \"metric\": null, \"status\": \"Completed\", \"run_type\": \"azureml.scriptrun\", \"training_percent\": \"100\", \"start_time\": \"2021-01-27T17:37:45.477714Z\", \"end_time\": \"2021-01-27T17:38:30.544808Z\", \"created_time\": \"2021-01-27T17:36:58.231127Z\", \"created_time_dt\": \"2021-01-27T17:36:58.231127Z\", \"duration\": \"0:01:32\", \"iteration\": \"5\", \"goal\": \"accuracy_max\", \"run_name\": \"RobustScaler, LogisticRegression\", \"run_properties\": \"copy=True, quantile_range=[10, 90], with_centering=False,\\n             with_scaling=True\", \"primary_metric\": 0.80252874, \"best_metric\": 0.84275862}, {\"run_id\": \"AutoML_8934d6c4-8831-4d4b-98e5-907b3bdab98d_6\", \"run_number\": 14, \"metric\": null, \"status\": \"Completed\", \"run_type\": \"azureml.scriptrun\", \"training_percent\": \"100\", \"start_time\": \"2021-01-27T17:37:59.012823Z\", \"end_time\": \"2021-01-27T17:43:19.894301Z\", \"created_time\": \"2021-01-27T17:37:47.429942Z\", \"created_time_dt\": \"2021-01-27T17:37:47.429942Z\", \"duration\": \"0:05:32\", \"iteration\": \"6\", \"goal\": \"accuracy_max\", \"run_name\": \"MinMaxScaler, SVM\", \"run_properties\": \"copy=True, feature_range=(0, 1\", \"primary_metric\": 0.7291954, \"best_metric\": 0.84275862}, {\"run_id\": \"AutoML_8934d6c4-8831-4d4b-98e5-907b3bdab98d_7\", \"run_number\": 15, \"metric\": null, \"status\": \"Completed\", \"run_type\": \"azureml.scriptrun\", \"training_percent\": \"100\", \"start_time\": \"2021-01-27T17:38:45.144705Z\", \"end_time\": \"2021-01-27T17:39:22.228329Z\", \"created_time\": \"2021-01-27T17:38:33.262552Z\", \"created_time_dt\": \"2021-01-27T17:38:33.262552Z\", \"duration\": \"0:00:48\", \"iteration\": \"7\", \"goal\": \"accuracy_max\", \"run_name\": \"SparseNormalizer, XGBoostClassifier\", \"run_properties\": \"<azureml.automl.runtime.shared.model_wrappers.SparseNormalizer object at 0x7f2ea9c30320\", \"primary_metric\": 0.83275862, \"best_metric\": 0.84275862}, {\"run_id\": \"AutoML_8934d6c4-8831-4d4b-98e5-907b3bdab98d_8\", \"run_number\": 16, \"metric\": null, \"status\": \"Completed\", \"run_type\": \"azureml.scriptrun\", \"training_percent\": \"100\", \"start_time\": \"2021-01-27T17:39:37.020187Z\", \"end_time\": \"2021-01-27T17:40:22.67814Z\", \"created_time\": \"2021-01-27T17:39:24.645587Z\", \"created_time_dt\": \"2021-01-27T17:39:24.645587Z\", \"duration\": \"0:00:58\", \"iteration\": \"8\", \"goal\": \"accuracy_max\", \"run_name\": \"StandardScalerWrapper, RandomForest\", \"run_properties\": \"<azureml.automl.runtime.shared.model_wrappers.StandardScalerWrapper object at 0x7f08ff9e7860\", \"primary_metric\": 0.83252874, \"best_metric\": 0.84275862}, {\"run_id\": \"AutoML_8934d6c4-8831-4d4b-98e5-907b3bdab98d_9\", \"run_number\": 17, \"metric\": null, \"status\": \"Completed\", \"run_type\": \"azureml.scriptrun\", \"training_percent\": \"100\", \"start_time\": \"2021-01-27T17:40:37.71953Z\", \"end_time\": \"2021-01-27T17:41:26.240661Z\", \"created_time\": \"2021-01-27T17:40:25.526538Z\", \"created_time_dt\": \"2021-01-27T17:40:25.526538Z\", \"duration\": \"0:01:00\", \"iteration\": \"9\", \"goal\": \"accuracy_max\", \"run_name\": \"MaxAbsScaler, ExtremeRandomTrees\", \"run_properties\": \"copy=True\", \"primary_metric\": 0.8362069, \"best_metric\": 0.84275862}, {\"run_id\": \"AutoML_8934d6c4-8831-4d4b-98e5-907b3bdab98d_10\", \"run_number\": 18, \"metric\": null, \"status\": \"Completed\", \"run_type\": \"azureml.scriptrun\", \"training_percent\": \"100\", \"start_time\": \"2021-01-27T17:41:06.689338Z\", \"end_time\": \"2021-01-27T17:41:49.799486Z\", \"created_time\": \"2021-01-27T17:40:54.366936Z\", \"created_time_dt\": \"2021-01-27T17:40:54.366936Z\", \"duration\": \"0:00:55\", \"iteration\": \"10\", \"goal\": \"accuracy_max\", \"run_name\": \"RobustScaler, RandomForest\", \"run_properties\": \"copy=True, quantile_range=[10, 90], with_centering=True,\\n             with_scaling=True\", \"primary_metric\": 0.83597701, \"best_metric\": 0.84275862}, {\"run_id\": \"AutoML_8934d6c4-8831-4d4b-98e5-907b3bdab98d_11\", \"run_number\": 19, \"metric\": null, \"status\": \"Completed\", \"run_type\": \"azureml.scriptrun\", \"training_percent\": \"100\", \"start_time\": \"2021-01-27T17:41:18.182359Z\", \"end_time\": \"2021-01-27T17:42:03.759251Z\", \"created_time\": \"2021-01-27T17:41:06.077136Z\", \"created_time_dt\": \"2021-01-27T17:41:06.077136Z\", \"duration\": \"0:00:57\", \"iteration\": \"11\", \"goal\": \"accuracy_max\", \"run_name\": \"StandardScalerWrapper, LightGBM\", \"run_properties\": \"<azureml.automl.runtime.shared.model_wrappers.StandardScalerWrapper object at 0x7f1fe19ddda0\", \"primary_metric\": 0.83252874, \"best_metric\": 0.84275862}, {\"run_id\": \"AutoML_8934d6c4-8831-4d4b-98e5-907b3bdab98d_12\", \"run_number\": 20, \"metric\": null, \"status\": \"Completed\", \"run_type\": \"azureml.scriptrun\", \"training_percent\": \"100\", \"start_time\": \"2021-01-27T17:41:40.757112Z\", \"end_time\": \"2021-01-27T17:42:29.69331Z\", \"created_time\": \"2021-01-27T17:41:28.663954Z\", \"created_time_dt\": \"2021-01-27T17:41:28.663954Z\", \"duration\": \"0:01:01\", \"iteration\": \"12\", \"goal\": \"accuracy_max\", \"run_name\": \"SparseNormalizer, LightGBM\", \"run_properties\": \"<azureml.automl.runtime.shared.model_wrappers.SparseNormalizer object at 0x7f81c5ea2e48\", \"primary_metric\": 0.83287356, \"best_metric\": 0.84275862}, {\"run_id\": \"AutoML_8934d6c4-8831-4d4b-98e5-907b3bdab98d_13\", \"run_number\": 21, \"metric\": null, \"status\": \"Completed\", \"run_type\": \"azureml.scriptrun\", \"training_percent\": \"100\", \"start_time\": \"2021-01-27T17:42:03.907113Z\", \"end_time\": \"2021-01-27T17:42:46.206367Z\", \"created_time\": \"2021-01-27T17:41:52.250013Z\", \"created_time_dt\": \"2021-01-27T17:41:52.250013Z\", \"duration\": \"0:00:53\", \"iteration\": \"13\", \"goal\": \"accuracy_max\", \"run_name\": \"SparseNormalizer, XGBoostClassifier\", \"run_properties\": \"<azureml.automl.runtime.shared.model_wrappers.SparseNormalizer object at 0x7f3fd186e898\", \"primary_metric\": 0.80931034, \"best_metric\": 0.84275862}, {\"run_id\": \"AutoML_8934d6c4-8831-4d4b-98e5-907b3bdab98d_14\", \"run_number\": 22, \"metric\": null, \"status\": \"Completed\", \"run_type\": \"azureml.scriptrun\", \"training_percent\": \"100\", \"start_time\": \"2021-01-27T17:42:16.483028Z\", \"end_time\": \"2021-01-27T17:43:04.521785Z\", \"created_time\": \"2021-01-27T17:42:06.004428Z\", \"created_time_dt\": \"2021-01-27T17:42:06.004428Z\", \"duration\": \"0:00:58\", \"iteration\": \"14\", \"goal\": \"accuracy_max\", \"run_name\": \"SparseNormalizer, XGBoostClassifier\", \"run_properties\": \"<azureml.automl.runtime.shared.model_wrappers.SparseNormalizer object at 0x7f98aa11d550\", \"primary_metric\": 0.84954023, \"best_metric\": 0.84954023}, {\"run_id\": \"AutoML_8934d6c4-8831-4d4b-98e5-907b3bdab98d_15\", \"run_number\": 23, \"metric\": null, \"status\": \"Completed\", \"run_type\": \"azureml.scriptrun\", \"training_percent\": \"100\", \"start_time\": \"2021-01-27T17:42:43.083159Z\", \"end_time\": \"2021-01-27T17:43:28.357127Z\", \"created_time\": \"2021-01-27T17:42:31.956428Z\", \"created_time_dt\": \"2021-01-27T17:42:31.956428Z\", \"duration\": \"0:00:56\", \"iteration\": \"15\", \"goal\": \"accuracy_max\", \"run_name\": \"SparseNormalizer, XGBoostClassifier\", \"run_properties\": \"<azureml.automl.runtime.shared.model_wrappers.SparseNormalizer object at 0x7f6e45e935f8\", \"primary_metric\": 0.85275862, \"best_metric\": 0.85275862}, {\"run_id\": \"AutoML_8934d6c4-8831-4d4b-98e5-907b3bdab98d_16\", \"run_number\": 24, \"metric\": null, \"status\": \"Completed\", \"run_type\": \"azureml.scriptrun\", \"training_percent\": \"100\", \"start_time\": \"2021-01-27T17:43:00.893215Z\", \"end_time\": \"2021-01-27T17:43:43.523171Z\", \"created_time\": \"2021-01-27T17:42:48.957169Z\", \"created_time_dt\": \"2021-01-27T17:42:48.957169Z\", \"duration\": \"0:00:54\", \"iteration\": \"16\", \"goal\": \"accuracy_max\", \"run_name\": \"SparseNormalizer, XGBoostClassifier\", \"run_properties\": \"<azureml.automl.runtime.shared.model_wrappers.SparseNormalizer object at 0x7fba00847a90\", \"primary_metric\": 0.8362069, \"best_metric\": 0.85275862}, {\"run_id\": \"AutoML_8934d6c4-8831-4d4b-98e5-907b3bdab98d_17\", \"run_number\": 25, \"metric\": null, \"status\": \"Completed\", \"run_type\": \"azureml.scriptrun\", \"training_percent\": \"100\", \"start_time\": \"2021-01-27T17:43:18.913283Z\", \"end_time\": \"2021-01-27T17:44:02.852713Z\", \"created_time\": \"2021-01-27T17:43:06.811155Z\", \"created_time_dt\": \"2021-01-27T17:43:06.811155Z\", \"duration\": \"0:00:56\", \"iteration\": \"17\", \"goal\": \"accuracy_max\", \"run_name\": \"RobustScaler, RandomForest\", \"run_properties\": \"copy=True, quantile_range=[10, 90], with_centering=True,\\n             with_scaling=False\", \"primary_metric\": 0.84264368, \"best_metric\": 0.85275862}, {\"run_id\": \"AutoML_8934d6c4-8831-4d4b-98e5-907b3bdab98d_18\", \"run_number\": 26, \"metric\": null, \"status\": \"Completed\", \"run_type\": \"azureml.scriptrun\", \"training_percent\": \"100\", \"start_time\": \"2021-01-27T17:43:33.836521Z\", \"end_time\": \"2021-01-27T17:44:21.346298Z\", \"created_time\": \"2021-01-27T17:43:22.238642Z\", \"created_time_dt\": \"2021-01-27T17:43:22.238642Z\", \"duration\": \"0:00:59\", \"iteration\": \"18\", \"goal\": \"accuracy_max\", \"run_name\": \"MaxAbsScaler, LightGBM\", \"run_properties\": \"copy=True\", \"primary_metric\": 0.83931034, \"best_metric\": 0.85275862}, {\"run_id\": \"AutoML_8934d6c4-8831-4d4b-98e5-907b3bdab98d_19\", \"run_number\": 27, \"metric\": null, \"status\": \"Completed\", \"run_type\": \"azureml.scriptrun\", \"training_percent\": \"100\", \"start_time\": \"2021-01-27T17:43:45.295928Z\", \"end_time\": \"2021-01-27T17:44:32.906374Z\", \"created_time\": \"2021-01-27T17:43:31.650672Z\", \"created_time_dt\": \"2021-01-27T17:43:31.650672Z\", \"duration\": \"0:01:01\", \"iteration\": \"19\", \"goal\": \"accuracy_max\", \"run_name\": \"SparseNormalizer, XGBoostClassifier\", \"run_properties\": \"<azureml.automl.runtime.shared.model_wrappers.SparseNormalizer object at 0x7fec976f2d30\", \"primary_metric\": 0.8462069, \"best_metric\": 0.85275862}, {\"run_id\": \"AutoML_8934d6c4-8831-4d4b-98e5-907b3bdab98d_20\", \"run_number\": 28, \"metric\": null, \"status\": \"Completed\", \"run_type\": \"azureml.scriptrun\", \"training_percent\": \"100\", \"start_time\": \"2021-01-27T17:43:58.680929Z\", \"end_time\": \"2021-01-27T17:44:44.420644Z\", \"created_time\": \"2021-01-27T17:43:46.291514Z\", \"created_time_dt\": \"2021-01-27T17:43:46.291514Z\", \"duration\": \"0:00:58\", \"iteration\": \"20\", \"goal\": \"accuracy_max\", \"run_name\": \"StandardScalerWrapper, LightGBM\", \"run_properties\": \"<azureml.automl.runtime.shared.model_wrappers.StandardScalerWrapper object at 0x7fb64131fbe0\", \"primary_metric\": 0.82264368, \"best_metric\": 0.85275862}, {\"run_id\": \"AutoML_8934d6c4-8831-4d4b-98e5-907b3bdab98d_21\", \"run_number\": 29, \"metric\": null, \"status\": \"Completed\", \"run_type\": \"azureml.scriptrun\", \"training_percent\": \"100\", \"start_time\": \"2021-01-27T17:44:15.879422Z\", \"end_time\": \"2021-01-27T17:45:00.435256Z\", \"created_time\": \"2021-01-27T17:44:05.135367Z\", \"created_time_dt\": \"2021-01-27T17:44:05.135367Z\", \"duration\": \"0:00:55\", \"iteration\": \"21\", \"goal\": \"accuracy_max\", \"run_name\": \"SparseNormalizer, XGBoostClassifier\", \"run_properties\": \"<azureml.automl.runtime.shared.model_wrappers.SparseNormalizer object at 0x7f415bde6be0\", \"primary_metric\": 0.82287356, \"best_metric\": 0.85275862}, {\"run_id\": \"AutoML_8934d6c4-8831-4d4b-98e5-907b3bdab98d_22\", \"run_number\": 30, \"metric\": null, \"status\": \"Completed\", \"run_type\": \"azureml.scriptrun\", \"training_percent\": \"100\", \"start_time\": \"2021-01-27T17:44:34.720651Z\", \"end_time\": \"2021-01-27T17:45:24.200006Z\", \"created_time\": \"2021-01-27T17:44:23.484671Z\", \"created_time_dt\": \"2021-01-27T17:44:23.484671Z\", \"duration\": \"0:01:00\", \"iteration\": \"22\", \"goal\": \"accuracy_max\", \"run_name\": \"StandardScalerWrapper, LightGBM\", \"run_properties\": \"<azureml.automl.runtime.shared.model_wrappers.StandardScalerWrapper object at 0x7f5bc9303160\", \"primary_metric\": 0.85252874, \"best_metric\": 0.85275862}, {\"run_id\": \"AutoML_8934d6c4-8831-4d4b-98e5-907b3bdab98d_23\", \"run_number\": 31, \"metric\": null, \"status\": \"Completed\", \"run_type\": \"azureml.scriptrun\", \"training_percent\": \"100\", \"start_time\": \"2021-01-27T17:44:46.855514Z\", \"end_time\": \"2021-01-27T17:45:29.628879Z\", \"created_time\": \"2021-01-27T17:44:35.704697Z\", \"created_time_dt\": \"2021-01-27T17:44:35.704697Z\", \"duration\": \"0:00:53\", \"iteration\": \"23\", \"goal\": \"accuracy_max\", \"run_name\": \"StandardScalerWrapper, GradientBoosting\", \"run_properties\": \"<azureml.automl.runtime.shared.model_wrappers.StandardScalerWrapper object at 0x7f69f651a780\", \"primary_metric\": 0.85597701, \"best_metric\": 0.85597701}, {\"run_id\": \"AutoML_8934d6c4-8831-4d4b-98e5-907b3bdab98d_24\", \"run_number\": 32, \"metric\": null, \"status\": \"Completed\", \"run_type\": \"azureml.scriptrun\", \"training_percent\": \"100\", \"start_time\": \"2021-01-27T17:44:58.162763Z\", \"end_time\": \"2021-01-27T17:45:46.641493Z\", \"created_time\": \"2021-01-27T17:44:46.584485Z\", \"created_time_dt\": \"2021-01-27T17:44:46.584485Z\", \"duration\": \"0:01:00\", \"iteration\": \"24\", \"goal\": \"accuracy_max\", \"run_name\": \"StandardScalerWrapper, LightGBM\", \"run_properties\": \"<azureml.automl.runtime.shared.model_wrappers.StandardScalerWrapper object at 0x7f3108c30e48\", \"primary_metric\": 0.83931034, \"best_metric\": 0.85597701}, {\"run_id\": \"AutoML_8934d6c4-8831-4d4b-98e5-907b3bdab98d_25\", \"run_number\": 33, \"metric\": null, \"status\": \"Completed\", \"run_type\": \"azureml.scriptrun\", \"training_percent\": \"100\", \"start_time\": \"2021-01-27T17:45:14.874223Z\", \"end_time\": \"2021-01-27T17:46:03.969325Z\", \"created_time\": \"2021-01-27T17:45:03.551812Z\", \"created_time_dt\": \"2021-01-27T17:45:03.551812Z\", \"duration\": \"0:01:00\", \"iteration\": \"25\", \"goal\": \"accuracy_max\", \"run_name\": \"StandardScalerWrapper, XGBoostClassifier\", \"run_properties\": \"<azureml.automl.runtime.shared.model_wrappers.StandardScalerWrapper object at 0x7f790aaadcf8\", \"primary_metric\": 0.6791954, \"best_metric\": 0.85597701}, {\"run_id\": \"AutoML_8934d6c4-8831-4d4b-98e5-907b3bdab98d_26\", \"run_number\": 34, \"metric\": null, \"status\": \"Completed\", \"run_type\": \"azureml.scriptrun\", \"training_percent\": \"100\", \"start_time\": \"2021-01-27T17:45:38.811705Z\", \"end_time\": \"2021-01-27T17:46:21.612858Z\", \"created_time\": \"2021-01-27T17:45:26.61322Z\", \"created_time_dt\": \"2021-01-27T17:45:26.61322Z\", \"duration\": \"0:00:54\", \"iteration\": \"26\", \"goal\": \"accuracy_max\", \"run_name\": \"MinMaxScaler, LightGBM\", \"run_properties\": \"copy=True, feature_range=(0, 1\", \"primary_metric\": 0.83252874, \"best_metric\": 0.85597701}, {\"run_id\": \"AutoML_8934d6c4-8831-4d4b-98e5-907b3bdab98d_27\", \"run_number\": 35, \"metric\": null, \"status\": \"Completed\", \"run_type\": \"azureml.scriptrun\", \"training_percent\": \"100\", \"start_time\": \"2021-01-27T17:45:43.103173Z\", \"end_time\": \"2021-01-27T17:46:29.270428Z\", \"created_time\": \"2021-01-27T17:45:31.544755Z\", \"created_time_dt\": \"2021-01-27T17:45:31.544755Z\", \"duration\": \"0:00:57\", \"iteration\": \"27\", \"goal\": \"accuracy_max\", \"run_name\": \"StandardScalerWrapper, LightGBM\", \"run_properties\": \"<azureml.automl.runtime.shared.model_wrappers.StandardScalerWrapper object at 0x7faa7e8ab7b8\", \"primary_metric\": 0.81252874, \"best_metric\": 0.85597701}, {\"run_id\": \"AutoML_8934d6c4-8831-4d4b-98e5-907b3bdab98d_28\", \"run_number\": 36, \"metric\": null, \"status\": \"Completed\", \"run_type\": \"azureml.scriptrun\", \"training_percent\": \"100\", \"start_time\": \"2021-01-27T17:46:02.394709Z\", \"end_time\": \"2021-01-27T17:46:47.659001Z\", \"created_time\": \"2021-01-27T17:45:48.942677Z\", \"created_time_dt\": \"2021-01-27T17:45:48.942677Z\", \"duration\": \"0:00:58\", \"iteration\": \"28\", \"goal\": \"accuracy_max\", \"run_name\": \"MinMaxScaler, LightGBM\", \"run_properties\": \"copy=True, feature_range=(0, 1\", \"primary_metric\": 0.82241379, \"best_metric\": 0.85597701}, {\"run_id\": \"AutoML_8934d6c4-8831-4d4b-98e5-907b3bdab98d_29\", \"run_number\": 37, \"metric\": null, \"status\": \"Completed\", \"run_type\": \"azureml.scriptrun\", \"training_percent\": \"100\", \"start_time\": \"2021-01-27T17:46:18.388043Z\", \"end_time\": \"2021-01-27T17:47:01.039952Z\", \"created_time\": \"2021-01-27T17:46:06.656531Z\", \"created_time_dt\": \"2021-01-27T17:46:06.656531Z\", \"duration\": \"0:00:54\", \"iteration\": \"29\", \"goal\": \"accuracy_max\", \"run_name\": \"StandardScalerWrapper, XGBoostClassifier\", \"run_properties\": \"<azureml.automl.runtime.shared.model_wrappers.StandardScalerWrapper object at 0x7f61b5fb7d30\", \"primary_metric\": 0.83287356, \"best_metric\": 0.85597701}, {\"run_id\": \"AutoML_8934d6c4-8831-4d4b-98e5-907b3bdab98d_30\", \"run_number\": 38, \"metric\": null, \"status\": \"Completed\", \"run_type\": \"azureml.scriptrun\", \"training_percent\": \"100\", \"start_time\": \"2021-01-27T17:46:37.749353Z\", \"end_time\": \"2021-01-27T17:47:29.530659Z\", \"created_time\": \"2021-01-27T17:46:24.833162Z\", \"created_time_dt\": \"2021-01-27T17:46:24.833162Z\", \"duration\": \"0:01:04\", \"iteration\": \"30\", \"goal\": \"accuracy_max\", \"run_name\": \"SparseNormalizer, GradientBoosting\", \"run_properties\": \"<azureml.automl.runtime.shared.model_wrappers.SparseNormalizer object at 0x7f761f1031d0\", \"primary_metric\": 0.76275862, \"best_metric\": 0.85597701}, {\"run_id\": \"AutoML_8934d6c4-8831-4d4b-98e5-907b3bdab98d_31\", \"run_number\": 39, \"metric\": null, \"status\": \"Completed\", \"run_type\": \"azureml.scriptrun\", \"training_percent\": \"100\", \"start_time\": \"2021-01-27T17:46:43.516192Z\", \"end_time\": \"2021-01-27T17:47:29.11326Z\", \"created_time\": \"2021-01-27T17:46:31.611186Z\", \"created_time_dt\": \"2021-01-27T17:46:31.611186Z\", \"duration\": \"0:00:57\", \"iteration\": \"31\", \"goal\": \"accuracy_max\", \"run_name\": \"SparseNormalizer, XGBoostClassifier\", \"run_properties\": \"<azureml.automl.runtime.shared.model_wrappers.SparseNormalizer object at 0x7fc85d24d3c8\", \"primary_metric\": 0.8262069, \"best_metric\": 0.85597701}, {\"run_id\": \"AutoML_8934d6c4-8831-4d4b-98e5-907b3bdab98d_32\", \"run_number\": 40, \"metric\": null, \"status\": \"Completed\", \"run_type\": \"azureml.scriptrun\", \"training_percent\": \"100\", \"start_time\": \"2021-01-27T17:47:03.01567Z\", \"end_time\": \"2021-01-27T17:47:51.327082Z\", \"created_time\": \"2021-01-27T17:46:50.412691Z\", \"created_time_dt\": \"2021-01-27T17:46:50.412691Z\", \"duration\": \"0:01:00\", \"iteration\": \"32\", \"goal\": \"accuracy_max\", \"run_name\": \"MaxAbsScaler, ExtremeRandomTrees\", \"run_properties\": \"copy=True\", \"primary_metric\": 0.79574713, \"best_metric\": 0.85597701}, {\"run_id\": \"AutoML_8934d6c4-8831-4d4b-98e5-907b3bdab98d_33\", \"run_number\": 41, \"metric\": null, \"status\": \"Completed\", \"run_type\": \"azureml.scriptrun\", \"training_percent\": \"100\", \"start_time\": \"2021-01-27T17:47:16.802725Z\", \"end_time\": \"2021-01-27T17:48:05.107572Z\", \"created_time\": \"2021-01-27T17:47:03.328446Z\", \"created_time_dt\": \"2021-01-27T17:47:03.328446Z\", \"duration\": \"0:01:01\", \"iteration\": \"33\", \"goal\": \"accuracy_max\", \"run_name\": \"MaxAbsScaler, RandomForest\", \"run_properties\": \"copy=True\", \"primary_metric\": 0.81229885, \"best_metric\": 0.85597701}, {\"run_id\": \"AutoML_8934d6c4-8831-4d4b-98e5-907b3bdab98d_34\", \"run_number\": 42, \"metric\": null, \"status\": \"Completed\", \"run_type\": \"azureml.scriptrun\", \"training_percent\": \"100\", \"start_time\": \"2021-01-27T17:47:44.786222Z\", \"end_time\": \"2021-01-27T17:48:25.43507Z\", \"created_time\": \"2021-01-27T17:47:32.660204Z\", \"created_time_dt\": \"2021-01-27T17:47:32.660204Z\", \"duration\": \"0:00:52\", \"iteration\": \"34\", \"goal\": \"accuracy_max\", \"run_name\": \"RobustScaler, GradientBoosting\", \"run_properties\": \"copy=True, quantile_range=[25, 75], with_centering=True,\\n             with_scaling=False\", \"primary_metric\": 0.7362069, \"best_metric\": 0.85597701}, {\"run_id\": \"AutoML_8934d6c4-8831-4d4b-98e5-907b3bdab98d_35\", \"run_number\": 43, \"metric\": null, \"status\": \"Completed\", \"run_type\": \"azureml.scriptrun\", \"training_percent\": \"100\", \"start_time\": \"2021-01-27T17:47:45.494048Z\", \"end_time\": \"2021-01-27T17:48:36.935428Z\", \"created_time\": \"2021-01-27T17:47:32.764288Z\", \"created_time_dt\": \"2021-01-27T17:47:32.764288Z\", \"duration\": \"0:01:04\", \"iteration\": \"35\", \"goal\": \"accuracy_max\", \"run_name\": \"StandardScalerWrapper, ExtremeRandomTrees\", \"run_properties\": \"<azureml.automl.runtime.shared.model_wrappers.StandardScalerWrapper object at 0x7fe3a0545cf8\", \"primary_metric\": 0.78574713, \"best_metric\": 0.85597701}, {\"run_id\": \"AutoML_8934d6c4-8831-4d4b-98e5-907b3bdab98d_36\", \"run_number\": 44, \"metric\": null, \"status\": \"Completed\", \"run_type\": \"azureml.scriptrun\", \"training_percent\": \"100\", \"start_time\": \"2021-01-27T17:48:05.874152Z\", \"end_time\": \"2021-01-27T17:48:50.979687Z\", \"created_time\": \"2021-01-27T17:47:54.035397Z\", \"created_time_dt\": \"2021-01-27T17:47:54.035397Z\", \"duration\": \"0:00:56\", \"iteration\": \"36\", \"goal\": \"accuracy_max\", \"run_name\": \"StandardScalerWrapper, XGBoostClassifier\", \"run_properties\": \"<azureml.automl.runtime.shared.model_wrappers.StandardScalerWrapper object at 0x7f1a945e2b70\", \"primary_metric\": 0.83931034, \"best_metric\": 0.85597701}, {\"run_id\": \"AutoML_8934d6c4-8831-4d4b-98e5-907b3bdab98d_37\", \"run_number\": 45, \"metric\": null, \"status\": \"Canceled\", \"run_type\": \"azureml.scriptrun\", \"training_percent\": \"100\", \"start_time\": \"2021-01-27T17:48:19.408042Z\", \"end_time\": \"2021-01-27T17:48:59.120124Z\", \"created_time\": \"2021-01-27T17:48:07.383447Z\", \"created_time_dt\": \"2021-01-27T17:48:07.383447Z\", \"duration\": \"0:00:51\", \"iteration\": \"37\", \"goal\": \"accuracy_max\", \"run_name\": \"StandardScalerWrapper, XGBoostClassifier\", \"run_properties\": \"<azureml.automl.runtime.shared.model_wrappers.StandardScalerWrapper object at 0x7f536161c128\", \"primary_metric\": 0.83586207, \"best_metric\": 0.85597701}, {\"run_id\": \"AutoML_8934d6c4-8831-4d4b-98e5-907b3bdab98d_38\", \"run_number\": 46, \"metric\": null, \"status\": \"Canceled\", \"run_type\": \"azureml.scriptrun\", \"training_percent\": \"100\", \"start_time\": \"2021-01-27T17:48:38.395533Z\", \"end_time\": \"2021-01-27T17:48:59.411013Z\", \"created_time\": \"2021-01-27T17:48:27.828562Z\", \"created_time_dt\": \"2021-01-27T17:48:27.828562Z\", \"duration\": \"0:00:31\", \"iteration\": \"38\", \"goal\": null, \"run_name\": \"SparseNormalizer, XGBoostClassifier\", \"run_properties\": null}, {\"run_id\": \"AutoML_8934d6c4-8831-4d4b-98e5-907b3bdab98d_39\", \"run_number\": 47, \"metric\": null, \"status\": \"Canceled\", \"run_type\": \"azureml.scriptrun\", \"training_percent\": \"100\", \"start_time\": \"2021-01-27T17:48:51.837099Z\", \"end_time\": \"2021-01-27T17:48:59.84789Z\", \"created_time\": \"2021-01-27T17:48:39.21717Z\", \"created_time_dt\": \"2021-01-27T17:48:39.21717Z\", \"duration\": \"0:00:20\", \"iteration\": \"39\", \"goal\": null, \"run_name\": \"Canceled\", \"run_properties\": null}, {\"run_id\": \"AutoML_8934d6c4-8831-4d4b-98e5-907b3bdab98d_41\", \"run_number\": 48, \"metric\": null, \"status\": \"Completed\", \"run_type\": \"azureml.scriptrun\", \"training_percent\": \"100\", \"start_time\": \"2021-01-27T17:49:12.938854Z\", \"end_time\": \"2021-01-27T17:51:09.009589Z\", \"created_time\": \"2021-01-27T17:49:01.581971Z\", \"created_time_dt\": \"2021-01-27T17:49:01.581971Z\", \"duration\": \"0:02:07\", \"iteration\": \"41\", \"goal\": \"accuracy_max\", \"run_name\": \"StackEnsemble\", \"run_properties\": \"base_learners=[('23',\\n                                        Pipeline(memory=None,\\n                                                 steps=[('standardscalerwrapper',\\n                                                         <azureml.automl.runtime.shared.model_wrappers.StandardScalerWrapper object at 0x7fe71c1e17f0>\", \"primary_metric\": 0.8662069, \"best_metric\": 0.88310345}, {\"run_id\": \"AutoML_8934d6c4-8831-4d4b-98e5-907b3bdab98d_40\", \"run_number\": 49, \"metric\": null, \"status\": \"Completed\", \"run_type\": \"azureml.scriptrun\", \"training_percent\": \"100\", \"start_time\": \"2021-01-27T17:49:13.253777Z\", \"end_time\": \"2021-01-27T17:51:02.798146Z\", \"created_time\": \"2021-01-27T17:49:01.582126Z\", \"created_time_dt\": \"2021-01-27T17:49:01.582126Z\", \"duration\": \"0:02:01\", \"iteration\": \"40\", \"goal\": \"accuracy_max\", \"run_name\": \"VotingEnsemble\", \"run_properties\": \"classification_labels=None,\\n                              estimators=[('23',\\n                                           Pipeline(memory=None,\\n                                                    steps=[('standardscalerwrapper',\\n                                                            <azureml.automl.runtime.shared.model_wrappers.StandardScalerWrapper object at 0x7f5d18540710>\", \"primary_metric\": 0.88310345, \"best_metric\": 0.88310345}], \"children_metrics\": {\"categories\": [0], \"series\": {\"recall_score_weighted\": [{\"categories\": [\"0\", \"1\", \"2\", \"3\", \"4\", \"5\", \"6\", \"7\", \"8\", \"9\", \"10\", \"11\", \"12\", \"13\", \"14\", \"15\", \"16\", \"17\", \"18\", \"19\", \"20\", \"21\", \"22\", \"23\", \"24\", \"25\", \"26\", \"27\", \"28\", \"29\", \"30\", \"31\", \"32\", \"33\", \"34\", \"35\", \"36\", \"37\", \"40\", \"41\"], \"mode\": \"markers\", \"name\": \"recall_score_weighted\", \"stepped\": false, \"type\": \"scatter\", \"data\": [0.8359770114942527, 0.8358620689655172, 0.8427586206896551, 0.8358620689655174, 0.829080459770115, 0.8025287356321839, 0.7291954022988507, 0.8327586206896551, 0.8325287356321839, 0.8362068965517242, 0.8359770114942527, 0.8325287356321839, 0.8328735632183909, 0.8093103448275862, 0.8495402298850575, 0.8527586206896552, 0.8362068965517242, 0.8426436781609196, 0.8393103448275863, 0.8462068965517242, 0.8226436781609194, 0.8228735632183909, 0.852528735632184, 0.8559770114942531, 0.8393103448275863, 0.6791954022988507, 0.8325287356321839, 0.812528735632184, 0.8224137931034482, 0.8328735632183909, 0.7627586206896552, 0.8262068965517242, 0.7957471264367817, 0.8122988505747127, 0.736206896551724, 0.7857471264367818, 0.8393103448275863, 0.8358620689655172, 0.8831034482758622, 0.8662068965517242]}, {\"categories\": [\"0\", \"1\", \"2\", \"3\", \"4\", \"5\", \"6\", \"7\", \"8\", \"9\", \"10\", \"11\", \"12\", \"13\", \"14\", \"15\", \"16\", \"17\", \"18\", \"19\", \"20\", \"21\", \"22\", \"23\", \"24\", \"25\", \"26\", \"27\", \"28\", \"29\", \"30\", \"31\", \"32\", \"33\", \"34\", \"35\", \"36\", \"37\", \"40\", \"41\"], \"mode\": \"lines\", \"name\": \"recall_score_weighted_max\", \"stepped\": true, \"type\": \"scatter\", \"data\": [0.8359770114942527, 0.8359770114942527, 0.8427586206896551, 0.8427586206896551, 0.8427586206896551, 0.8427586206896551, 0.8427586206896551, 0.8427586206896551, 0.8427586206896551, 0.8427586206896551, 0.8427586206896551, 0.8427586206896551, 0.8427586206896551, 0.8427586206896551, 0.8495402298850575, 0.8527586206896552, 0.8527586206896552, 0.8527586206896552, 0.8527586206896552, 0.8527586206896552, 0.8527586206896552, 0.8527586206896552, 0.8527586206896552, 0.8559770114942531, 0.8559770114942531, 0.8559770114942531, 0.8559770114942531, 0.8559770114942531, 0.8559770114942531, 0.8559770114942531, 0.8559770114942531, 0.8559770114942531, 0.8559770114942531, 0.8559770114942531, 0.8559770114942531, 0.8559770114942531, 0.8559770114942531, 0.8559770114942531, 0.8831034482758622, 0.8831034482758622]}], \"log_loss\": [{\"categories\": [\"0\", \"1\", \"2\", \"3\", \"4\", \"5\", \"6\", \"7\", \"8\", \"9\", \"10\", \"11\", \"12\", \"13\", \"14\", \"15\", \"16\", \"17\", \"18\", \"19\", \"20\", \"21\", \"22\", \"23\", \"24\", \"25\", \"26\", \"27\", \"28\", \"29\", \"30\", \"31\", \"32\", \"33\", \"34\", \"35\", \"36\", \"37\", \"40\", \"41\"], \"mode\": \"markers\", \"name\": \"log_loss\", \"stepped\": false, \"type\": \"scatter\", \"data\": [0.4772179826627182, 0.41764279466886123, 0.3855456119663655, 0.39319769813418654, 0.3863048749169117, 0.45348692474815167, 0.5773557329130379, 0.394405483274961, 0.4031875651425458, 0.42639880376198896, 0.363761789289597, 0.38231145959136503, 0.412689902302552, 0.488972342400222, 0.3964188793382829, 0.38639193828673324, 0.4182362547689416, 0.3666324374004882, 0.41916278548122055, 0.40672149083664594, 0.45853779779480364, 0.428920496034507, 0.3796683558762439, 0.35540331665029207, 0.41860634754545883, 0.63252095011256, 0.42130321116348846, 0.40077552837899955, 0.3940447103351928, 0.48292793247993887, 0.5147117030399037, 0.4790569231158598, 0.6557383048785745, 0.4115269009507709, 0.5266371068878967, 0.5950584794919866, 0.4630721184303791, 0.3768130638062382, 0.3830698345834191, 0.3926757158346946]}, {\"categories\": [\"0\", \"1\", \"2\", \"3\", \"4\", \"5\", \"6\", \"7\", \"8\", \"9\", \"10\", \"11\", \"12\", \"13\", \"14\", \"15\", \"16\", \"17\", \"18\", \"19\", \"20\", \"21\", \"22\", \"23\", \"24\", \"25\", \"26\", \"27\", \"28\", \"29\", \"30\", \"31\", \"32\", \"33\", \"34\", \"35\", \"36\", \"37\", \"40\", \"41\"], \"mode\": \"lines\", \"name\": \"log_loss_min\", \"stepped\": true, \"type\": \"scatter\", \"data\": [0.4772179826627182, 0.41764279466886123, 0.3855456119663655, 0.3855456119663655, 0.3855456119663655, 0.3855456119663655, 0.3855456119663655, 0.3855456119663655, 0.3855456119663655, 0.3855456119663655, 0.363761789289597, 0.363761789289597, 0.363761789289597, 0.363761789289597, 0.363761789289597, 0.363761789289597, 0.363761789289597, 0.363761789289597, 0.363761789289597, 0.363761789289597, 0.363761789289597, 0.363761789289597, 0.363761789289597, 0.35540331665029207, 0.35540331665029207, 0.35540331665029207, 0.35540331665029207, 0.35540331665029207, 0.35540331665029207, 0.35540331665029207, 0.35540331665029207, 0.35540331665029207, 0.35540331665029207, 0.35540331665029207, 0.35540331665029207, 0.35540331665029207, 0.35540331665029207, 0.35540331665029207, 0.35540331665029207, 0.35540331665029207]}], \"recall_score_macro\": [{\"categories\": [\"0\", \"1\", \"2\", \"3\", \"4\", \"5\", \"6\", \"7\", \"8\", \"9\", \"10\", \"11\", \"12\", \"13\", \"14\", \"15\", \"16\", \"17\", \"18\", \"19\", \"20\", \"21\", \"22\", \"23\", \"24\", \"25\", \"26\", \"27\", \"28\", \"29\", \"30\", \"31\", \"32\", \"33\", \"34\", \"35\", \"36\", \"37\", \"40\", \"41\"], \"mode\": \"markers\", \"name\": \"recall_score_macro\", \"stepped\": false, \"type\": \"scatter\", \"data\": [0.8077082895810014, 0.8130249020938379, 0.8041569680954692, 0.8052618610095728, 0.8109321038102502, 0.7987584536935224, 0.6515480309799531, 0.7918168440699906, 0.7928934713265378, 0.773523129711631, 0.7989874154259164, 0.7885545690642944, 0.7999603913439726, 0.758680183247975, 0.810638899207835, 0.8180780178377433, 0.8095071398852862, 0.8099340243725255, 0.7992019669562576, 0.813610314488461, 0.7647936289174846, 0.7656010204199564, 0.8287016697706058, 0.8240187693377052, 0.7958448240991147, 0.5, 0.7882103905184569, 0.7737386466825826, 0.7879816120505481, 0.7851500824690184, 0.639421090605301, 0.7762004071443431, 0.790815325946619, 0.8113427516419508, 0.6077358993663342, 0.7838796658147344, 0.8059589161474173, 0.809195992699139, 0.8511186336229242, 0.8246305383848289]}, {\"categories\": [\"0\", \"1\", \"2\", \"3\", \"4\", \"5\", \"6\", \"7\", \"8\", \"9\", \"10\", \"11\", \"12\", \"13\", \"14\", \"15\", \"16\", \"17\", \"18\", \"19\", \"20\", \"21\", \"22\", \"23\", \"24\", \"25\", \"26\", \"27\", \"28\", \"29\", \"30\", \"31\", \"32\", \"33\", \"34\", \"35\", \"36\", \"37\", \"40\", \"41\"], \"mode\": \"lines\", \"name\": \"recall_score_macro_max\", \"stepped\": true, \"type\": \"scatter\", \"data\": [0.8077082895810014, 0.8130249020938379, 0.8130249020938379, 0.8130249020938379, 0.8130249020938379, 0.8130249020938379, 0.8130249020938379, 0.8130249020938379, 0.8130249020938379, 0.8130249020938379, 0.8130249020938379, 0.8130249020938379, 0.8130249020938379, 0.8130249020938379, 0.8130249020938379, 0.8180780178377433, 0.8180780178377433, 0.8180780178377433, 0.8180780178377433, 0.8180780178377433, 0.8180780178377433, 0.8180780178377433, 0.8287016697706058, 0.8287016697706058, 0.8287016697706058, 0.8287016697706058, 0.8287016697706058, 0.8287016697706058, 0.8287016697706058, 0.8287016697706058, 0.8287016697706058, 0.8287016697706058, 0.8287016697706058, 0.8287016697706058, 0.8287016697706058, 0.8287016697706058, 0.8287016697706058, 0.8287016697706058, 0.8511186336229242, 0.8511186336229242]}], \"f1_score_macro\": [{\"categories\": [\"0\", \"1\", \"2\", \"3\", \"4\", \"5\", \"6\", \"7\", \"8\", \"9\", \"10\", \"11\", \"12\", \"13\", \"14\", \"15\", \"16\", \"17\", \"18\", \"19\", \"20\", \"21\", \"22\", \"23\", \"24\", \"25\", \"26\", \"27\", \"28\", \"29\", \"30\", \"31\", \"32\", \"33\", \"34\", \"35\", \"36\", \"37\", \"40\", \"41\"], \"mode\": \"markers\", \"name\": \"f1_score_macro\", \"stepped\": false, \"type\": \"scatter\", \"data\": [0.8043314151248963, 0.8078501228997539, 0.8048899824311724, 0.8008604145251887, 0.799665972915973, 0.7731117288438718, 0.6353070785738473, 0.795801446434647, 0.7967422068486142, 0.7904771790775355, 0.7986267128325191, 0.7901699674133443, 0.7985142741080727, 0.7603669925285953, 0.8139218100656445, 0.822092770682701, 0.8062936525373925, 0.8088690510738565, 0.800592919675218, 0.8160435588243565, 0.7728404384842704, 0.7738824362394157, 0.8234730338780667, 0.8264424794730081, 0.8012883076904815, 0.4024893878511494, 0.792244378564663, 0.7693848785463749, 0.7850098322729931, 0.7916445105042555, 0.6418818748932491, 0.7828601505683351, 0.7700666113830908, 0.7879342798712887, 0.5766645730498393, 0.7597725359486744, 0.8026096581295047, 0.8051255802812799, 0.8596588655909961, 0.8333667928658569]}, {\"categories\": [\"0\", \"1\", \"2\", \"3\", \"4\", \"5\", \"6\", \"7\", \"8\", \"9\", \"10\", \"11\", \"12\", \"13\", \"14\", \"15\", \"16\", \"17\", \"18\", \"19\", \"20\", \"21\", \"22\", \"23\", \"24\", \"25\", \"26\", \"27\", \"28\", \"29\", \"30\", \"31\", \"32\", \"33\", \"34\", \"35\", \"36\", \"37\", \"40\", \"41\"], \"mode\": \"lines\", \"name\": \"f1_score_macro_max\", \"stepped\": true, \"type\": \"scatter\", \"data\": [0.8043314151248963, 0.8078501228997539, 0.8078501228997539, 0.8078501228997539, 0.8078501228997539, 0.8078501228997539, 0.8078501228997539, 0.8078501228997539, 0.8078501228997539, 0.8078501228997539, 0.8078501228997539, 0.8078501228997539, 0.8078501228997539, 0.8078501228997539, 0.8139218100656445, 0.822092770682701, 0.822092770682701, 0.822092770682701, 0.822092770682701, 0.822092770682701, 0.822092770682701, 0.822092770682701, 0.8234730338780667, 0.8264424794730081, 0.8264424794730081, 0.8264424794730081, 0.8264424794730081, 0.8264424794730081, 0.8264424794730081, 0.8264424794730081, 0.8264424794730081, 0.8264424794730081, 0.8264424794730081, 0.8264424794730081, 0.8264424794730081, 0.8264424794730081, 0.8264424794730081, 0.8264424794730081, 0.8596588655909961, 0.8596588655909961]}], \"average_precision_score_weighted\": [{\"categories\": [\"0\", \"1\", \"2\", \"3\", \"4\", \"5\", \"6\", \"7\", \"8\", \"9\", \"10\", \"11\", \"12\", \"13\", \"14\", \"15\", \"16\", \"17\", \"18\", \"19\", \"20\", \"21\", \"22\", \"23\", \"24\", \"25\", \"26\", \"27\", \"28\", \"29\", \"30\", \"31\", \"32\", \"33\", \"34\", \"35\", \"36\", \"37\", \"40\", \"41\"], \"mode\": \"markers\", \"name\": \"average_precision_score_weighted\", \"stepped\": false, \"type\": \"scatter\", \"data\": [0.9061112830231934, 0.907154018724502, 0.9158250186591905, 0.9133276800206793, 0.9127065874347577, 0.8886538720497275, 0.7902984708289256, 0.9165549146745361, 0.9154938715851099, 0.9098595325841611, 0.918173640358231, 0.9196896625977816, 0.9042677325897064, 0.8764764478120824, 0.9060660336140408, 0.9213765034554801, 0.9051350361494794, 0.917480685511471, 0.9185264340158863, 0.8985902904411273, 0.916358520578126, 0.9005296863468131, 0.9212065958923157, 0.9249108213993497, 0.9128433838735328, 0.5827102655568768, 0.913099077205518, 0.9045106281799443, 0.9110885049354831, 0.9216375948474796, 0.8868426762752826, 0.8859937092218978, 0.8680752017476487, 0.9256693472638163, 0.8900577948961808, 0.8782486759451318, 0.8970735335670106, 0.9216305522768009, 0.9299034435441277, 0.9316094155156062]}, {\"categories\": [\"0\", \"1\", \"2\", \"3\", \"4\", \"5\", \"6\", \"7\", \"8\", \"9\", \"10\", \"11\", \"12\", \"13\", \"14\", \"15\", \"16\", \"17\", \"18\", \"19\", \"20\", \"21\", \"22\", \"23\", \"24\", \"25\", \"26\", \"27\", \"28\", \"29\", \"30\", \"31\", \"32\", \"33\", \"34\", \"35\", \"36\", \"37\", \"40\", \"41\"], \"mode\": \"lines\", \"name\": \"average_precision_score_weighted_max\", \"stepped\": true, \"type\": \"scatter\", \"data\": [0.9061112830231934, 0.907154018724502, 0.9158250186591905, 0.9158250186591905, 0.9158250186591905, 0.9158250186591905, 0.9158250186591905, 0.9165549146745361, 0.9165549146745361, 0.9165549146745361, 0.918173640358231, 0.9196896625977816, 0.9196896625977816, 0.9196896625977816, 0.9196896625977816, 0.9213765034554801, 0.9213765034554801, 0.9213765034554801, 0.9213765034554801, 0.9213765034554801, 0.9213765034554801, 0.9213765034554801, 0.9213765034554801, 0.9249108213993497, 0.9249108213993497, 0.9249108213993497, 0.9249108213993497, 0.9249108213993497, 0.9249108213993497, 0.9249108213993497, 0.9249108213993497, 0.9249108213993497, 0.9249108213993497, 0.9256693472638163, 0.9256693472638163, 0.9256693472638163, 0.9256693472638163, 0.9256693472638163, 0.9299034435441277, 0.9316094155156062]}], \"f1_score_weighted\": [{\"categories\": [\"0\", \"1\", \"2\", \"3\", \"4\", \"5\", \"6\", \"7\", \"8\", \"9\", \"10\", \"11\", \"12\", \"13\", \"14\", \"15\", \"16\", \"17\", \"18\", \"19\", \"20\", \"21\", \"22\", \"23\", \"24\", \"25\", \"26\", \"27\", \"28\", \"29\", \"30\", \"31\", \"32\", \"33\", \"34\", \"35\", \"36\", \"37\", \"40\", \"41\"], \"mode\": \"markers\", \"name\": \"f1_score_weighted\", \"stepped\": false, \"type\": \"scatter\", \"data\": [0.8333388901455894, 0.8342588560383983, 0.8393186977686307, 0.833132505729286, 0.828734320787769, 0.8054266363670353, 0.6984357561596176, 0.8268845927520065, 0.8282509173174366, 0.8252520566967105, 0.8309878058258724, 0.8263420407700537, 0.8280418148453291, 0.8048217845216165, 0.8444890292067422, 0.8473051775442382, 0.8330919162782356, 0.8388187717447086, 0.8323341032522762, 0.8428475873982254, 0.8099817042890736, 0.8156520200471908, 0.8504070355136815, 0.8517201829399637, 0.832414726095011, 0.5534120288954022, 0.8255981585104607, 0.8058336891220248, 0.817222235207525, 0.8258588292316087, 0.7189866334376289, 0.8203540639078974, 0.7996242886388729, 0.8169725940116361, 0.6647825190124161, 0.7906626040164934, 0.8341644215726021, 0.8332519518381423, 0.8784478545347623, 0.8590597773489655]}, {\"categories\": [\"0\", \"1\", \"2\", \"3\", \"4\", \"5\", \"6\", \"7\", \"8\", \"9\", \"10\", \"11\", \"12\", \"13\", \"14\", \"15\", \"16\", \"17\", \"18\", \"19\", \"20\", \"21\", \"22\", \"23\", \"24\", \"25\", \"26\", \"27\", \"28\", \"29\", \"30\", \"31\", \"32\", \"33\", \"34\", \"35\", \"36\", \"37\", \"40\", \"41\"], \"mode\": \"lines\", \"name\": \"f1_score_weighted_max\", \"stepped\": true, \"type\": \"scatter\", \"data\": [0.8333388901455894, 0.8342588560383983, 0.8393186977686307, 0.8393186977686307, 0.8393186977686307, 0.8393186977686307, 0.8393186977686307, 0.8393186977686307, 0.8393186977686307, 0.8393186977686307, 0.8393186977686307, 0.8393186977686307, 0.8393186977686307, 0.8393186977686307, 0.8444890292067422, 0.8473051775442382, 0.8473051775442382, 0.8473051775442382, 0.8473051775442382, 0.8473051775442382, 0.8473051775442382, 0.8473051775442382, 0.8504070355136815, 0.8517201829399637, 0.8517201829399637, 0.8517201829399637, 0.8517201829399637, 0.8517201829399637, 0.8517201829399637, 0.8517201829399637, 0.8517201829399637, 0.8517201829399637, 0.8517201829399637, 0.8517201829399637, 0.8517201829399637, 0.8517201829399637, 0.8517201829399637, 0.8517201829399637, 0.8784478545347623, 0.8784478545347623]}], \"recall_score_micro\": [{\"categories\": [\"0\", \"1\", \"2\", \"3\", \"4\", \"5\", \"6\", \"7\", \"8\", \"9\", \"10\", \"11\", \"12\", \"13\", \"14\", \"15\", \"16\", \"17\", \"18\", \"19\", \"20\", \"21\", \"22\", \"23\", \"24\", \"25\", \"26\", \"27\", \"28\", \"29\", \"30\", \"31\", \"32\", \"33\", \"34\", \"35\", \"36\", \"37\", \"40\", \"41\"], \"mode\": \"markers\", \"name\": \"recall_score_micro\", \"stepped\": false, \"type\": \"scatter\", \"data\": [0.8359770114942527, 0.8358620689655172, 0.8427586206896551, 0.8358620689655174, 0.829080459770115, 0.8025287356321839, 0.7291954022988507, 0.8327586206896551, 0.8325287356321839, 0.8362068965517242, 0.8359770114942527, 0.8325287356321839, 0.8328735632183909, 0.8093103448275862, 0.8495402298850575, 0.8527586206896552, 0.8362068965517242, 0.8426436781609196, 0.8393103448275863, 0.8462068965517242, 0.8226436781609194, 0.8228735632183909, 0.852528735632184, 0.8559770114942531, 0.8393103448275863, 0.6791954022988507, 0.8325287356321839, 0.812528735632184, 0.8224137931034482, 0.8328735632183909, 0.7627586206896552, 0.8262068965517242, 0.7957471264367817, 0.8122988505747127, 0.736206896551724, 0.7857471264367818, 0.8393103448275863, 0.8358620689655172, 0.8831034482758622, 0.8662068965517242]}, {\"categories\": [\"0\", \"1\", \"2\", \"3\", \"4\", \"5\", \"6\", \"7\", \"8\", \"9\", \"10\", \"11\", \"12\", \"13\", \"14\", \"15\", \"16\", \"17\", \"18\", \"19\", \"20\", \"21\", \"22\", \"23\", \"24\", \"25\", \"26\", \"27\", \"28\", \"29\", \"30\", \"31\", \"32\", \"33\", \"34\", \"35\", \"36\", \"37\", \"40\", \"41\"], \"mode\": \"lines\", \"name\": \"recall_score_micro_max\", \"stepped\": true, \"type\": \"scatter\", \"data\": [0.8359770114942527, 0.8359770114942527, 0.8427586206896551, 0.8427586206896551, 0.8427586206896551, 0.8427586206896551, 0.8427586206896551, 0.8427586206896551, 0.8427586206896551, 0.8427586206896551, 0.8427586206896551, 0.8427586206896551, 0.8427586206896551, 0.8427586206896551, 0.8495402298850575, 0.8527586206896552, 0.8527586206896552, 0.8527586206896552, 0.8527586206896552, 0.8527586206896552, 0.8527586206896552, 0.8527586206896552, 0.8527586206896552, 0.8559770114942531, 0.8559770114942531, 0.8559770114942531, 0.8559770114942531, 0.8559770114942531, 0.8559770114942531, 0.8559770114942531, 0.8559770114942531, 0.8559770114942531, 0.8559770114942531, 0.8559770114942531, 0.8559770114942531, 0.8559770114942531, 0.8559770114942531, 0.8559770114942531, 0.8831034482758622, 0.8831034482758622]}], \"precision_score_weighted\": [{\"categories\": [\"0\", \"1\", \"2\", \"3\", \"4\", \"5\", \"6\", \"7\", \"8\", \"9\", \"10\", \"11\", \"12\", \"13\", \"14\", \"15\", \"16\", \"17\", \"18\", \"19\", \"20\", \"21\", \"22\", \"23\", \"24\", \"25\", \"26\", \"27\", \"28\", \"29\", \"30\", \"31\", \"32\", \"33\", \"34\", \"35\", \"36\", \"37\", \"40\", \"41\"], \"mode\": \"markers\", \"name\": \"precision_score_weighted\", \"stepped\": false, \"type\": \"scatter\", \"data\": [0.8443308716969533, 0.8506678986628277, 0.851035641991414, 0.8548761212302575, 0.84559119310927, 0.8388520641991603, 0.7454571187849299, 0.8471991704876658, 0.8394873666341433, 0.8536141091542142, 0.8455005061834541, 0.8494995299094643, 0.8490463978799812, 0.8214794960088856, 0.8632553265105122, 0.8694222560977078, 0.8464264202888815, 0.8523931010880919, 0.8553606304186647, 0.8572997549026814, 0.8349369327241142, 0.831807519761043, 0.8661200876834311, 0.8717744661803266, 0.8512215457548056, 0.47055053507728895, 0.8443523654839247, 0.8339783219350057, 0.839668835519275, 0.8448307319034456, 0.8091607838734275, 0.8351816459526751, 0.8226563613263597, 0.8388879198411392, 0.7096228869895536, 0.8157693809320264, 0.8520676351939469, 0.8504361834234399, 0.8958617020161247, 0.8806402062455285]}, {\"categories\": [\"0\", \"1\", \"2\", \"3\", \"4\", \"5\", \"6\", \"7\", \"8\", \"9\", \"10\", \"11\", \"12\", \"13\", \"14\", \"15\", \"16\", \"17\", \"18\", \"19\", \"20\", \"21\", \"22\", \"23\", \"24\", \"25\", \"26\", \"27\", \"28\", \"29\", \"30\", \"31\", \"32\", \"33\", \"34\", \"35\", \"36\", \"37\", \"40\", \"41\"], \"mode\": \"lines\", \"name\": \"precision_score_weighted_max\", \"stepped\": true, \"type\": \"scatter\", \"data\": [0.8443308716969533, 0.8506678986628277, 0.851035641991414, 0.8548761212302575, 0.8548761212302575, 0.8548761212302575, 0.8548761212302575, 0.8548761212302575, 0.8548761212302575, 0.8548761212302575, 0.8548761212302575, 0.8548761212302575, 0.8548761212302575, 0.8548761212302575, 0.8632553265105122, 0.8694222560977078, 0.8694222560977078, 0.8694222560977078, 0.8694222560977078, 0.8694222560977078, 0.8694222560977078, 0.8694222560977078, 0.8694222560977078, 0.8717744661803266, 0.8717744661803266, 0.8717744661803266, 0.8717744661803266, 0.8717744661803266, 0.8717744661803266, 0.8717744661803266, 0.8717744661803266, 0.8717744661803266, 0.8717744661803266, 0.8717744661803266, 0.8717744661803266, 0.8717744661803266, 0.8717744661803266, 0.8717744661803266, 0.8958617020161247, 0.8958617020161247]}], \"average_precision_score_macro\": [{\"categories\": [\"0\", \"1\", \"2\", \"3\", \"4\", \"5\", \"6\", \"7\", \"8\", \"9\", \"10\", \"11\", \"12\", \"13\", \"14\", \"15\", \"16\", \"17\", \"18\", \"19\", \"20\", \"21\", \"22\", \"23\", \"24\", \"25\", \"26\", \"27\", \"28\", \"29\", \"30\", \"31\", \"32\", \"33\", \"34\", \"35\", \"36\", \"37\", \"40\", \"41\"], \"mode\": \"markers\", \"name\": \"average_precision_score_macro\", \"stepped\": false, \"type\": \"scatter\", \"data\": [0.8807888197525153, 0.8807340475847678, 0.884503358417323, 0.8851410818108952, 0.8848685205138815, 0.8519924272338069, 0.745469896825244, 0.8918330319186867, 0.893328688098531, 0.8859662921748838, 0.8928915521130237, 0.8945349664625457, 0.8793971710929904, 0.8401142754782065, 0.8801441796559588, 0.9005346314274421, 0.8819949781809319, 0.8918472715245189, 0.8918742359962035, 0.8771208433789817, 0.8893073017964932, 0.8750712719406739, 0.8957085318199729, 0.8981575231703778, 0.8833412239264323, 0.5, 0.8869420121401553, 0.8741411568817741, 0.8822622126464449, 0.8990806874086601, 0.8634340436854349, 0.8614680757961786, 0.8363027994411473, 0.9024705467735956, 0.8634516302470076, 0.8485706617751838, 0.8670051871471305, 0.8941805506173909, 0.9077163867341911, 0.9097329114600174]}, {\"categories\": [\"0\", \"1\", \"2\", \"3\", \"4\", \"5\", \"6\", \"7\", \"8\", \"9\", \"10\", \"11\", \"12\", \"13\", \"14\", \"15\", \"16\", \"17\", \"18\", \"19\", \"20\", \"21\", \"22\", \"23\", \"24\", \"25\", \"26\", \"27\", \"28\", \"29\", \"30\", \"31\", \"32\", \"33\", \"34\", \"35\", \"36\", \"37\", \"40\", \"41\"], \"mode\": \"lines\", \"name\": \"average_precision_score_macro_max\", \"stepped\": true, \"type\": \"scatter\", \"data\": [0.8807888197525153, 0.8807888197525153, 0.884503358417323, 0.8851410818108952, 0.8851410818108952, 0.8851410818108952, 0.8851410818108952, 0.8918330319186867, 0.893328688098531, 0.893328688098531, 0.893328688098531, 0.8945349664625457, 0.8945349664625457, 0.8945349664625457, 0.8945349664625457, 0.9005346314274421, 0.9005346314274421, 0.9005346314274421, 0.9005346314274421, 0.9005346314274421, 0.9005346314274421, 0.9005346314274421, 0.9005346314274421, 0.9005346314274421, 0.9005346314274421, 0.9005346314274421, 0.9005346314274421, 0.9005346314274421, 0.9005346314274421, 0.9005346314274421, 0.9005346314274421, 0.9005346314274421, 0.9005346314274421, 0.9024705467735956, 0.9024705467735956, 0.9024705467735956, 0.9024705467735956, 0.9024705467735956, 0.9077163867341911, 0.9097329114600174]}], \"AUC_weighted\": [{\"categories\": [\"0\", \"1\", \"2\", \"3\", \"4\", \"5\", \"6\", \"7\", \"8\", \"9\", \"10\", \"11\", \"12\", \"13\", \"14\", \"15\", \"16\", \"17\", \"18\", \"19\", \"20\", \"21\", \"22\", \"23\", \"24\", \"25\", \"26\", \"27\", \"28\", \"29\", \"30\", \"31\", \"32\", \"33\", \"34\", \"35\", \"36\", \"37\", \"40\", \"41\"], \"mode\": \"markers\", \"name\": \"AUC_weighted\", \"stepped\": false, \"type\": \"scatter\", \"data\": [0.8840955354735103, 0.8847369443591411, 0.9025704564166235, 0.8976041157461065, 0.8941663003303164, 0.8677114863905482, 0.747228730835653, 0.900381358452125, 0.8967402773787786, 0.8885435153265245, 0.8990064448836188, 0.9025306153504093, 0.8877728841757445, 0.8608370342027666, 0.8905101635291566, 0.9080010541009969, 0.8879981568848561, 0.9035577754773408, 0.9022516357593588, 0.8845898286284444, 0.9041695342055182, 0.8828238307945974, 0.9047205120563817, 0.9097926425638094, 0.8951857931224636, 0.5, 0.8964478961732395, 0.8758081038950032, 0.8842838791918313, 0.9026432110964719, 0.8618217838458685, 0.8662644202045519, 0.8353498870969694, 0.9107491182941982, 0.8784683866974199, 0.8499033902553925, 0.8890898286146856, 0.9081864328420964, 0.9191387579070647, 0.9188638336618885]}, {\"categories\": [\"0\", \"1\", \"2\", \"3\", \"4\", \"5\", \"6\", \"7\", \"8\", \"9\", \"10\", \"11\", \"12\", \"13\", \"14\", \"15\", \"16\", \"17\", \"18\", \"19\", \"20\", \"21\", \"22\", \"23\", \"24\", \"25\", \"26\", \"27\", \"28\", \"29\", \"30\", \"31\", \"32\", \"33\", \"34\", \"35\", \"36\", \"37\", \"40\", \"41\"], \"mode\": \"lines\", \"name\": \"AUC_weighted_max\", \"stepped\": true, \"type\": \"scatter\", \"data\": [0.8840955354735103, 0.8847369443591411, 0.9025704564166235, 0.9025704564166235, 0.9025704564166235, 0.9025704564166235, 0.9025704564166235, 0.9025704564166235, 0.9025704564166235, 0.9025704564166235, 0.9025704564166235, 0.9025704564166235, 0.9025704564166235, 0.9025704564166235, 0.9025704564166235, 0.9080010541009969, 0.9080010541009969, 0.9080010541009969, 0.9080010541009969, 0.9080010541009969, 0.9080010541009969, 0.9080010541009969, 0.9080010541009969, 0.9097926425638094, 0.9097926425638094, 0.9097926425638094, 0.9097926425638094, 0.9097926425638094, 0.9097926425638094, 0.9097926425638094, 0.9097926425638094, 0.9097926425638094, 0.9097926425638094, 0.9107491182941982, 0.9107491182941982, 0.9107491182941982, 0.9107491182941982, 0.9107491182941982, 0.9191387579070647, 0.9191387579070647]}], \"precision_score_micro\": [{\"categories\": [\"0\", \"1\", \"2\", \"3\", \"4\", \"5\", \"6\", \"7\", \"8\", \"9\", \"10\", \"11\", \"12\", \"13\", \"14\", \"15\", \"16\", \"17\", \"18\", \"19\", \"20\", \"21\", \"22\", \"23\", \"24\", \"25\", \"26\", \"27\", \"28\", \"29\", \"30\", \"31\", \"32\", \"33\", \"34\", \"35\", \"36\", \"37\", \"40\", \"41\"], \"mode\": \"markers\", \"name\": \"precision_score_micro\", \"stepped\": false, \"type\": \"scatter\", \"data\": [0.8359770114942527, 0.8358620689655172, 0.8427586206896551, 0.8358620689655174, 0.829080459770115, 0.8025287356321839, 0.7291954022988507, 0.8327586206896551, 0.8325287356321839, 0.8362068965517242, 0.8359770114942527, 0.8325287356321839, 0.8328735632183909, 0.8093103448275862, 0.8495402298850575, 0.8527586206896552, 0.8362068965517242, 0.8426436781609196, 0.8393103448275863, 0.8462068965517242, 0.8226436781609194, 0.8228735632183909, 0.852528735632184, 0.8559770114942531, 0.8393103448275863, 0.6791954022988507, 0.8325287356321839, 0.812528735632184, 0.8224137931034482, 0.8328735632183909, 0.7627586206896552, 0.8262068965517242, 0.7957471264367817, 0.8122988505747127, 0.736206896551724, 0.7857471264367818, 0.8393103448275863, 0.8358620689655172, 0.8831034482758622, 0.8662068965517242]}, {\"categories\": [\"0\", \"1\", \"2\", \"3\", \"4\", \"5\", \"6\", \"7\", \"8\", \"9\", \"10\", \"11\", \"12\", \"13\", \"14\", \"15\", \"16\", \"17\", \"18\", \"19\", \"20\", \"21\", \"22\", \"23\", \"24\", \"25\", \"26\", \"27\", \"28\", \"29\", \"30\", \"31\", \"32\", \"33\", \"34\", \"35\", \"36\", \"37\", \"40\", \"41\"], \"mode\": \"lines\", \"name\": \"precision_score_micro_max\", \"stepped\": true, \"type\": \"scatter\", \"data\": [0.8359770114942527, 0.8359770114942527, 0.8427586206896551, 0.8427586206896551, 0.8427586206896551, 0.8427586206896551, 0.8427586206896551, 0.8427586206896551, 0.8427586206896551, 0.8427586206896551, 0.8427586206896551, 0.8427586206896551, 0.8427586206896551, 0.8427586206896551, 0.8495402298850575, 0.8527586206896552, 0.8527586206896552, 0.8527586206896552, 0.8527586206896552, 0.8527586206896552, 0.8527586206896552, 0.8527586206896552, 0.8527586206896552, 0.8559770114942531, 0.8559770114942531, 0.8559770114942531, 0.8559770114942531, 0.8559770114942531, 0.8559770114942531, 0.8559770114942531, 0.8559770114942531, 0.8559770114942531, 0.8559770114942531, 0.8559770114942531, 0.8559770114942531, 0.8559770114942531, 0.8559770114942531, 0.8559770114942531, 0.8831034482758622, 0.8831034482758622]}], \"norm_macro_recall\": [{\"categories\": [\"0\", \"1\", \"2\", \"3\", \"4\", \"5\", \"6\", \"7\", \"8\", \"9\", \"10\", \"11\", \"12\", \"13\", \"14\", \"15\", \"16\", \"17\", \"18\", \"19\", \"20\", \"21\", \"22\", \"23\", \"24\", \"25\", \"26\", \"27\", \"28\", \"29\", \"30\", \"31\", \"32\", \"33\", \"34\", \"35\", \"36\", \"37\", \"40\", \"41\"], \"mode\": \"markers\", \"name\": \"norm_macro_recall\", \"stepped\": false, \"type\": \"scatter\", \"data\": [0.6154165791620023, 0.626049804187676, 0.6083139361909385, 0.6105237220191453, 0.6218642076205005, 0.5975169073870447, 0.3203209423426815, 0.5836336881399811, 0.5857869426530753, 0.5470462594232617, 0.5979748308518331, 0.5771091381285889, 0.5999207826879452, 0.5173603664959501, 0.6212777984156702, 0.6361560356754865, 0.6190142797705727, 0.619868048745051, 0.598403933912515, 0.627220628976922, 0.5295872578349694, 0.5312020408399126, 0.6574033395412113, 0.6480375386754105, 0.5916896481982293, 0.0, 0.5764207810369137, 0.5474772933651652, 0.5759632241010959, 0.5703001649380368, 0.2788421812106022, 0.5524008142886861, 0.5816306518932377, 0.6226855032839015, 0.22001725327812283, 0.567759331629469, 0.6119178322948345, 0.6183919853982782, 0.7022372672458486, 0.649261076769658]}, {\"categories\": [\"0\", \"1\", \"2\", \"3\", \"4\", \"5\", \"6\", \"7\", \"8\", \"9\", \"10\", \"11\", \"12\", \"13\", \"14\", \"15\", \"16\", \"17\", \"18\", \"19\", \"20\", \"21\", \"22\", \"23\", \"24\", \"25\", \"26\", \"27\", \"28\", \"29\", \"30\", \"31\", \"32\", \"33\", \"34\", \"35\", \"36\", \"37\", \"40\", \"41\"], \"mode\": \"lines\", \"name\": \"norm_macro_recall_max\", \"stepped\": true, \"type\": \"scatter\", \"data\": [0.6154165791620023, 0.626049804187676, 0.626049804187676, 0.626049804187676, 0.626049804187676, 0.626049804187676, 0.626049804187676, 0.626049804187676, 0.626049804187676, 0.626049804187676, 0.626049804187676, 0.626049804187676, 0.626049804187676, 0.626049804187676, 0.626049804187676, 0.6361560356754865, 0.6361560356754865, 0.6361560356754865, 0.6361560356754865, 0.6361560356754865, 0.6361560356754865, 0.6361560356754865, 0.6574033395412113, 0.6574033395412113, 0.6574033395412113, 0.6574033395412113, 0.6574033395412113, 0.6574033395412113, 0.6574033395412113, 0.6574033395412113, 0.6574033395412113, 0.6574033395412113, 0.6574033395412113, 0.6574033395412113, 0.6574033395412113, 0.6574033395412113, 0.6574033395412113, 0.6574033395412113, 0.7022372672458486, 0.7022372672458486]}], \"AUC_macro\": [{\"categories\": [\"0\", \"1\", \"2\", \"3\", \"4\", \"5\", \"6\", \"7\", \"8\", \"9\", \"10\", \"11\", \"12\", \"13\", \"14\", \"15\", \"16\", \"17\", \"18\", \"19\", \"20\", \"21\", \"22\", \"23\", \"24\", \"25\", \"26\", \"27\", \"28\", \"29\", \"30\", \"31\", \"32\", \"33\", \"34\", \"35\", \"36\", \"37\", \"40\", \"41\"], \"mode\": \"markers\", \"name\": \"AUC_macro\", \"stepped\": false, \"type\": \"scatter\", \"data\": [0.8840955354735103, 0.8847369443591411, 0.9025704564166235, 0.8976041157461065, 0.8941663003303162, 0.8677114863905482, 0.7472287308356531, 0.900381358452125, 0.8967402773787784, 0.8885435153265245, 0.8990064448836188, 0.9025306153504093, 0.8877728841757445, 0.8608370342027666, 0.8905101635291567, 0.9080010541009969, 0.8879981568848561, 0.9035577754773406, 0.9022516357593588, 0.8845898286284442, 0.9041695342055182, 0.8828238307945974, 0.9047205120563815, 0.9097926425638097, 0.8951857931224636, 0.5, 0.8964478961732395, 0.8758081038950032, 0.884283879191831, 0.9026432110964719, 0.8618217838458684, 0.8662644202045519, 0.8353498870969694, 0.9107491182941985, 0.8784683866974199, 0.8499033902553925, 0.8890898286146856, 0.9081864328420964, 0.9191387579070645, 0.9188638336618885]}, {\"categories\": [\"0\", \"1\", \"2\", \"3\", \"4\", \"5\", \"6\", \"7\", \"8\", \"9\", \"10\", \"11\", \"12\", \"13\", \"14\", \"15\", \"16\", \"17\", \"18\", \"19\", \"20\", \"21\", \"22\", \"23\", \"24\", \"25\", \"26\", \"27\", \"28\", \"29\", \"30\", \"31\", \"32\", \"33\", \"34\", \"35\", \"36\", \"37\", \"40\", \"41\"], \"mode\": \"lines\", \"name\": \"AUC_macro_max\", \"stepped\": true, \"type\": \"scatter\", \"data\": [0.8840955354735103, 0.8847369443591411, 0.9025704564166235, 0.9025704564166235, 0.9025704564166235, 0.9025704564166235, 0.9025704564166235, 0.9025704564166235, 0.9025704564166235, 0.9025704564166235, 0.9025704564166235, 0.9025704564166235, 0.9025704564166235, 0.9025704564166235, 0.9025704564166235, 0.9080010541009969, 0.9080010541009969, 0.9080010541009969, 0.9080010541009969, 0.9080010541009969, 0.9080010541009969, 0.9080010541009969, 0.9080010541009969, 0.9097926425638097, 0.9097926425638097, 0.9097926425638097, 0.9097926425638097, 0.9097926425638097, 0.9097926425638097, 0.9097926425638097, 0.9097926425638097, 0.9097926425638097, 0.9097926425638097, 0.9107491182941985, 0.9107491182941985, 0.9107491182941985, 0.9107491182941985, 0.9107491182941985, 0.9191387579070645, 0.9191387579070645]}], \"weighted_accuracy\": [{\"categories\": [\"0\", \"1\", \"2\", \"3\", \"4\", \"5\", \"6\", \"7\", \"8\", \"9\", \"10\", \"11\", \"12\", \"13\", \"14\", \"15\", \"16\", \"17\", \"18\", \"19\", \"20\", \"21\", \"22\", \"23\", \"24\", \"25\", \"26\", \"27\", \"28\", \"29\", \"30\", \"31\", \"32\", \"33\", \"34\", \"35\", \"36\", \"37\", \"40\", \"41\"], \"mode\": \"markers\", \"name\": \"weighted_accuracy\", \"stepped\": false, \"type\": \"scatter\", \"data\": [0.8541321922200625, 0.8502962163535492, 0.8661233415160048, 0.8556687082109699, 0.8403098615185725, 0.8035852159915275, 0.781757011907631, 0.8595287859119706, 0.8582217682812991, 0.876865743376755, 0.8602770374249623, 0.8601908221055835, 0.8537749403572639, 0.8385082313085942, 0.8734514076072569, 0.8754349402150415, 0.8535480316158818, 0.8637957461490643, 0.8669339017794584, 0.8649361836936891, 0.8613850227996014, 0.8568029364088992, 0.8682019159695358, 0.8763679033507369, 0.8685521836685911, 0.7931711479234276, 0.8626350288831249, 0.8365909798935954, 0.8433832949727625, 0.8637363624895109, 0.8400509669853247, 0.85484454828196, 0.7972368790628198, 0.8110515039694445, 0.8191689632784229, 0.7861440588134717, 0.8613171490646818, 0.8532841617326433, 0.9035554026334669, 0.8923485733293459]}, {\"categories\": [\"0\", \"1\", \"2\", \"3\", \"4\", \"5\", \"6\", \"7\", \"8\", \"9\", \"10\", \"11\", \"12\", \"13\", \"14\", \"15\", \"16\", \"17\", \"18\", \"19\", \"20\", \"21\", \"22\", \"23\", \"24\", \"25\", \"26\", \"27\", \"28\", \"29\", \"30\", \"31\", \"32\", \"33\", \"34\", \"35\", \"36\", \"37\", \"40\", \"41\"], \"mode\": \"lines\", \"name\": \"weighted_accuracy_max\", \"stepped\": true, \"type\": \"scatter\", \"data\": [0.8541321922200625, 0.8541321922200625, 0.8661233415160048, 0.8661233415160048, 0.8661233415160048, 0.8661233415160048, 0.8661233415160048, 0.8661233415160048, 0.8661233415160048, 0.876865743376755, 0.876865743376755, 0.876865743376755, 0.876865743376755, 0.876865743376755, 0.876865743376755, 0.876865743376755, 0.876865743376755, 0.876865743376755, 0.876865743376755, 0.876865743376755, 0.876865743376755, 0.876865743376755, 0.876865743376755, 0.876865743376755, 0.876865743376755, 0.876865743376755, 0.876865743376755, 0.876865743376755, 0.876865743376755, 0.876865743376755, 0.876865743376755, 0.876865743376755, 0.876865743376755, 0.876865743376755, 0.876865743376755, 0.876865743376755, 0.876865743376755, 0.876865743376755, 0.9035554026334669, 0.9035554026334669]}], \"f1_score_micro\": [{\"categories\": [\"0\", \"1\", \"2\", \"3\", \"4\", \"5\", \"6\", \"7\", \"8\", \"9\", \"10\", \"11\", \"12\", \"13\", \"14\", \"15\", \"16\", \"17\", \"18\", \"19\", \"20\", \"21\", \"22\", \"23\", \"24\", \"25\", \"26\", \"27\", \"28\", \"29\", \"30\", \"31\", \"32\", \"33\", \"34\", \"35\", \"36\", \"37\", \"40\", \"41\"], \"mode\": \"markers\", \"name\": \"f1_score_micro\", \"stepped\": false, \"type\": \"scatter\", \"data\": [0.8359770114942527, 0.8358620689655172, 0.8427586206896551, 0.8358620689655174, 0.829080459770115, 0.8025287356321839, 0.7291954022988507, 0.8327586206896551, 0.8325287356321839, 0.8362068965517242, 0.8359770114942527, 0.8325287356321839, 0.8328735632183909, 0.8093103448275862, 0.8495402298850575, 0.8527586206896552, 0.8362068965517242, 0.8426436781609196, 0.8393103448275863, 0.8462068965517242, 0.8226436781609194, 0.8228735632183909, 0.852528735632184, 0.8559770114942531, 0.8393103448275863, 0.6791954022988507, 0.8325287356321839, 0.812528735632184, 0.8224137931034482, 0.8328735632183909, 0.7627586206896552, 0.8262068965517242, 0.7957471264367817, 0.8122988505747127, 0.736206896551724, 0.7857471264367818, 0.8393103448275863, 0.8358620689655172, 0.8831034482758622, 0.8662068965517242]}, {\"categories\": [\"0\", \"1\", \"2\", \"3\", \"4\", \"5\", \"6\", \"7\", \"8\", \"9\", \"10\", \"11\", \"12\", \"13\", \"14\", \"15\", \"16\", \"17\", \"18\", \"19\", \"20\", \"21\", \"22\", \"23\", \"24\", \"25\", \"26\", \"27\", \"28\", \"29\", \"30\", \"31\", \"32\", \"33\", \"34\", \"35\", \"36\", \"37\", \"40\", \"41\"], \"mode\": \"lines\", \"name\": \"f1_score_micro_max\", \"stepped\": true, \"type\": \"scatter\", \"data\": [0.8359770114942527, 0.8359770114942527, 0.8427586206896551, 0.8427586206896551, 0.8427586206896551, 0.8427586206896551, 0.8427586206896551, 0.8427586206896551, 0.8427586206896551, 0.8427586206896551, 0.8427586206896551, 0.8427586206896551, 0.8427586206896551, 0.8427586206896551, 0.8495402298850575, 0.8527586206896552, 0.8527586206896552, 0.8527586206896552, 0.8527586206896552, 0.8527586206896552, 0.8527586206896552, 0.8527586206896552, 0.8527586206896552, 0.8559770114942531, 0.8559770114942531, 0.8559770114942531, 0.8559770114942531, 0.8559770114942531, 0.8559770114942531, 0.8559770114942531, 0.8559770114942531, 0.8559770114942531, 0.8559770114942531, 0.8559770114942531, 0.8559770114942531, 0.8559770114942531, 0.8559770114942531, 0.8559770114942531, 0.8831034482758622, 0.8831034482758622]}], \"matthews_correlation\": [{\"categories\": [\"0\", \"1\", \"2\", \"3\", \"4\", \"5\", \"6\", \"7\", \"8\", \"9\", \"10\", \"11\", \"12\", \"13\", \"14\", \"15\", \"16\", \"17\", \"18\", \"19\", \"20\", \"21\", \"22\", \"23\", \"24\", \"25\", \"26\", \"27\", \"28\", \"29\", \"30\", \"31\", \"32\", \"33\", \"34\", \"35\", \"36\", \"37\", \"40\", \"41\"], \"mode\": \"markers\", \"name\": \"matthews_correlation\", \"stepped\": false, \"type\": \"scatter\", \"data\": [0.6231314496952846, 0.6345538749068885, 0.6252934867010997, 0.6267282278233978, 0.6172296224624458, 0.5797377889162848, 0.34178208332788634, 0.6181804708226917, 0.6097723239824234, 0.6238064214142518, 0.6170740540006115, 0.610283417163898, 0.6251514690683962, 0.5420631828594559, 0.6526669490817252, 0.6714956093600895, 0.6291702367253744, 0.6352662313841778, 0.6320897071733595, 0.6515556216201561, 0.5839565871463948, 0.5724517308480801, 0.6652627264285969, 0.6781389152434338, 0.6282666583697689, 0.0, 0.610521840287896, 0.5739845352421862, 0.6003672745653356, 0.611261826028121, 0.42924653560630704, 0.5899539090564098, 0.5616964269586529, 0.595282336721352, 0.3160665170073652, 0.5433133597421589, 0.6284918095534159, 0.6300411906077117, 0.7423301682990012, 0.6975479552988257]}, {\"categories\": [\"0\", \"1\", \"2\", \"3\", \"4\", \"5\", \"6\", \"7\", \"8\", \"9\", \"10\", \"11\", \"12\", \"13\", \"14\", \"15\", \"16\", \"17\", \"18\", \"19\", \"20\", \"21\", \"22\", \"23\", \"24\", \"25\", \"26\", \"27\", \"28\", \"29\", \"30\", \"31\", \"32\", \"33\", \"34\", \"35\", \"36\", \"37\", \"40\", \"41\"], \"mode\": \"lines\", \"name\": \"matthews_correlation_max\", \"stepped\": true, \"type\": \"scatter\", \"data\": [0.6231314496952846, 0.6345538749068885, 0.6345538749068885, 0.6345538749068885, 0.6345538749068885, 0.6345538749068885, 0.6345538749068885, 0.6345538749068885, 0.6345538749068885, 0.6345538749068885, 0.6345538749068885, 0.6345538749068885, 0.6345538749068885, 0.6345538749068885, 0.6526669490817252, 0.6714956093600895, 0.6714956093600895, 0.6714956093600895, 0.6714956093600895, 0.6714956093600895, 0.6714956093600895, 0.6714956093600895, 0.6714956093600895, 0.6781389152434338, 0.6781389152434338, 0.6781389152434338, 0.6781389152434338, 0.6781389152434338, 0.6781389152434338, 0.6781389152434338, 0.6781389152434338, 0.6781389152434338, 0.6781389152434338, 0.6781389152434338, 0.6781389152434338, 0.6781389152434338, 0.6781389152434338, 0.6781389152434338, 0.7423301682990012, 0.7423301682990012]}], \"balanced_accuracy\": [{\"categories\": [\"0\", \"1\", \"2\", \"3\", \"4\", \"5\", \"6\", \"7\", \"8\", \"9\", \"10\", \"11\", \"12\", \"13\", \"14\", \"15\", \"16\", \"17\", \"18\", \"19\", \"20\", \"21\", \"22\", \"23\", \"24\", \"25\", \"26\", \"27\", \"28\", \"29\", \"30\", \"31\", \"32\", \"33\", \"34\", \"35\", \"36\", \"37\", \"40\", \"41\"], \"mode\": \"markers\", \"name\": \"balanced_accuracy\", \"stepped\": false, \"type\": \"scatter\", \"data\": [0.8077082895810014, 0.8130249020938379, 0.8041569680954692, 0.8052618610095728, 0.8109321038102502, 0.7987584536935224, 0.6515480309799531, 0.7918168440699906, 0.7928934713265378, 0.773523129711631, 0.7989874154259164, 0.7885545690642944, 0.7999603913439726, 0.758680183247975, 0.810638899207835, 0.8180780178377433, 0.8095071398852862, 0.8099340243725255, 0.7992019669562576, 0.813610314488461, 0.7647936289174846, 0.7656010204199564, 0.8287016697706058, 0.8240187693377052, 0.7958448240991147, 0.5, 0.7882103905184569, 0.7737386466825826, 0.7879816120505481, 0.7851500824690184, 0.639421090605301, 0.7762004071443431, 0.790815325946619, 0.8113427516419508, 0.6077358993663342, 0.7838796658147344, 0.8059589161474173, 0.809195992699139, 0.8511186336229242, 0.8246305383848289]}, {\"categories\": [\"0\", \"1\", \"2\", \"3\", \"4\", \"5\", \"6\", \"7\", \"8\", \"9\", \"10\", \"11\", \"12\", \"13\", \"14\", \"15\", \"16\", \"17\", \"18\", \"19\", \"20\", \"21\", \"22\", \"23\", \"24\", \"25\", \"26\", \"27\", \"28\", \"29\", \"30\", \"31\", \"32\", \"33\", \"34\", \"35\", \"36\", \"37\", \"40\", \"41\"], \"mode\": \"lines\", \"name\": \"balanced_accuracy_max\", \"stepped\": true, \"type\": \"scatter\", \"data\": [0.8077082895810014, 0.8130249020938379, 0.8130249020938379, 0.8130249020938379, 0.8130249020938379, 0.8130249020938379, 0.8130249020938379, 0.8130249020938379, 0.8130249020938379, 0.8130249020938379, 0.8130249020938379, 0.8130249020938379, 0.8130249020938379, 0.8130249020938379, 0.8130249020938379, 0.8180780178377433, 0.8180780178377433, 0.8180780178377433, 0.8180780178377433, 0.8180780178377433, 0.8180780178377433, 0.8180780178377433, 0.8287016697706058, 0.8287016697706058, 0.8287016697706058, 0.8287016697706058, 0.8287016697706058, 0.8287016697706058, 0.8287016697706058, 0.8287016697706058, 0.8287016697706058, 0.8287016697706058, 0.8287016697706058, 0.8287016697706058, 0.8287016697706058, 0.8287016697706058, 0.8287016697706058, 0.8287016697706058, 0.8511186336229242, 0.8511186336229242]}], \"accuracy\": [{\"categories\": [\"0\", \"1\", \"2\", \"3\", \"4\", \"5\", \"6\", \"7\", \"8\", \"9\", \"10\", \"11\", \"12\", \"13\", \"14\", \"15\", \"16\", \"17\", \"18\", \"19\", \"20\", \"21\", \"22\", \"23\", \"24\", \"25\", \"26\", \"27\", \"28\", \"29\", \"30\", \"31\", \"32\", \"33\", \"34\", \"35\", \"36\", \"37\", \"40\", \"41\"], \"mode\": \"markers\", \"name\": \"accuracy\", \"stepped\": false, \"type\": \"scatter\", \"data\": [0.8359770114942527, 0.8358620689655172, 0.8427586206896551, 0.8358620689655174, 0.829080459770115, 0.8025287356321839, 0.7291954022988507, 0.8327586206896551, 0.8325287356321839, 0.8362068965517242, 0.8359770114942527, 0.8325287356321839, 0.8328735632183909, 0.8093103448275862, 0.8495402298850575, 0.8527586206896552, 0.8362068965517242, 0.8426436781609196, 0.8393103448275863, 0.8462068965517242, 0.8226436781609194, 0.8228735632183909, 0.852528735632184, 0.8559770114942531, 0.8393103448275863, 0.6791954022988507, 0.8325287356321839, 0.812528735632184, 0.8224137931034482, 0.8328735632183909, 0.7627586206896552, 0.8262068965517242, 0.7957471264367817, 0.8122988505747127, 0.736206896551724, 0.7857471264367818, 0.8393103448275863, 0.8358620689655172, 0.8831034482758622, 0.8662068965517242]}, {\"categories\": [\"0\", \"1\", \"2\", \"3\", \"4\", \"5\", \"6\", \"7\", \"8\", \"9\", \"10\", \"11\", \"12\", \"13\", \"14\", \"15\", \"16\", \"17\", \"18\", \"19\", \"20\", \"21\", \"22\", \"23\", \"24\", \"25\", \"26\", \"27\", \"28\", \"29\", \"30\", \"31\", \"32\", \"33\", \"34\", \"35\", \"36\", \"37\", \"40\", \"41\"], \"mode\": \"lines\", \"name\": \"accuracy_max\", \"stepped\": true, \"type\": \"scatter\", \"data\": [0.8359770114942527, 0.8359770114942527, 0.8427586206896551, 0.8427586206896551, 0.8427586206896551, 0.8427586206896551, 0.8427586206896551, 0.8427586206896551, 0.8427586206896551, 0.8427586206896551, 0.8427586206896551, 0.8427586206896551, 0.8427586206896551, 0.8427586206896551, 0.8495402298850575, 0.8527586206896552, 0.8527586206896552, 0.8527586206896552, 0.8527586206896552, 0.8527586206896552, 0.8527586206896552, 0.8527586206896552, 0.8527586206896552, 0.8559770114942531, 0.8559770114942531, 0.8559770114942531, 0.8559770114942531, 0.8559770114942531, 0.8559770114942531, 0.8559770114942531, 0.8559770114942531, 0.8559770114942531, 0.8559770114942531, 0.8559770114942531, 0.8559770114942531, 0.8559770114942531, 0.8559770114942531, 0.8559770114942531, 0.8831034482758622, 0.8831034482758622]}], \"precision_score_macro\": [{\"categories\": [\"0\", \"1\", \"2\", \"3\", \"4\", \"5\", \"6\", \"7\", \"8\", \"9\", \"10\", \"11\", \"12\", \"13\", \"14\", \"15\", \"16\", \"17\", \"18\", \"19\", \"20\", \"21\", \"22\", \"23\", \"24\", \"25\", \"26\", \"27\", \"28\", \"29\", \"30\", \"31\", \"32\", \"33\", \"34\", \"35\", \"36\", \"37\", \"40\", \"41\"], \"mode\": \"markers\", \"name\": \"precision_score_macro\", \"stepped\": false, \"type\": \"scatter\", \"data\": [0.8167365852764965, 0.8232986049897815, 0.8224454325867369, 0.8244942998888011, 0.8078816130176341, 0.7828968728639781, 0.7064323740144578, 0.8294928031541303, 0.818831011983186, 0.859090486807878, 0.8198523482619592, 0.8256218986962693, 0.8302320007731906, 0.7853385886633968, 0.8451538107313784, 0.8563896020074511, 0.8208112856094415, 0.8267918743585725, 0.8366777806592385, 0.8407843157363617, 0.8236542443064183, 0.80984181880921, 0.8380784735224095, 0.8573988470324787, 0.8347272430087076, 0.33959770114942534, 0.824909420289855, 0.8050496618515867, 0.8174377185994833, 0.831113890939978, 0.8389418691142829, 0.8198495249982664, 0.7719469473165292, 0.7852107207266044, 0.7013120640534434, 0.7613470894430646, 0.82479852876592, 0.8224838132881611, 0.8941003107622102, 0.8786110898382067]}, {\"categories\": [\"0\", \"1\", \"2\", \"3\", \"4\", \"5\", \"6\", \"7\", \"8\", \"9\", \"10\", \"11\", \"12\", \"13\", \"14\", \"15\", \"16\", \"17\", \"18\", \"19\", \"20\", \"21\", \"22\", \"23\", \"24\", \"25\", \"26\", \"27\", \"28\", \"29\", \"30\", \"31\", \"32\", \"33\", \"34\", \"35\", \"36\", \"37\", \"40\", \"41\"], \"mode\": \"lines\", \"name\": \"precision_score_macro_max\", \"stepped\": true, \"type\": \"scatter\", \"data\": [0.8167365852764965, 0.8232986049897815, 0.8232986049897815, 0.8244942998888011, 0.8244942998888011, 0.8244942998888011, 0.8244942998888011, 0.8294928031541303, 0.8294928031541303, 0.859090486807878, 0.859090486807878, 0.859090486807878, 0.859090486807878, 0.859090486807878, 0.859090486807878, 0.859090486807878, 0.859090486807878, 0.859090486807878, 0.859090486807878, 0.859090486807878, 0.859090486807878, 0.859090486807878, 0.859090486807878, 0.859090486807878, 0.859090486807878, 0.859090486807878, 0.859090486807878, 0.859090486807878, 0.859090486807878, 0.859090486807878, 0.859090486807878, 0.859090486807878, 0.859090486807878, 0.859090486807878, 0.859090486807878, 0.859090486807878, 0.859090486807878, 0.859090486807878, 0.8941003107622102, 0.8941003107622102]}], \"AUC_micro\": [{\"categories\": [\"0\", \"1\", \"2\", \"3\", \"4\", \"5\", \"6\", \"7\", \"8\", \"9\", \"10\", \"11\", \"12\", \"13\", \"14\", \"15\", \"16\", \"17\", \"18\", \"19\", \"20\", \"21\", \"22\", \"23\", \"24\", \"25\", \"26\", \"27\", \"28\", \"29\", \"30\", \"31\", \"32\", \"33\", \"34\", \"35\", \"36\", \"37\", \"40\", \"41\"], \"mode\": \"markers\", \"name\": \"AUC_micro\", \"stepped\": false, \"type\": \"scatter\", \"data\": [0.9035422116527941, 0.9042166732725592, 0.909994451050337, 0.9073121944774739, 0.9072499669705376, 0.867733386180473, 0.7884292508917955, 0.903497291584093, 0.9076455278108071, 0.8952380763641168, 0.9117020742502314, 0.9128853217069628, 0.898694147179284, 0.8808599550799313, 0.9005986259743691, 0.9091307966706301, 0.8939495309816357, 0.9157644338750164, 0.9062068965517242, 0.898280882547232, 0.8919398863786497, 0.8912808825472321, 0.9133921257761923, 0.920824811732065, 0.9027644338750165, 0.6791954022988507, 0.9018189985467036, 0.8960236490949928, 0.9028092218258686, 0.9073959571938168, 0.8440820451843043, 0.8844563350508652, 0.8441584093010966, 0.9060003963535473, 0.8472790328973445, 0.8505268859822962, 0.8984388954947814, 0.9127234773417889, 0.9237253269916765, 0.9226941471792838]}, {\"categories\": [\"0\", \"1\", \"2\", \"3\", \"4\", \"5\", \"6\", \"7\", \"8\", \"9\", \"10\", \"11\", \"12\", \"13\", \"14\", \"15\", \"16\", \"17\", \"18\", \"19\", \"20\", \"21\", \"22\", \"23\", \"24\", \"25\", \"26\", \"27\", \"28\", \"29\", \"30\", \"31\", \"32\", \"33\", \"34\", \"35\", \"36\", \"37\", \"40\", \"41\"], \"mode\": \"lines\", \"name\": \"AUC_micro_max\", \"stepped\": true, \"type\": \"scatter\", \"data\": [0.9035422116527941, 0.9042166732725592, 0.909994451050337, 0.909994451050337, 0.909994451050337, 0.909994451050337, 0.909994451050337, 0.909994451050337, 0.909994451050337, 0.909994451050337, 0.9117020742502314, 0.9128853217069628, 0.9128853217069628, 0.9128853217069628, 0.9128853217069628, 0.9128853217069628, 0.9128853217069628, 0.9157644338750164, 0.9157644338750164, 0.9157644338750164, 0.9157644338750164, 0.9157644338750164, 0.9157644338750164, 0.920824811732065, 0.920824811732065, 0.920824811732065, 0.920824811732065, 0.920824811732065, 0.920824811732065, 0.920824811732065, 0.920824811732065, 0.920824811732065, 0.920824811732065, 0.920824811732065, 0.920824811732065, 0.920824811732065, 0.920824811732065, 0.920824811732065, 0.9237253269916765, 0.9237253269916765]}], \"average_precision_score_micro\": [{\"categories\": [\"0\", \"1\", \"2\", \"3\", \"4\", \"5\", \"6\", \"7\", \"8\", \"9\", \"10\", \"11\", \"12\", \"13\", \"14\", \"15\", \"16\", \"17\", \"18\", \"19\", \"20\", \"21\", \"22\", \"23\", \"24\", \"25\", \"26\", \"27\", \"28\", \"29\", \"30\", \"31\", \"32\", \"33\", \"34\", \"35\", \"36\", \"37\", \"40\", \"41\"], \"mode\": \"markers\", \"name\": \"average_precision_score_micro\", \"stepped\": false, \"type\": \"scatter\", \"data\": [0.9020054536251629, 0.9033793522124445, 0.9126850469197573, 0.90946600938161, 0.908677369594673, 0.8641649250709525, 0.7800934791483172, 0.9076713764950277, 0.9099002413564236, 0.8974304027977904, 0.9138843267277622, 0.9153552510550519, 0.9019692978998345, 0.876380860099481, 0.9015291478498986, 0.9116997112880789, 0.8969673089031585, 0.917440499534047, 0.9100085270296232, 0.8953867134916893, 0.8974845578120805, 0.8935882395630127, 0.9174544458249295, 0.9249767804468192, 0.907380079578538, 0.6309528339278636, 0.90363316833069, 0.9022617467680085, 0.9079111548993156, 0.9127143217219029, 0.8504191201666316, 0.8831306137617396, 0.8451724690065447, 0.9088385036829095, 0.8512304111736941, 0.8519646510652477, 0.8950673049215215, 0.9152650148360826, 0.9269018734864382, 0.92577400131967]}, {\"categories\": [\"0\", \"1\", \"2\", \"3\", \"4\", \"5\", \"6\", \"7\", \"8\", \"9\", \"10\", \"11\", \"12\", \"13\", \"14\", \"15\", \"16\", \"17\", \"18\", \"19\", \"20\", \"21\", \"22\", \"23\", \"24\", \"25\", \"26\", \"27\", \"28\", \"29\", \"30\", \"31\", \"32\", \"33\", \"34\", \"35\", \"36\", \"37\", \"40\", \"41\"], \"mode\": \"lines\", \"name\": \"average_precision_score_micro_max\", \"stepped\": true, \"type\": \"scatter\", \"data\": [0.9020054536251629, 0.9033793522124445, 0.9126850469197573, 0.9126850469197573, 0.9126850469197573, 0.9126850469197573, 0.9126850469197573, 0.9126850469197573, 0.9126850469197573, 0.9126850469197573, 0.9138843267277622, 0.9153552510550519, 0.9153552510550519, 0.9153552510550519, 0.9153552510550519, 0.9153552510550519, 0.9153552510550519, 0.917440499534047, 0.917440499534047, 0.917440499534047, 0.917440499534047, 0.917440499534047, 0.9174544458249295, 0.9249767804468192, 0.9249767804468192, 0.9249767804468192, 0.9249767804468192, 0.9249767804468192, 0.9249767804468192, 0.9249767804468192, 0.9249767804468192, 0.9249767804468192, 0.9249767804468192, 0.9249767804468192, 0.9249767804468192, 0.9249767804468192, 0.9249767804468192, 0.9249767804468192, 0.9269018734864382, 0.9269018734864382]}]}, \"metricName\": null, \"primaryMetricName\": \"accuracy\", \"showLegend\": false}, \"run_metrics\": [{\"name\": \"experiment_status\", \"run_id\": \"AutoML_8934d6c4-8831-4d4b-98e5-907b3bdab98d\", \"categories\": [0, 1, 2, 3, 4, 5, 6, 7, 8, 9, 10, 11, 12, 13], \"series\": [{\"data\": [\"DatasetEvaluation\", \"FeaturesGeneration\", \"DatasetFeaturization\", \"DatasetFeaturizationCompleted\", \"DatasetCrossValidationSplit\", \"ModelSelection\", \"BestRunExplainModel\", \"ModelExplanationDataSetSetup\", \"PickSurrogateModel\", \"EngineeredFeatureExplanations\", \"EngineeredFeatureExplanations\", \"RawFeaturesExplanations\", \"RawFeaturesExplanations\", \"BestRunExplainModel\"]}]}, {\"name\": \"experiment_status_description\", \"run_id\": \"AutoML_8934d6c4-8831-4d4b-98e5-907b3bdab98d\", \"categories\": [0, 1, 2, 3, 4, 5, 6, 7, 8, 9, 10, 11, 12, 13], \"series\": [{\"data\": [\"Gathering dataset statistics.\", \"Generating features for the dataset.\", \"Beginning to fit featurizers and featurize the dataset.\", \"Completed fit featurizers and featurizing the dataset.\", \"Generating individually featurized CV splits.\", \"Beginning model selection.\", \"Best run model explanations started\", \"Model explanations data setup completed\", \"Choosing LightGBM as the surrogate model for explanations\", \"Computation of engineered features started\", \"Computation of engineered features completed\", \"Computation of raw features started\", \"Computation of raw features completed\", \"Best run model explanations completed\"]}]}, {\"name\": \"average_precision_score_weighted\", \"run_id\": \"AutoML_8934d6c4-8831-4d4b-98e5-907b3bdab98d\", \"categories\": [0], \"series\": [{\"data\": [0.9299034435441277]}]}, {\"name\": \"accuracy\", \"run_id\": \"AutoML_8934d6c4-8831-4d4b-98e5-907b3bdab98d\", \"categories\": [0], \"series\": [{\"data\": [0.8831034482758622]}]}, {\"name\": \"recall_score_micro\", \"run_id\": \"AutoML_8934d6c4-8831-4d4b-98e5-907b3bdab98d\", \"categories\": [0], \"series\": [{\"data\": [0.8831034482758622]}]}, {\"name\": \"norm_macro_recall\", \"run_id\": \"AutoML_8934d6c4-8831-4d4b-98e5-907b3bdab98d\", \"categories\": [0], \"series\": [{\"data\": [0.7022372672458486]}]}, {\"name\": \"matthews_correlation\", \"run_id\": \"AutoML_8934d6c4-8831-4d4b-98e5-907b3bdab98d\", \"categories\": [0], \"series\": [{\"data\": [0.7423301682990012]}]}, {\"name\": \"weighted_accuracy\", \"run_id\": \"AutoML_8934d6c4-8831-4d4b-98e5-907b3bdab98d\", \"categories\": [0], \"series\": [{\"data\": [0.9035554026334669]}]}, {\"name\": \"AUC_micro\", \"run_id\": \"AutoML_8934d6c4-8831-4d4b-98e5-907b3bdab98d\", \"categories\": [0], \"series\": [{\"data\": [0.9237253269916765]}]}, {\"name\": \"f1_score_macro\", \"run_id\": \"AutoML_8934d6c4-8831-4d4b-98e5-907b3bdab98d\", \"categories\": [0], \"series\": [{\"data\": [0.8596588655909961]}]}, {\"name\": \"AUC_macro\", \"run_id\": \"AutoML_8934d6c4-8831-4d4b-98e5-907b3bdab98d\", \"categories\": [0], \"series\": [{\"data\": [0.9191387579070645]}]}, {\"name\": \"average_precision_score_macro\", \"run_id\": \"AutoML_8934d6c4-8831-4d4b-98e5-907b3bdab98d\", \"categories\": [0], \"series\": [{\"data\": [0.9077163867341911]}]}, {\"name\": \"f1_score_micro\", \"run_id\": \"AutoML_8934d6c4-8831-4d4b-98e5-907b3bdab98d\", \"categories\": [0], \"series\": [{\"data\": [0.8831034482758622]}]}, {\"name\": \"recall_score_macro\", \"run_id\": \"AutoML_8934d6c4-8831-4d4b-98e5-907b3bdab98d\", \"categories\": [0], \"series\": [{\"data\": [0.8511186336229242]}]}, {\"name\": \"AUC_weighted\", \"run_id\": \"AutoML_8934d6c4-8831-4d4b-98e5-907b3bdab98d\", \"categories\": [0], \"series\": [{\"data\": [0.9191387579070647]}]}, {\"name\": \"precision_score_micro\", \"run_id\": \"AutoML_8934d6c4-8831-4d4b-98e5-907b3bdab98d\", \"categories\": [0], \"series\": [{\"data\": [0.8831034482758622]}]}, {\"name\": \"f1_score_weighted\", \"run_id\": \"AutoML_8934d6c4-8831-4d4b-98e5-907b3bdab98d\", \"categories\": [0], \"series\": [{\"data\": [0.8784478545347623]}]}, {\"name\": \"balanced_accuracy\", \"run_id\": \"AutoML_8934d6c4-8831-4d4b-98e5-907b3bdab98d\", \"categories\": [0], \"series\": [{\"data\": [0.8511186336229242]}]}, {\"name\": \"precision_score_macro\", \"run_id\": \"AutoML_8934d6c4-8831-4d4b-98e5-907b3bdab98d\", \"categories\": [0], \"series\": [{\"data\": [0.8941003107622102]}]}, {\"name\": \"precision_score_weighted\", \"run_id\": \"AutoML_8934d6c4-8831-4d4b-98e5-907b3bdab98d\", \"categories\": [0], \"series\": [{\"data\": [0.8958617020161247]}]}, {\"name\": \"recall_score_weighted\", \"run_id\": \"AutoML_8934d6c4-8831-4d4b-98e5-907b3bdab98d\", \"categories\": [0], \"series\": [{\"data\": [0.8831034482758622]}]}, {\"name\": \"log_loss\", \"run_id\": \"AutoML_8934d6c4-8831-4d4b-98e5-907b3bdab98d\", \"categories\": [0], \"series\": [{\"data\": [0.3830698345834191]}]}, {\"name\": \"average_precision_score_micro\", \"run_id\": \"AutoML_8934d6c4-8831-4d4b-98e5-907b3bdab98d\", \"categories\": [0], \"series\": [{\"data\": [0.9269018734864382]}]}], \"run_logs\": \"\\nRun is completed.\", \"graph\": {}, \"widget_settings\": {\"childWidgetDisplay\": \"popup\", \"send_telemetry\": false, \"log_level\": \"INFO\", \"sdk_version\": \"1.20.0\"}, \"loading\": false}"
     },
     "metadata": {},
     "output_type": "display_data"
    }
   ],
   "source": [
    "from azureml.widgets import RunDetails\n",
    "RunDetails(remote_run).show()"
   ]
  },
  {
   "cell_type": "markdown",
   "metadata": {},
   "source": [
    "## Best Model\n",
    "\n",
    "TODO: In the cell below, get the best model from the automl experiments and display all the properties of the model.\n",
    "\n"
   ]
  },
  {
   "cell_type": "code",
   "execution_count": 22,
   "metadata": {
    "gather": {
     "logged": 1598431425670
    },
    "jupyter": {
     "outputs_hidden": false,
     "source_hidden": false
    },
    "nteract": {
     "transient": {
      "deleting": false
     }
    }
   },
   "outputs": [],
   "source": [
    "#TODO: Save the best model\n",
    "best_run, fitted_model = remote_run.get_output()\n"
   ]
  },
  {
   "cell_type": "code",
   "execution_count": 23,
   "metadata": {},
   "outputs": [
    {
     "name": "stdout",
     "output_type": "stream",
     "text": [
      "Pipeline(memory=None,\n",
      "         steps=[('datatransformer',\n",
      "                 DataTransformer(enable_dnn=None, enable_feature_sweeping=None,\n",
      "                                 feature_sweeping_config=None,\n",
      "                                 feature_sweeping_timeout=None,\n",
      "                                 featurization_config=None, force_text_dnn=None,\n",
      "                                 is_cross_validation=None,\n",
      "                                 is_onnx_compatible=None, logger=None,\n",
      "                                 observer=None, task=None, working_dir=None)),\n",
      "                ('prefittedsoftvotingclassifier',...\n",
      "                                                                                               min_child_weight=1,\n",
      "                                                                                               missing=nan,\n",
      "                                                                                               n_estimators=10,\n",
      "                                                                                               n_jobs=1,\n",
      "                                                                                               nthread=None,\n",
      "                                                                                               objective='reg:logistic',\n",
      "                                                                                               random_state=0,\n",
      "                                                                                               reg_alpha=0,\n",
      "                                                                                               reg_lambda=0.625,\n",
      "                                                                                               scale_pos_weight=1,\n",
      "                                                                                               seed=None,\n",
      "                                                                                               silent=None,\n",
      "                                                                                               subsample=1,\n",
      "                                                                                               tree_method='auto',\n",
      "                                                                                               verbose=-10,\n",
      "                                                                                               verbosity=0))],\n",
      "                                                                     verbose=False))],\n",
      "                                               flatten_transform=None,\n",
      "                                               weights=[0.125, 0.125, 0.125,\n",
      "                                                        0.125, 0.125, 0.125,\n",
      "                                                        0.125, 0.125]))],\n",
      "         verbose=False)\n"
     ]
    }
   ],
   "source": [
    "print(fitted_model)"
   ]
  },
  {
   "cell_type": "code",
   "execution_count": 24,
   "metadata": {},
   "outputs": [
    {
     "name": "stdout",
     "output_type": "stream",
     "text": [
      "Run(Experiment: capstone-Automl,\n",
      "Id: AutoML_8934d6c4-8831-4d4b-98e5-907b3bdab98d_40,\n",
      "Type: azureml.scriptrun,\n",
      "Status: Completed)\n"
     ]
    }
   ],
   "source": [
    "print(best_run)"
   ]
  },
  {
   "cell_type": "code",
   "execution_count": 25,
   "metadata": {},
   "outputs": [
    {
     "name": "stdout",
     "output_type": "stream",
     "text": [
      "{'precision_score_weighted': 0.8958617020161247, 'average_precision_score_micro': 0.9269018734864382, 'AUC_weighted': 0.9191387579070647, 'balanced_accuracy': 0.8511186336229242, 'matthews_correlation': 0.7423301682990012, 'f1_score_weighted': 0.8784478545347623, 'precision_score_macro': 0.8941003107622102, 'precision_score_micro': 0.8831034482758622, 'f1_score_macro': 0.8596588655909961, 'recall_score_weighted': 0.8831034482758622, 'f1_score_micro': 0.8831034482758622, 'weighted_accuracy': 0.9035554026334669, 'log_loss': 0.3830698345834191, 'recall_score_macro': 0.8511186336229242, 'AUC_macro': 0.9191387579070645, 'norm_macro_recall': 0.7022372672458486, 'average_precision_score_weighted': 0.9299034435441277, 'accuracy': 0.8831034482758622, 'average_precision_score_macro': 0.9077163867341911, 'recall_score_micro': 0.8831034482758622, 'AUC_micro': 0.9237253269916765, 'confusion_matrix': 'aml://artifactId/ExperimentRun/dcid.AutoML_8934d6c4-8831-4d4b-98e5-907b3bdab98d_40/confusion_matrix', 'accuracy_table': 'aml://artifactId/ExperimentRun/dcid.AutoML_8934d6c4-8831-4d4b-98e5-907b3bdab98d_40/accuracy_table'}\n"
     ]
    }
   ],
   "source": [
    "best_run_metrics = best_run.get_metrics()\n",
    "print(best_run_metrics)"
   ]
  },
  {
   "cell_type": "markdown",
   "metadata": {},
   "source": [
    "## Model Deployment\n",
    "\n",
    "Remember you have to deploy only one of the two models you trained.. Perform the steps in the rest of this notebook only if you wish to deploy this model.\n",
    "\n",
    "TODO: In the cell below, register the model, create an inference config and deploy the model as a web service."
   ]
  },
  {
   "cell_type": "code",
   "execution_count": 65,
   "metadata": {
    "gather": {
     "logged": 1598431435189
    },
    "jupyter": {
     "outputs_hidden": false,
     "source_hidden": false
    },
    "nteract": {
     "transient": {
      "deleting": false
     }
    }
   },
   "outputs": [],
   "source": [
    "description = 'HearFailure_AutoML_Model'\n",
    "model = remote_run.register_model(description = description)\n"
   ]
  },
  {
   "cell_type": "code",
   "execution_count": 66,
   "metadata": {},
   "outputs": [
    {
     "name": "stdout",
     "output_type": "stream",
     "text": [
      "AutoML8934d6c4840\tAutoML8934d6c4840:3\t3\tHearFailure_AutoML_Model\n"
     ]
    }
   ],
   "source": [
    "print(model.name, model.id, model.version, model.description, sep ='\\t')"
   ]
  },
  {
   "cell_type": "code",
   "execution_count": 67,
   "metadata": {},
   "outputs": [
    {
     "name": "stdout",
     "output_type": "stream",
     "text": [
      "Model(workspace=Workspace.create(name='quick-starts-ws-136287', subscription_id='9b72f9e6-56c5-4c16-991b-19c652994860', resource_group='aml-quickstarts-136287'), name=AutoML8934d6c4840, id=AutoML8934d6c4840:3, version=3, tags={}, properties={})\n"
     ]
    }
   ],
   "source": [
    "print(model)"
   ]
  },
  {
   "cell_type": "code",
   "execution_count": 68,
   "metadata": {},
   "outputs": [
    {
     "name": "stdout",
     "output_type": "stream",
     "text": [
      "Overwriting env.yml\n"
     ]
    }
   ],
   "source": [
    "%%writefile env.yml\n",
    "from azureml.core.environment import Environment\n",
    "from azureml.core.conda_dependencies import CondaDependencies\n",
    "\n",
    "\n",
    "env = Environment.get(ws, \"AzureML-AutoML\")\n",
    "env.inferencing_stack_version='latest'\n",
    "\n",
    "#for pip_package in [\"scikit-learn\"]:\n",
    "#    env.python.conda_dependencies.add_pip_package(pip_package)\n",
    "\n"
   ]
  },
  {
   "cell_type": "code",
   "execution_count": 69,
   "metadata": {},
   "outputs": [],
   "source": [
    "from azureml.core.environment import Environment\n",
    "from azureml.core.conda_dependencies import CondaDependencies\n",
    "\n",
    "\n",
    "env = Environment.get(ws, \"AzureML-AutoML\")\n",
    "env.inferencing_stack_version='latest'"
   ]
  },
  {
   "cell_type": "code",
   "execution_count": 70,
   "metadata": {},
   "outputs": [],
   "source": [
    "from azureml.core.model import InferenceConfig\n",
    "inference_config = InferenceConfig(entry_script='score.py',\n",
    "                                    environment=env)"
   ]
  },
  {
   "cell_type": "code",
   "execution_count": 71,
   "metadata": {},
   "outputs": [
    {
     "name": "stdout",
     "output_type": "stream",
     "text": [
      "Tips: You can try get_logs(): https://aka.ms/debugimage#dockerlog or local deployment: https://aka.ms/debugimage#debug-locally to debug if deployment takes longer than 10 minutes.\n",
      "Running................................................\n",
      "Succeeded\n",
      "ACI service creation operation finished, operation \"Succeeded\"\n",
      "Healthy\n"
     ]
    }
   ],
   "source": [
    "from azureml.core.webservice import AciWebservice \n",
    "from azureml.core import Model\n",
    "\n",
    "dep_cfg = AciWebservice.deploy_configuration(cpu_cores = 1, memory_gb = 1, enable_app_insights= True, auth_enabled= True) \n",
    "\n",
    "webservice = Model.deploy(ws, \"capstone-automl1\", [model], inference_config, dep_cfg)\n",
    "\n",
    "webservice.wait_for_deployment(show_output = True) \n",
    "print(webservice.state) \n"
   ]
  },
  {
   "cell_type": "code",
   "execution_count": 72,
   "metadata": {},
   "outputs": [
    {
     "name": "stdout",
     "output_type": "stream",
     "text": [
      "2021-01-27T19:33:51,882798762+00:00 - gunicorn/run \n",
      "2021-01-27T19:33:51,883033060+00:00 - rsyslog/run \n",
      "2021-01-27T19:33:51,882560864+00:00 - nginx/run \n",
      "2021-01-27T19:33:51,883869453+00:00 - iot-server/run \n",
      "/usr/sbin/nginx: /azureml-envs/azureml_265db83b0c6014ce472c5de2f0b97e04/lib/libcrypto.so.1.0.0: no version information available (required by /usr/sbin/nginx)\n",
      "/usr/sbin/nginx: /azureml-envs/azureml_265db83b0c6014ce472c5de2f0b97e04/lib/libcrypto.so.1.0.0: no version information available (required by /usr/sbin/nginx)\n",
      "/usr/sbin/nginx: /azureml-envs/azureml_265db83b0c6014ce472c5de2f0b97e04/lib/libssl.so.1.0.0: no version information available (required by /usr/sbin/nginx)\n",
      "/usr/sbin/nginx: /azureml-envs/azureml_265db83b0c6014ce472c5de2f0b97e04/lib/libssl.so.1.0.0: no version information available (required by /usr/sbin/nginx)\n",
      "/usr/sbin/nginx: /azureml-envs/azureml_265db83b0c6014ce472c5de2f0b97e04/lib/libssl.so.1.0.0: no version information available (required by /usr/sbin/nginx)\n",
      "rsyslogd: /azureml-envs/azureml_265db83b0c6014ce472c5de2f0b97e04/lib/libuuid.so.1: no version information available (required by rsyslogd)\n",
      "EdgeHubConnectionString and IOTEDGE_IOTHUBHOSTNAME are not set. Exiting...\n",
      "2021-01-27T19:33:51,981748243+00:00 - iot-server/finish 1 0\n",
      "2021-01-27T19:33:51,985950409+00:00 - Exit code 1 is normal. Not restarting iot-server.\n",
      "Starting gunicorn 19.9.0\n",
      "Listening at: http://127.0.0.1:31311 (14)\n",
      "Using worker: sync\n",
      "worker timeout is set to 300\n",
      "Booting worker with pid: 42\n",
      "SPARK_HOME not set. Skipping PySpark Initialization.\n",
      "Generating new fontManager, this may take some time...\n",
      "Initializing logger\n",
      "2021-01-27 19:33:54,317 | root | INFO | Starting up app insights client\n",
      "2021-01-27 19:33:54,317 | root | INFO | Starting up request id generator\n",
      "2021-01-27 19:33:54,317 | root | INFO | Starting up app insight hooks\n",
      "2021-01-27 19:33:54,317 | root | INFO | Invoking user's init function\n",
      "2021-01-27 19:33:55,356 | root | INFO | Users's init has completed successfully\n",
      "2021-01-27 19:33:55,401 | root | INFO | Skipping middleware: dbg_model_info as it's not enabled.\n",
      "2021-01-27 19:33:55,433 | root | INFO | Skipping middleware: dbg_resource_usage as it's not enabled.\n",
      "2021-01-27 19:33:55,434 | root | INFO | Scoring timeout is found from os.environ: 60000 ms\n",
      "2021-01-27 19:34:07,117 | root | INFO | Swagger file not present\n",
      "2021-01-27 19:34:07,117 | root | INFO | 404\n",
      "127.0.0.1 - - [27/Jan/2021:19:34:07 +0000] \"GET /swagger.json HTTP/1.0\" 404 19 \"-\" \"Go-http-client/1.1\"\n",
      "2021-01-27 19:34:11,200 | root | INFO | Swagger file not present\n",
      "2021-01-27 19:34:11,201 | root | INFO | 404\n",
      "127.0.0.1 - - [27/Jan/2021:19:34:11 +0000] \"GET /swagger.json HTTP/1.0\" 404 19 \"-\" \"Go-http-client/1.1\"\n",
      "\n",
      "http://f3a8f194-123f-4f0a-9b1d-825e8e4a8751.southcentralus.azurecontainer.io/score\n",
      "http://f3a8f194-123f-4f0a-9b1d-825e8e4a8751.southcentralus.azurecontainer.io/swagger.json\n"
     ]
    }
   ],
   "source": [
    "print(webservice.get_logs())\n",
    "print(webservice.scoring_uri) \n",
    "print(webservice.swagger_uri)"
   ]
  },
  {
   "cell_type": "markdown",
   "metadata": {
    "collapsed": true,
    "gather": {
     "logged": 1598431657736
    },
    "jupyter": {
     "outputs_hidden": false,
     "source_hidden": false
    },
    "nteract": {
     "transient": {
      "deleting": false
     }
    }
   },
   "source": [
    "TODO: In the cell below, send a request to the web service you deployed to test it."
   ]
  },
  {
   "cell_type": "code",
   "execution_count": 73,
   "metadata": {
    "gather": {
     "logged": 1598432707604
    },
    "jupyter": {
     "outputs_hidden": false,
     "source_hidden": false
    },
    "nteract": {
     "transient": {
      "deleting": false
     }
    }
   },
   "outputs": [],
   "source": [
    "import json\n",
    "\n",
    "\n",
    "input_payload = json.dumps({\n",
    "    'data': dataset_x[0:2].to_dict(orient= 'records')\n",
    "    \n",
    "})\n",
    "\n"
   ]
  },
  {
   "cell_type": "code",
   "execution_count": 74,
   "metadata": {},
   "outputs": [
    {
     "name": "stdout",
     "output_type": "stream",
     "text": [
      "{\"data\": [{\"age\": 75.0, \"anaemia\": 0, \"creatinine_phosphokinase\": 582, \"diabetes\": 0, \"ejection_fraction\": 20, \"high_blood_pressure\": 1, \"platelets\": 265000.0, \"serum_creatinine\": 1.9, \"serum_sodium\": 130, \"sex\": 1, \"smoking\": 0, \"time\": 4}, {\"age\": 55.0, \"anaemia\": 0, \"creatinine_phosphokinase\": 7861, \"diabetes\": 0, \"ejection_fraction\": 38, \"high_blood_pressure\": 0, \"platelets\": 263358.03, \"serum_creatinine\": 1.1, \"serum_sodium\": 136, \"sex\": 1, \"smoking\": 0, \"time\": 6}]}\n"
     ]
    }
   ],
   "source": [
    "print(input_payload)"
   ]
  },
  {
   "cell_type": "code",
   "execution_count": 75,
   "metadata": {},
   "outputs": [
    {
     "name": "stdout",
     "output_type": "stream",
     "text": [
      "[1, 1]\n"
     ]
    }
   ],
   "source": [
    "output = webservice.run(input_payload)\n",
    "print(output)"
   ]
  },
  {
   "cell_type": "markdown",
   "metadata": {
    "collapsed": true,
    "gather": {
     "logged": 1598432765711
    },
    "jupyter": {
     "outputs_hidden": false,
     "source_hidden": false
    },
    "nteract": {
     "transient": {
      "deleting": false
     }
    }
   },
   "source": [
    "TODO: In the cell below, print the logs of the web service and delete the service"
   ]
  },
  {
   "cell_type": "code",
   "execution_count": 76,
   "metadata": {
    "jupyter": {
     "outputs_hidden": false,
     "source_hidden": false
    },
    "nteract": {
     "transient": {
      "deleting": false
     }
    }
   },
   "outputs": [],
   "source": [
    "webservice.delete()"
   ]
  },
  {
   "cell_type": "code",
   "execution_count": 77,
   "metadata": {},
   "outputs": [],
   "source": [
    "compute_target.delete()"
   ]
  },
  {
   "cell_type": "code",
   "execution_count": null,
   "metadata": {},
   "outputs": [],
   "source": []
  }
 ],
 "metadata": {
  "kernel_info": {
   "name": "python3-azureml"
  },
  "kernelspec": {
   "display_name": "Python 3",
   "language": "python",
   "name": "python3"
  },
  "language_info": {
   "codemirror_mode": {
    "name": "ipython",
    "version": 3
   },
   "file_extension": ".py",
   "mimetype": "text/x-python",
   "name": "python",
   "nbconvert_exporter": "python",
   "pygments_lexer": "ipython3",
   "version": "3.6.9"
  },
  "nteract": {
   "version": "nteract-front-end@1.0.0"
  }
 },
 "nbformat": 4,
 "nbformat_minor": 2
}
